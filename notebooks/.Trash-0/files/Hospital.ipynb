{
 "cells": [
  {
   "cell_type": "code",
   "execution_count": 1,
   "id": "a1985a3e-751c-4db3-8bb3-62ce349043d0",
   "metadata": {},
   "outputs": [
    {
     "data": {
      "text/html": [
       "\n",
       "            <div>\n",
       "                <p><b>SparkSession - in-memory</b></p>\n",
       "                \n",
       "        <div>\n",
       "            <p><b>SparkContext</b></p>\n",
       "\n",
       "            <p><a href=\"http://e42252a633ac:4043\">Spark UI</a></p>\n",
       "\n",
       "            <dl>\n",
       "              <dt>Version</dt>\n",
       "                <dd><code>v3.5.6</code></dd>\n",
       "              <dt>Master</dt>\n",
       "                <dd><code>local[*]</code></dd>\n",
       "              <dt>AppName</dt>\n",
       "                <dd><code>PySparkShell</code></dd>\n",
       "            </dl>\n",
       "        </div>\n",
       "        \n",
       "            </div>\n",
       "        "
      ],
      "text/plain": [
       "<pyspark.sql.session.SparkSession at 0x7fd7e4188290>"
      ]
     },
     "execution_count": 1,
     "metadata": {},
     "output_type": "execute_result"
    }
   ],
   "source": [
    "spark"
   ]
  },
  {
   "cell_type": "code",
   "execution_count": 1,
   "id": "dcb9e6da-e985-486a-a291-89a6042bf6ec",
   "metadata": {},
   "outputs": [
    {
     "name": "stderr",
     "output_type": "stream",
     "text": [
      "25/08/11 06:19:07 WARN SparkSession: Using an existing Spark session; only runtime SQL configurations will take effect.\n"
     ]
    },
    {
     "data": {
      "text/html": [
       "<table>\n",
       "    <thead>\n",
       "        <tr>\n",
       "        </tr>\n",
       "    </thead>\n",
       "    <tbody>\n",
       "    </tbody>\n",
       "</table>"
      ],
      "text/plain": [
       "++\n",
       "||\n",
       "++\n",
       "++"
      ]
     },
     "execution_count": 1,
     "metadata": {},
     "output_type": "execute_result"
    }
   ],
   "source": [
    "%%sql\n",
    "\n",
    "create database IF NOT EXISTS Hospital\n"
   ]
  },
  {
   "cell_type": "code",
   "execution_count": 1,
   "id": "7b7266c5-d0c8-42fa-960f-31f9661e5017",
   "metadata": {},
   "outputs": [
    {
     "name": "stderr",
     "output_type": "stream",
     "text": [
      "25/08/12 16:36:04 WARN SparkSession: Using an existing Spark session; only runtime SQL configurations will take effect.\n"
     ]
    },
    {
     "data": {
      "text/html": [
       "<table>\n",
       "    <thead>\n",
       "        <tr>\n",
       "            <th>namespace</th>\n",
       "        </tr>\n",
       "    </thead>\n",
       "    <tbody>\n",
       "        <tr>\n",
       "            <td>coffeeshop</td>\n",
       "        </tr>\n",
       "        <tr>\n",
       "            <td>coffeeshop_medallion</td>\n",
       "        </tr>\n",
       "        <tr>\n",
       "            <td>default</td>\n",
       "        </tr>\n",
       "        <tr>\n",
       "            <td>hospital_medallion</td>\n",
       "        </tr>\n",
       "        <tr>\n",
       "            <td>sample</td>\n",
       "        </tr>\n",
       "        <tr>\n",
       "            <td>Hospital</td>\n",
       "        </tr>\n",
       "        <tr>\n",
       "            <td>test</td>\n",
       "        </tr>\n",
       "    </tbody>\n",
       "</table>"
      ],
      "text/plain": [
       "+----------------------+\n",
       "|            namespace |\n",
       "+----------------------+\n",
       "|           coffeeshop |\n",
       "| coffeeshop_medallion |\n",
       "|              default |\n",
       "|   hospital_medallion |\n",
       "|               sample |\n",
       "|             Hospital |\n",
       "|                 test |\n",
       "+----------------------+"
      ]
     },
     "execution_count": 1,
     "metadata": {},
     "output_type": "execute_result"
    }
   ],
   "source": [
    "%%sql\n",
    "\n",
    "show databases"
   ]
  },
  {
   "cell_type": "code",
   "execution_count": 77,
   "id": "356ec82c-6a7d-495c-a20b-2fa1e5d60edd",
   "metadata": {},
   "outputs": [
    {
     "data": {
      "text/html": [
       "<table>\n",
       "    <thead>\n",
       "        <tr>\n",
       "            <th>namespace</th>\n",
       "        </tr>\n",
       "    </thead>\n",
       "    <tbody>\n",
       "        <tr>\n",
       "            <td>coffeeshop</td>\n",
       "        </tr>\n",
       "        <tr>\n",
       "            <td>coffeeshop_medallion</td>\n",
       "        </tr>\n",
       "        <tr>\n",
       "            <td>default</td>\n",
       "        </tr>\n",
       "        <tr>\n",
       "            <td>hospital_gold</td>\n",
       "        </tr>\n",
       "        <tr>\n",
       "            <td>hospital_medallion</td>\n",
       "        </tr>\n",
       "        <tr>\n",
       "            <td>sample</td>\n",
       "        </tr>\n",
       "        <tr>\n",
       "            <td>Hospital</td>\n",
       "        </tr>\n",
       "        <tr>\n",
       "            <td>test</td>\n",
       "        </tr>\n",
       "    </tbody>\n",
       "</table>"
      ],
      "text/plain": [
       "+----------------------+\n",
       "|            namespace |\n",
       "+----------------------+\n",
       "|           coffeeshop |\n",
       "| coffeeshop_medallion |\n",
       "|              default |\n",
       "|        hospital_gold |\n",
       "|   hospital_medallion |\n",
       "|               sample |\n",
       "|             Hospital |\n",
       "|                 test |\n",
       "+----------------------+"
      ]
     },
     "execution_count": 77,
     "metadata": {},
     "output_type": "execute_result"
    }
   ],
   "source": [
    "%%sql\n",
    "\n",
    "show schemas"
   ]
  },
  {
   "cell_type": "code",
   "execution_count": 1,
   "id": "f0bf5e51-a35e-4158-bffe-e722c9dc7fd0",
   "metadata": {},
   "outputs": [
    {
     "name": "stderr",
     "output_type": "stream",
     "text": [
      "25/08/13 03:09:03 WARN SparkSession: Using an existing Spark session; only runtime SQL configurations will take effect.\n"
     ]
    },
    {
     "data": {
      "text/html": [
       "<table>\n",
       "    <thead>\n",
       "        <tr>\n",
       "        </tr>\n",
       "    </thead>\n",
       "    <tbody>\n",
       "    </tbody>\n",
       "</table>"
      ],
      "text/plain": [
       "++\n",
       "||\n",
       "++\n",
       "++"
      ]
     },
     "execution_count": 1,
     "metadata": {},
     "output_type": "execute_result"
    }
   ],
   "source": [
    "%%sql\n",
    "\n",
    "use Hospital"
   ]
  },
  {
   "cell_type": "code",
   "execution_count": 2,
   "id": "efa0c537-b23c-4f0d-987f-6f0e0696f244",
   "metadata": {},
   "outputs": [
    {
     "data": {
      "text/html": [
       "<table>\n",
       "    <thead>\n",
       "        <tr>\n",
       "            <th>namespace</th>\n",
       "            <th>tableName</th>\n",
       "            <th>isTemporary</th>\n",
       "        </tr>\n",
       "    </thead>\n",
       "    <tbody>\n",
       "        <tr>\n",
       "            <td>hospital_medallion</td>\n",
       "            <td>dictionary_bronze</td>\n",
       "            <td>False</td>\n",
       "        </tr>\n",
       "        <tr>\n",
       "            <td>hospital_medallion</td>\n",
       "            <td>dictionary_silver</td>\n",
       "            <td>False</td>\n",
       "        </tr>\n",
       "        <tr>\n",
       "            <td>hospital_medallion</td>\n",
       "            <td>encounters_bronze</td>\n",
       "            <td>False</td>\n",
       "        </tr>\n",
       "        <tr>\n",
       "            <td>hospital_medallion</td>\n",
       "            <td>encounters_silver</td>\n",
       "            <td>False</td>\n",
       "        </tr>\n",
       "        <tr>\n",
       "            <td>hospital_medallion</td>\n",
       "            <td>organizations_bronze</td>\n",
       "            <td>False</td>\n",
       "        </tr>\n",
       "        <tr>\n",
       "            <td>hospital_medallion</td>\n",
       "            <td>organizations_silver</td>\n",
       "            <td>False</td>\n",
       "        </tr>\n",
       "        <tr>\n",
       "            <td>hospital_medallion</td>\n",
       "            <td>patients_bronze</td>\n",
       "            <td>False</td>\n",
       "        </tr>\n",
       "        <tr>\n",
       "            <td>hospital_medallion</td>\n",
       "            <td>patients_silver</td>\n",
       "            <td>False</td>\n",
       "        </tr>\n",
       "        <tr>\n",
       "            <td>hospital_medallion</td>\n",
       "            <td>payers_bronze</td>\n",
       "            <td>False</td>\n",
       "        </tr>\n",
       "        <tr>\n",
       "            <td>hospital_medallion</td>\n",
       "            <td>payers_silver</td>\n",
       "            <td>False</td>\n",
       "        </tr>\n",
       "        <tr>\n",
       "            <td>hospital_medallion</td>\n",
       "            <td>procedures_bronze</td>\n",
       "            <td>False</td>\n",
       "        </tr>\n",
       "        <tr>\n",
       "            <td>hospital_medallion</td>\n",
       "            <td>procedures_silver</td>\n",
       "            <td>False</td>\n",
       "        </tr>\n",
       "    </tbody>\n",
       "</table>"
      ],
      "text/plain": [
       "+--------------------+----------------------+-------------+\n",
       "|          namespace |            tableName | isTemporary |\n",
       "+--------------------+----------------------+-------------+\n",
       "| hospital_medallion |    dictionary_bronze |       False |\n",
       "| hospital_medallion |    dictionary_silver |       False |\n",
       "| hospital_medallion |    encounters_bronze |       False |\n",
       "| hospital_medallion |    encounters_silver |       False |\n",
       "| hospital_medallion | organizations_bronze |       False |\n",
       "| hospital_medallion | organizations_silver |       False |\n",
       "| hospital_medallion |      patients_bronze |       False |\n",
       "| hospital_medallion |      patients_silver |       False |\n",
       "| hospital_medallion |        payers_bronze |       False |\n",
       "| hospital_medallion |        payers_silver |       False |\n",
       "| hospital_medallion |    procedures_bronze |       False |\n",
       "| hospital_medallion |    procedures_silver |       False |\n",
       "+--------------------+----------------------+-------------+"
      ]
     },
     "execution_count": 2,
     "metadata": {},
     "output_type": "execute_result"
    }
   ],
   "source": [
    "%%sql\n",
    "\n",
    "show tables in hospital_medallion"
   ]
  },
  {
   "cell_type": "code",
   "execution_count": 3,
   "id": "c3eba923-7307-4ee1-b33e-28e0a04c906e",
   "metadata": {},
   "outputs": [
    {
     "name": "stdout",
     "output_type": "stream",
     "text": [
      "Skema DataFrame:\n",
      "root\n",
      " |-- Id: string (nullable = true)\n",
      " |-- BIRTHDATE: date (nullable = true)\n",
      " |-- DEATHDATE: date (nullable = true)\n",
      " |-- PREFIX: string (nullable = true)\n",
      " |-- FIRST: string (nullable = true)\n",
      " |-- LAST: string (nullable = true)\n",
      " |-- SUFFIX: string (nullable = true)\n",
      " |-- MAIDEN: string (nullable = true)\n",
      " |-- MARITAL: string (nullable = true)\n",
      " |-- RACE: string (nullable = true)\n",
      " |-- ETHNICITY: string (nullable = true)\n",
      " |-- GENDER: string (nullable = true)\n",
      " |-- BIRTHPLACE: string (nullable = true)\n",
      " |-- ADDRESS: string (nullable = true)\n",
      " |-- CITY: string (nullable = true)\n",
      " |-- STATE: string (nullable = true)\n",
      " |-- COUNTY: string (nullable = true)\n",
      " |-- ZIP: integer (nullable = true)\n",
      " |-- LAT: double (nullable = true)\n",
      " |-- LON: double (nullable = true)\n",
      "\n",
      "\n",
      "Contoh Data:\n",
      "+--------------------+----------+----------+------+---------+-------------+------+---------+-------+-----+-----------+------+--------------------+--------------------+------+-------------+--------------+----+------------------+------------+\n",
      "|                  Id| BIRTHDATE| DEATHDATE|PREFIX|    FIRST|         LAST|SUFFIX|   MAIDEN|MARITAL| RACE|  ETHNICITY|GENDER|          BIRTHPLACE|             ADDRESS|  CITY|        STATE|        COUNTY| ZIP|               LAT|         LON|\n",
      "+--------------------+----------+----------+------+---------+-------------+------+---------+-------+-----+-----------+------+--------------------+--------------------+------+-------------+--------------+----+------------------+------------+\n",
      "|5605b66b-e92d-c16...|1977-03-19|      NULL|  Mrs.|Nikita578|    Erdman779|  NULL|Leannon79|      M|white|nonhispanic|     F|Wakefield  Massac...|510 Little Statio...|Quincy|Massachusetts|Norfolk County|2186|42.290937381211286|-70.97550306|\n",
      "|6e5ae27c-8038-798...|1940-02-19|      NULL|   Mr.|  Zane918|Hodkiewicz467|  NULL|     NULL|      M|white|nonhispanic|     M|Brookline  Massac...| 747 Conn Throughway|Boston|Massachusetts|Suffolk County|2135|42.308831197562505| -71.0631616|\n",
      "|8123d076-0886-900...|1958-06-04|      NULL|   Mr.| Quinn173| Marquardt819|  NULL|     NULL|      M|white|nonhispanic|     M|Gardner  Massachu...|816 Okuneva Exten...|Quincy|Massachusetts|Norfolk County|2170| 42.26517684888508|-70.96708508|\n",
      "|770518e4-6133-648...|1928-12-25|2017-09-29|   Mr.|  Abel832|   Smitham825|  NULL|     NULL|      M|white|   hispanic|     M|Randolph  Massach...|127 Cole Way Unit 95|Boston|Massachusetts|Suffolk County|2118|42.334303740740594| -71.0668012|\n",
      "|f96addf5-81b9-0aa...|1928-12-25|2014-02-23|   Mr.| Edwin773|   Labadie908|  NULL|     NULL|      M|white|   hispanic|     M|Stow  Massachuset...| 976 Ziemann Gateway|Boston|Massachusetts|Suffolk County|2125|42.346771403899275|-71.05881297|\n",
      "+--------------------+----------+----------+------+---------+-------------+------+---------+-------+-----+-----------+------+--------------------+--------------------+------+-------------+--------------+----+------------------+------------+\n",
      "only showing top 5 rows\n",
      "\n"
     ]
    }
   ],
   "source": [
    "# Tentukan path ke file CSV Anda\n",
    "path_csv = 'hospital/patients.csv'\n",
    "\n",
    "# Baca file CSV ke dalam Spark DataFrame\n",
    "# Spark akan secara otomatis mendeteksi header dan skema data\n",
    "df_patients = spark.read.csv(path_csv, header=True, inferSchema=True)\n",
    "\n",
    "# (Opsional) Tampilkan skema dan beberapa baris data untuk memastikan berhasil\n",
    "print(\"Skema DataFrame:\")\n",
    "df_patients.printSchema()\n",
    "\n",
    "print(\"\\nContoh Data:\")\n",
    "df_patients.show(5)\n",
    "\n",
    "df_patients.createOrReplaceTempView(\"Product\")"
   ]
  },
  {
   "cell_type": "code",
   "execution_count": 4,
   "id": "91a9fdfd-16fb-405b-8676-02db8c2bee90",
   "metadata": {},
   "outputs": [
    {
     "name": "stdout",
     "output_type": "stream",
     "text": [
      "Skema DataFrame:\n",
      "root\n",
      " |-- Id: string (nullable = true)\n",
      " |-- NAME: string (nullable = true)\n",
      " |-- ADDRESS: string (nullable = true)\n",
      " |-- CITY: string (nullable = true)\n",
      " |-- STATE_HEADQUARTERED: string (nullable = true)\n",
      " |-- ZIP: integer (nullable = true)\n",
      " |-- PHONE: string (nullable = true)\n",
      "\n",
      "\n",
      "Contoh Data:\n",
      "+--------------------+--------------------+------------------+----------+-------------------+-----+--------------+\n",
      "|                  Id|                NAME|           ADDRESS|      CITY|STATE_HEADQUARTERED|  ZIP|         PHONE|\n",
      "+--------------------+--------------------+------------------+----------+-------------------+-----+--------------+\n",
      "|b3221cfc-24fb-339...|       Dual Eligible|7500 Security Blvd| Baltimore|                 MD|21244|1-877-267-2323|\n",
      "|7caa7254-5050-3b5...|            Medicare|7500 Security Blvd| Baltimore|                 MD|21244|1-800-633-4227|\n",
      "|7c4411ce-02f1-39b...|            Medicaid|7500 Security Blvd| Baltimore|                 MD|21244|1-877-267-2323|\n",
      "|d47b3510-2895-3b7...|              Humana|  500 West Main St|Louisville|                 KY|40018|1-844-330-7799|\n",
      "|6e2f1a2d-27bd-370...|Blue Cross Blue S...|    Michigan Plaza|   Chicago|                 IL|60007|1-800-262-2583|\n",
      "+--------------------+--------------------+------------------+----------+-------------------+-----+--------------+\n",
      "only showing top 5 rows\n",
      "\n"
     ]
    }
   ],
   "source": [
    "# Tentukan path ke file CSV Anda\n",
    "path_csv = 'hospital/payers.csv'\n",
    "\n",
    "# Baca file CSV ke dalam Spark DataFrame\n",
    "# Spark akan secara otomatis mendeteksi header dan skema data\n",
    "df_payers = spark.read.csv(path_csv, header=True, inferSchema=True)\n",
    "\n",
    "# (Opsional) Tampilkan skema dan beberapa baris data untuk memastikan berhasil\n",
    "print(\"Skema DataFrame:\")\n",
    "df_payers.printSchema()\n",
    "\n",
    "print(\"\\nContoh Data:\")\n",
    "df_payers.show(5)\n",
    "\n",
    "df_payers.createOrReplaceTempView(\"Product\")"
   ]
  },
  {
   "cell_type": "code",
   "execution_count": 5,
   "id": "5218e18d-2b75-4ffc-b060-32d929969f9d",
   "metadata": {},
   "outputs": [
    {
     "name": "stderr",
     "output_type": "stream",
     "text": [
      "                                                                                "
     ]
    },
    {
     "name": "stdout",
     "output_type": "stream",
     "text": [
      "Skema DataFrame:\n",
      "root\n",
      " |-- Id: string (nullable = true)\n",
      " |-- START: timestamp (nullable = true)\n",
      " |-- STOP: timestamp (nullable = true)\n",
      " |-- PATIENT: string (nullable = true)\n",
      " |-- ORGANIZATION: string (nullable = true)\n",
      " |-- PAYER: string (nullable = true)\n",
      " |-- ENCOUNTERCLASS: string (nullable = true)\n",
      " |-- CODE: integer (nullable = true)\n",
      " |-- DESCRIPTION: string (nullable = true)\n",
      " |-- BASE_ENCOUNTER_COST: double (nullable = true)\n",
      " |-- TOTAL_CLAIM_COST: double (nullable = true)\n",
      " |-- PAYER_COVERAGE: double (nullable = true)\n",
      " |-- REASONCODE: long (nullable = true)\n",
      " |-- REASONDESCRIPTION: string (nullable = true)\n",
      "\n",
      "\n",
      "Contoh Data:\n",
      "+--------------------+-------------------+-------------------+--------------------+--------------------+--------------------+--------------+---------+--------------------+-------------------+----------------+--------------+----------+-----------------+\n",
      "|                  Id|              START|               STOP|             PATIENT|        ORGANIZATION|               PAYER|ENCOUNTERCLASS|     CODE|         DESCRIPTION|BASE_ENCOUNTER_COST|TOTAL_CLAIM_COST|PAYER_COVERAGE|REASONCODE|REASONDESCRIPTION|\n",
      "+--------------------+-------------------+-------------------+--------------------+--------------------+--------------------+--------------+---------+--------------------+-------------------+----------------+--------------+----------+-----------------+\n",
      "|32c84703-2481-49c...|2011-01-02 09:26:36|2011-01-02 12:58:36|3de74169-7f67-930...|d78e84ec-30aa-3bb...|b1c428d6-4f07-31e...|    ambulatory|185347001|Encounter for pro...|              85.55|         1018.02|           0.0|      NULL|             NULL|\n",
      "|c98059da-320a-c0a...|2011-01-03 05:44:39|2011-01-03 06:01:42|d9ec2e44-32e9-914...|d78e84ec-30aa-3bb...|b1c428d6-4f07-31e...|    outpatient|308335008|Patient encounter...|             142.58|         2619.36|           0.0|      NULL|             NULL|\n",
      "|4ad28a3a-2479-782...|2011-01-03 14:32:11|2011-01-03 14:47:11|73babadf-5b2b-fee...|d78e84ec-30aa-3bb...|7caa7254-5050-3b5...|    outpatient|185349003|Encounter for che...|              85.55|          461.59|        305.27|      NULL|             NULL|\n",
      "|c3f4da61-e4b4-21d...|2011-01-03 16:24:45|2011-01-03 16:39:45|3b46a0b7-0f34-9b9...|d78e84ec-30aa-3bb...|b1c428d6-4f07-31e...|      wellness|162673000|General examinati...|              136.8|         1784.24|           0.0|      NULL|             NULL|\n",
      "|a9183b4f-2572-72e...|2011-01-03 17:36:53|2011-01-03 17:51:53|fa006887-d93c-d30...|d78e84ec-30aa-3bb...|42c4fca7-f8a9-3cd...|    ambulatory|390906007| Follow-up encounter|              85.55|          234.72|           0.0|  55822004|   Hyperlipidemia|\n",
      "+--------------------+-------------------+-------------------+--------------------+--------------------+--------------------+--------------+---------+--------------------+-------------------+----------------+--------------+----------+-----------------+\n",
      "only showing top 5 rows\n",
      "\n"
     ]
    }
   ],
   "source": [
    "# Tentukan path ke file CSV Anda\n",
    "path_csv = 'hospital/encounters.csv'\n",
    "\n",
    "# Baca file CSV ke dalam Spark DataFrame\n",
    "# Spark akan secara otomatis mendeteksi header dan skema data\n",
    "df_encounters = spark.read.csv(path_csv, header=True, inferSchema=True)\n",
    "\n",
    "# (Opsional) Tampilkan skema dan beberapa baris data untuk memastikan berhasil\n",
    "print(\"Skema DataFrame:\")\n",
    "df_encounters.printSchema()\n",
    "\n",
    "print(\"\\nContoh Data:\")\n",
    "df_encounters.show(5)\n",
    "\n",
    "df_encounters.createOrReplaceTempView(\"Product\")"
   ]
  },
  {
   "cell_type": "code",
   "execution_count": 6,
   "id": "32d0b568-fb84-4272-8bdc-896ac68e8cff",
   "metadata": {},
   "outputs": [
    {
     "name": "stdout",
     "output_type": "stream",
     "text": [
      "Skema DataFrame:\n",
      "root\n",
      " |-- Id: string (nullable = true)\n",
      " |-- NAME: string (nullable = true)\n",
      " |-- ADDRESS: string (nullable = true)\n",
      " |-- CITY: string (nullable = true)\n",
      " |-- STATE: string (nullable = true)\n",
      " |-- ZIP: integer (nullable = true)\n",
      " |-- LAT: double (nullable = true)\n",
      " |-- LON: double (nullable = true)\n",
      "\n",
      "\n",
      "Contoh Data:\n",
      "+--------------------+--------------------+---------------+------+-----+----+---------+----------+\n",
      "|                  Id|                NAME|        ADDRESS|  CITY|STATE| ZIP|      LAT|       LON|\n",
      "+--------------------+--------------------+---------------+------+-----+----+---------+----------+\n",
      "|d78e84ec-30aa-3bb...|MASSACHUSETTS GEN...|55 FRUIT STREET|BOSTON|   MA|2114|42.362813|-71.069187|\n",
      "+--------------------+--------------------+---------------+------+-----+----+---------+----------+\n",
      "\n"
     ]
    }
   ],
   "source": [
    "# Tentukan path ke file CSV Anda\n",
    "path_csv = 'hospital/organizations.csv'\n",
    "\n",
    "# Baca file CSV ke dalam Spark DataFrame\n",
    "# Spark akan secara otomatis mendeteksi header dan skema data\n",
    "df_organizations = spark.read.csv(path_csv, header=True, inferSchema=True)\n",
    "\n",
    "# (Opsional) Tampilkan skema dan beberapa baris data untuk memastikan berhasil\n",
    "print(\"Skema DataFrame:\")\n",
    "df_organizations.printSchema()\n",
    "\n",
    "print(\"\\nContoh Data:\")\n",
    "df_organizations.show(5)\n",
    "\n",
    "df_organizations.createOrReplaceTempView(\"Product\")"
   ]
  },
  {
   "cell_type": "code",
   "execution_count": 7,
   "id": "b8925e83-4bb9-46a0-8431-0369415120ef",
   "metadata": {},
   "outputs": [
    {
     "name": "stdout",
     "output_type": "stream",
     "text": [
      "Skema DataFrame:\n",
      "root\n",
      " |-- START: timestamp (nullable = true)\n",
      " |-- STOP: timestamp (nullable = true)\n",
      " |-- PATIENT: string (nullable = true)\n",
      " |-- ENCOUNTER: string (nullable = true)\n",
      " |-- CODE: long (nullable = true)\n",
      " |-- DESCRIPTION: string (nullable = true)\n",
      " |-- BASE_COST: integer (nullable = true)\n",
      " |-- REASONCODE: long (nullable = true)\n",
      " |-- REASONDESCRIPTION: string (nullable = true)\n",
      "\n",
      "\n",
      "Contoh Data:\n",
      "+-------------------+-------------------+--------------------+--------------------+---------+--------------------+---------+----------+--------------------+\n",
      "|              START|               STOP|             PATIENT|           ENCOUNTER|     CODE|         DESCRIPTION|BASE_COST|REASONCODE|   REASONDESCRIPTION|\n",
      "+-------------------+-------------------+--------------------+--------------------+---------+--------------------+---------+----------+--------------------+\n",
      "|2011-01-02 09:26:36|2011-01-02 12:58:36|3de74169-7f67-930...|32c84703-2481-49c...|265764009|Renal dialysis (p...|      903|      NULL|                NULL|\n",
      "|2011-01-03 05:44:39|2011-01-03 06:01:42|d9ec2e44-32e9-914...|c98059da-320a-c0a...| 76601001|Intramuscular inj...|     2477|      NULL|                NULL|\n",
      "|2011-01-04 14:49:55|2011-01-04 15:04:55|d856d6e6-4c98-e7a...|2cfd4ddd-ad13-fe1...|703423002|Combined chemothe...|    11620| 363406005|Malignant tumor o...|\n",
      "|2011-01-05 04:02:09|2011-01-05 04:17:09|bc9d59c3-0a30-6e3...|17966936-0878-f4d...|173160006|Diagnostic fibero...|     9796| 162573006|Suspected lung ca...|\n",
      "|2011-01-05 12:58:36|2011-01-05 16:42:36|3de74169-7f67-930...|9de5f0b0-4ba4-ce6...|265764009|Renal dialysis (p...|     1255|      NULL|                NULL|\n",
      "+-------------------+-------------------+--------------------+--------------------+---------+--------------------+---------+----------+--------------------+\n",
      "only showing top 5 rows\n",
      "\n"
     ]
    }
   ],
   "source": [
    "# Tentukan path ke file CSV Anda\n",
    "path_csv = 'hospital/procedures.csv'\n",
    "\n",
    "# Baca file CSV ke dalam Spark DataFrame\n",
    "# Spark akan secara otomatis mendeteksi header dan skema data\n",
    "df_procedures = spark.read.csv(path_csv, header=True, inferSchema=True)\n",
    "\n",
    "# (Opsional) Tampilkan skema dan beberapa baris data untuk memastikan berhasil\n",
    "print(\"Skema DataFrame:\")\n",
    "df_procedures.printSchema()\n",
    "\n",
    "print(\"\\nContoh Data:\")\n",
    "df_procedures.show(5)\n",
    "\n",
    "df_procedures.createOrReplaceTempView(\"Product\")"
   ]
  },
  {
   "cell_type": "code",
   "execution_count": 8,
   "id": "ce23f291-e951-417a-985e-5dfd8899724b",
   "metadata": {},
   "outputs": [
    {
     "name": "stdout",
     "output_type": "stream",
     "text": [
      "Skema DataFrame:\n",
      "root\n",
      " |-- Table: string (nullable = true)\n",
      " |-- Field: string (nullable = true)\n",
      " |-- Description: string (nullable = true)\n",
      "\n",
      "\n",
      "Contoh Data:\n",
      "+----------+-------+--------------------+\n",
      "|     Table|  Field|         Description|\n",
      "+----------+-------+--------------------+\n",
      "|encounters|   NULL|Patient encounter...|\n",
      "|encounters|     Id|Primary Key. Uniq...|\n",
      "|encounters|  Start|The date and time...|\n",
      "|encounters|   Stop|The date and time...|\n",
      "|encounters|Patient|Foreign key to th...|\n",
      "+----------+-------+--------------------+\n",
      "only showing top 5 rows\n",
      "\n"
     ]
    }
   ],
   "source": [
    "# Tentukan path ke file CSV Anda\n",
    "path_csv = 'hospital/data_dictionary.csv'\n",
    "\n",
    "# Baca file CSV ke dalam Spark DataFrame\n",
    "# Spark akan secara otomatis mendeteksi header dan skema data\n",
    "df_dictionary = spark.read.csv(path_csv, header=True, inferSchema=True)\n",
    "\n",
    "# (Opsional) Tampilkan skema dan beberapa baris data untuk memastikan berhasil\n",
    "print(\"Skema DataFrame:\")\n",
    "df_dictionary.printSchema()\n",
    "\n",
    "print(\"\\nContoh Data:\")\n",
    "df_dictionary.show(5)\n",
    "\n",
    "df_dictionary.createOrReplaceTempView(\"Product\")"
   ]
  },
  {
   "cell_type": "code",
   "execution_count": 11,
   "id": "39f8e370-0fa8-48b9-9b55-c41e01f0f071",
   "metadata": {},
   "outputs": [
    {
     "data": {
      "text/html": [
       "<table>\n",
       "    <thead>\n",
       "        <tr>\n",
       "        </tr>\n",
       "    </thead>\n",
       "    <tbody>\n",
       "    </tbody>\n",
       "</table>"
      ],
      "text/plain": [
       "++\n",
       "||\n",
       "++\n",
       "++"
      ]
     },
     "execution_count": 11,
     "metadata": {},
     "output_type": "execute_result"
    }
   ],
   "source": [
    "%%sql\n",
    "\n",
    "create schema if not exists hospital_medallion"
   ]
  },
  {
   "cell_type": "markdown",
   "id": "d6ebb43e-6505-4a26-a4c3-8638e6f96af4",
   "metadata": {},
   "source": [
    "# Table (Bronze)"
   ]
  },
  {
   "cell_type": "code",
   "execution_count": 59,
   "id": "c1ba2539-9e6f-4a3b-b39f-935d09e5b2f3",
   "metadata": {
    "scrolled": true
   },
   "outputs": [
    {
     "data": {
      "text/html": [
       "<table>\n",
       "    <thead>\n",
       "        <tr>\n",
       "        </tr>\n",
       "    </thead>\n",
       "    <tbody>\n",
       "    </tbody>\n",
       "</table>"
      ],
      "text/plain": [
       "++\n",
       "||\n",
       "++\n",
       "++"
      ]
     },
     "execution_count": 59,
     "metadata": {},
     "output_type": "execute_result"
    }
   ],
   "source": [
    "%%sql\n",
    "CREATE TABLE\n",
    "  if NOT EXISTS hospital_medallion.patients_bronze (\n",
    "        Id string,\n",
    "        BIRTHDATE date,\n",
    "        DEATHDATE date,\n",
    "        PREFIX string,\n",
    "        FIRST string,\n",
    "        LAST string,\n",
    "        SUFFIX string,\n",
    "        MAIDEN string,\n",
    "        MARITAL string,\n",
    "        RACE string,\n",
    "        ETHNICITY string,\n",
    "        GENDER string,\n",
    "        BIRTHPLACE string,\n",
    "        ADDRESS string,\n",
    "        CITY string,\n",
    "        STATE string,\n",
    "        COUNTY string,\n",
    "        ZIP integer,\n",
    "        LAT double,\n",
    "        LON double\n",
    "  )"
   ]
  },
  {
   "cell_type": "code",
   "execution_count": 60,
   "id": "e925a67e-c871-4ba4-afb7-9cb6be8d252e",
   "metadata": {},
   "outputs": [
    {
     "data": {
      "text/html": [
       "<table>\n",
       "    <thead>\n",
       "        <tr>\n",
       "        </tr>\n",
       "    </thead>\n",
       "    <tbody>\n",
       "    </tbody>\n",
       "</table>"
      ],
      "text/plain": [
       "++\n",
       "||\n",
       "++\n",
       "++"
      ]
     },
     "execution_count": 60,
     "metadata": {},
     "output_type": "execute_result"
    }
   ],
   "source": [
    "%%sql\n",
    "CREATE TABLE\n",
    "  if NOT EXISTS hospital_medallion.payers_bronze (\n",
    "        Id string,\n",
    "        NAME string,\n",
    "        ADDRESS string,\n",
    "        CITY string,\n",
    "        STATE_HEADQUARTERED string,\n",
    "        ZIP integer,\n",
    "        PHONE string\n",
    ")"
   ]
  },
  {
   "cell_type": "code",
   "execution_count": 61,
   "id": "cf5cc72d-049b-4764-a700-7b1f12c2c816",
   "metadata": {},
   "outputs": [
    {
     "data": {
      "text/html": [
       "<table>\n",
       "    <thead>\n",
       "        <tr>\n",
       "        </tr>\n",
       "    </thead>\n",
       "    <tbody>\n",
       "    </tbody>\n",
       "</table>"
      ],
      "text/plain": [
       "++\n",
       "||\n",
       "++\n",
       "++"
      ]
     },
     "execution_count": 61,
     "metadata": {},
     "output_type": "execute_result"
    }
   ],
   "source": [
    "%%sql\n",
    "CREATE TABLE\n",
    "  if NOT EXISTS hospital_medallion.encounters_bronze (\n",
    "        Id string,\n",
    "        START timestamp,\n",
    "        STOP timestamp,\n",
    "        PATIENT string,\n",
    "        ORGANIZATION string,\n",
    "        PAYER string,\n",
    "        ENCOUNTERCLASS string,\n",
    "        CODE integer,\n",
    "        DESCRIPTION string,\n",
    "        BASE_ENCOUNTER_COST double,\n",
    "        TOTAL_CLAIM_COST double,\n",
    "        PAYER_COVERAGE double,\n",
    "        REASONCODE long,\n",
    "        REASONDESCRIPTION string\n",
    ")"
   ]
  },
  {
   "cell_type": "code",
   "execution_count": 62,
   "id": "44426af2-65fc-48d0-a555-b0961cc27d77",
   "metadata": {},
   "outputs": [
    {
     "data": {
      "text/html": [
       "<table>\n",
       "    <thead>\n",
       "        <tr>\n",
       "        </tr>\n",
       "    </thead>\n",
       "    <tbody>\n",
       "    </tbody>\n",
       "</table>"
      ],
      "text/plain": [
       "++\n",
       "||\n",
       "++\n",
       "++"
      ]
     },
     "execution_count": 62,
     "metadata": {},
     "output_type": "execute_result"
    }
   ],
   "source": [
    "%%sql\n",
    "CREATE TABLE\n",
    "  if NOT EXISTS hospital_medallion.organizations_bronze (\n",
    "        Id string,\n",
    "        NAME string,\n",
    "        ADDRESS string,\n",
    "        CITY string,\n",
    "        STATE string,\n",
    "        ZIP integer,\n",
    "        LAT double,\n",
    "        LON double\n",
    ")"
   ]
  },
  {
   "cell_type": "code",
   "execution_count": 63,
   "id": "7d329502-c472-48c2-8181-5193f83d853d",
   "metadata": {},
   "outputs": [
    {
     "data": {
      "text/html": [
       "<table>\n",
       "    <thead>\n",
       "        <tr>\n",
       "        </tr>\n",
       "    </thead>\n",
       "    <tbody>\n",
       "    </tbody>\n",
       "</table>"
      ],
      "text/plain": [
       "++\n",
       "||\n",
       "++\n",
       "++"
      ]
     },
     "execution_count": 63,
     "metadata": {},
     "output_type": "execute_result"
    }
   ],
   "source": [
    "%%sql\n",
    "CREATE TABLE\n",
    "  if NOT EXISTS hospital_medallion.procedures_bronze (\n",
    "        START timestamp,\n",
    "        STOP timestamp,\n",
    "        PATIENT string,\n",
    "        ENCOUNTER string,\n",
    "        CODE long,\n",
    "        DESCRIPTION string,\n",
    "        BASE_COST integer,\n",
    "        REASONCODE long,\n",
    "        REASONDESCRIPTION string\n",
    ")"
   ]
  },
  {
   "cell_type": "code",
   "execution_count": 64,
   "id": "69fca9bb-697a-4475-960b-6de3db3ad01a",
   "metadata": {},
   "outputs": [
    {
     "data": {
      "text/html": [
       "<table>\n",
       "    <thead>\n",
       "        <tr>\n",
       "        </tr>\n",
       "    </thead>\n",
       "    <tbody>\n",
       "    </tbody>\n",
       "</table>"
      ],
      "text/plain": [
       "++\n",
       "||\n",
       "++\n",
       "++"
      ]
     },
     "execution_count": 64,
     "metadata": {},
     "output_type": "execute_result"
    }
   ],
   "source": [
    "%%sql\n",
    "CREATE TABLE\n",
    "  if NOT EXISTS hospital_medallion.dictionary_bronze (\n",
    "        Table string,\n",
    "        Field string,\n",
    "        Description string\n",
    ")"
   ]
  },
  {
   "cell_type": "code",
   "execution_count": 65,
   "id": "27485a74-8217-4c73-a9c1-fe8606f0252a",
   "metadata": {},
   "outputs": [
    {
     "data": {
      "text/html": [
       "<table>\n",
       "    <thead>\n",
       "        <tr>\n",
       "            <th>namespace</th>\n",
       "            <th>tableName</th>\n",
       "            <th>isTemporary</th>\n",
       "        </tr>\n",
       "    </thead>\n",
       "    <tbody>\n",
       "        <tr>\n",
       "            <td>hospital_medallion</td>\n",
       "            <td>dictionary_bronze</td>\n",
       "            <td>False</td>\n",
       "        </tr>\n",
       "        <tr>\n",
       "            <td>hospital_medallion</td>\n",
       "            <td>encounters_bronze</td>\n",
       "            <td>False</td>\n",
       "        </tr>\n",
       "        <tr>\n",
       "            <td>hospital_medallion</td>\n",
       "            <td>organizations_bronze</td>\n",
       "            <td>False</td>\n",
       "        </tr>\n",
       "        <tr>\n",
       "            <td>hospital_medallion</td>\n",
       "            <td>patients_bronze</td>\n",
       "            <td>False</td>\n",
       "        </tr>\n",
       "        <tr>\n",
       "            <td>hospital_medallion</td>\n",
       "            <td>payers_bronze</td>\n",
       "            <td>False</td>\n",
       "        </tr>\n",
       "        <tr>\n",
       "            <td>hospital_medallion</td>\n",
       "            <td>procedures_bronze</td>\n",
       "            <td>False</td>\n",
       "        </tr>\n",
       "    </tbody>\n",
       "</table>"
      ],
      "text/plain": [
       "+--------------------+----------------------+-------------+\n",
       "|          namespace |            tableName | isTemporary |\n",
       "+--------------------+----------------------+-------------+\n",
       "| hospital_medallion |    dictionary_bronze |       False |\n",
       "| hospital_medallion |    encounters_bronze |       False |\n",
       "| hospital_medallion | organizations_bronze |       False |\n",
       "| hospital_medallion |      patients_bronze |       False |\n",
       "| hospital_medallion |        payers_bronze |       False |\n",
       "| hospital_medallion |    procedures_bronze |       False |\n",
       "+--------------------+----------------------+-------------+"
      ]
     },
     "execution_count": 65,
     "metadata": {},
     "output_type": "execute_result"
    }
   ],
   "source": [
    "%%sql\n",
    "\n",
    "show tables in hospital_medallion"
   ]
  },
  {
   "cell_type": "markdown",
   "id": "45ca0316-6332-4593-931a-f2849a9c6232",
   "metadata": {},
   "source": [
    "# Medallion (Bronze)"
   ]
  },
  {
   "cell_type": "code",
   "execution_count": 9,
   "id": "d879aac7-bacb-4a17-9b0f-299512207ad0",
   "metadata": {},
   "outputs": [],
   "source": [
    "brz_patients = df_patients\n",
    "brz_payers = df_payers\n",
    "brz_procedures = df_procedures\n",
    "brz_encounters = df_encounters\n",
    "brz_organizations = df_organizations\n",
    "brz_dictonary = df_dictionary"
   ]
  },
  {
   "cell_type": "code",
   "execution_count": 10,
   "id": "b1790f61-6116-4d58-a3a1-60329573fdd1",
   "metadata": {},
   "outputs": [
    {
     "name": "stdout",
     "output_type": "stream",
     "text": [
      "+--------------------+----------+----------+------+------------+--------------+------+-----------+-------+------+-----------+------+--------------------+--------------------+----------+-------------+----------------+----+------------------+------------+\n",
      "|                  Id| BIRTHDATE| DEATHDATE|PREFIX|       FIRST|          LAST|SUFFIX|     MAIDEN|MARITAL|  RACE|  ETHNICITY|GENDER|          BIRTHPLACE|             ADDRESS|      CITY|        STATE|          COUNTY| ZIP|               LAT|         LON|\n",
      "+--------------------+----------+----------+------+------------+--------------+------+-----------+-------+------+-----------+------+--------------------+--------------------+----------+-------------+----------------+----+------------------+------------+\n",
      "|5605b66b-e92d-c16...|1977-03-19|      NULL|  Mrs.|   Nikita578|     Erdman779|  NULL|  Leannon79|      M| white|nonhispanic|     F|Wakefield  Massac...|510 Little Statio...|    Quincy|Massachusetts|  Norfolk County|2186|42.290937381211286|-70.97550306|\n",
      "|6e5ae27c-8038-798...|1940-02-19|      NULL|   Mr.|     Zane918| Hodkiewicz467|  NULL|       NULL|      M| white|nonhispanic|     M|Brookline  Massac...| 747 Conn Throughway|    Boston|Massachusetts|  Suffolk County|2135|42.308831197562505| -71.0631616|\n",
      "|8123d076-0886-900...|1958-06-04|      NULL|   Mr.|    Quinn173|  Marquardt819|  NULL|       NULL|      M| white|nonhispanic|     M|Gardner  Massachu...|816 Okuneva Exten...|    Quincy|Massachusetts|  Norfolk County|2170| 42.26517684888508|-70.96708508|\n",
      "|770518e4-6133-648...|1928-12-25|2017-09-29|   Mr.|     Abel832|    Smitham825|  NULL|       NULL|      M| white|   hispanic|     M|Randolph  Massach...|127 Cole Way Unit 95|    Boston|Massachusetts|  Suffolk County|2118|42.334303740740594| -71.0668012|\n",
      "|f96addf5-81b9-0aa...|1928-12-25|2014-02-23|   Mr.|    Edwin773|    Labadie908|  NULL|       NULL|      M| white|   hispanic|     M|Stow  Massachuset...| 976 Ziemann Gateway|    Boston|Massachusetts|  Suffolk County|2125|42.346771403899275|-71.05881297|\n",
      "|8e9650d1-788a-78f...|1928-12-25|      NULL|   Mr.|  Frankie174|Oberbrunner298|  NULL|       NULL|      M| white|   hispanic|     M|Boston  Massachus...|303 Bechtelar Byp...|    Boston|Massachusetts|  Suffolk County|2467|       42.37102647|-71.11810672|\n",
      "|183df435-4190-060...|1957-11-08|      NULL|  Mrs.|   Eilene124|      Walsh511|  NULL| Wiegand701|      M| asian|nonhispanic|     F|Beijing  Beijing ...|     235 Lang Parade| Cambridge|Massachusetts|Middlesex County|2142| 42.35892760552785|-71.15622361|\n",
      "|720560d4-51da-c38...|1972-06-27|      NULL|   Mr.|   Lowell343|      Price929|  NULL|       NULL|      M| white|nonhispanic|     M|Lowell  Massachus...|694 Kuhlman Corne...|    Quincy|Massachusetts|  Norfolk County|2170|42.297903944576696|-71.01598304|\n",
      "|217851b0-5f47-d37...|1954-03-06|      NULL|   Mr.|   Adrian111|    Gleason633|  NULL|       NULL|      S| black|   hispanic|     M|Boston  Massachus...|   808 Gottlieb Wall|    Boston|Massachusetts|  Suffolk County|2126| 42.38408414202098| -71.1006892|\n",
      "|ff331e5c-ab16-e21...|1927-07-10|      NULL|   Mr.|   Eugene421|  Abernathy524|  NULL|       NULL|      M|native|   hispanic|     M|Pembroke  Massach...|706 Connelly Trac...|    Boston|Massachusetts|  Suffolk County|2111|42.358519313454885|-71.07859759|\n",
      "|affa7bf1-f4fc-d3f...|1933-05-08|      NULL|   Mr.|      Jay242|     Wisozk929|  NULL|       NULL|      M| white|nonhispanic|     M|Boston  Massachus...|    471 Borer Estate|    Boston|Massachusetts|  Suffolk County|2124| 42.32018629385089|-71.14569272|\n",
      "|becb15c3-a135-8fb...|1948-05-30|      NULL|  Mrs.|Stephanie963|     Douglas31|  NULL|Predovic534|      M| white|nonhispanic|     F|Amesbury  Massach...|   345 Carter Hollow|    Boston|Massachusetts|  Suffolk County|2132|       42.34832748|-71.09646633|\n",
      "|a8ceba15-ef47-da9...|1971-10-27|2021-03-26|  Mrs.|   Helene803|    Kilback373|  NULL|  Walker122|      M| white|   hispanic|     F|New Bedford  Mass...|865 McLaughlin Un...|    Boston|Massachusetts|  Suffolk County|2114| 42.34049480617021|-71.10111729|\n",
      "|0e02b297-527d-b5e...|1983-04-11|      NULL|   Mr.|    Maria750|    Waelchi213|  NULL|       NULL|      M| black|nonhispanic|     M|Salem  Massachuse...|584 Cormier Lodge...|Somerville|Massachusetts|Middlesex County|2145| 42.34629011328354|-71.10642736|\n",
      "|f2203fd5-1a2c-60c...|1939-09-21|      NULL|  Mrs.|     Edra310|     Wehner319|  NULL|   Upton904|      M| white|nonhispanic|     F|Fairhaven  Massac...|538 Hilpert Estat...|    Boston|Massachusetts|  Suffolk County|2131| 42.33537460452552|-71.05849869|\n",
      "|4d55540d-c43d-e6e...|1964-10-15|      NULL|  Mrs.|   Mickie472|   Champlin946|  NULL| Hermann103|      M| white|nonhispanic|     F|Chelsea  Massachu...|1092 Schoen Grove...|    Boston|Massachusetts|  Suffolk County|2119|42.340495535169836| -71.0654866|\n",
      "|07e7f8a0-1bfd-3af...|1923-03-16|      NULL|   Ms.|    Norah104|      Feeney44|  NULL|       NULL|      S| white|nonhispanic|     F|Oxford  Massachus...|    865 Pollich Rest|    Boston|Massachusetts|  Suffolk County|2125| 42.36743841892837|-71.01451077|\n",
      "|6746a7c0-1335-90e...|1979-06-16|      NULL|   Mr.|  Edgardo196|    Okuneva707|  NULL|       NULL|      S| black|nonhispanic|     M|Waltham  Massachu...|947 Eichmann Boul...|    Revere|Massachusetts|  Suffolk County|2151| 42.38943374736875|-70.99622431|\n",
      "|733678d5-4ba7-d46...|1981-02-17|      NULL|   Mr.|    Allen322|     Schumm995|  NULL|       NULL|      M| white|nonhispanic|     M|Haverhill  Massac...|  425 Lang Boulevard|    Quincy|Massachusetts|  Norfolk County|2169| 42.30327969256278| -70.9740781|\n",
      "|5bd6c434-6f51-6e5...|1931-12-18|      NULL|  Mrs.|    Celia938|     Carter549|  NULL|   Crona259|      M| asian|nonhispanic|     F|Attleboro  Massac...|773 Weissnat Rout...|    Boston|Massachusetts|  Suffolk County|2111| 42.32476069440513| -70.9989431|\n",
      "+--------------------+----------+----------+------+------------+--------------+------+-----------+-------+------+-----------+------+--------------------+--------------------+----------+-------------+----------------+----+------------------+------------+\n",
      "only showing top 20 rows\n",
      "\n"
     ]
    }
   ],
   "source": [
    "brz_patients.show()"
   ]
  },
  {
   "cell_type": "code",
   "execution_count": 67,
   "id": "040ea6b2-61e3-4cf0-8c2d-78bcf15b670c",
   "metadata": {},
   "outputs": [],
   "source": [
    "brz_patients.write.insertInto(\"hospital_medallion.patients_bronze\")\n",
    "brz_payers.write.insertInto(\"hospital_medallion.payers_bronze\")\n",
    "brz_procedures.write.insertInto(\"hospital_medallion.procedures_bronze\")\n",
    "brz_encounters.write.insertInto(\"hospital_medallion.encounters_bronze\")\n",
    "brz_organizations.write.insertInto(\"hospital_medallion.organizations_bronze\")\n",
    "brz_dictonary.write.insertInto(\"hospital_medallion.dictionary_bronze\")"
   ]
  },
  {
   "cell_type": "code",
   "execution_count": 69,
   "id": "411d6a79-7c06-4a4b-a259-877d52385708",
   "metadata": {},
   "outputs": [
    {
     "data": {
      "text/html": [
       "<table>\n",
       "    <thead>\n",
       "        <tr>\n",
       "            <th>namespace</th>\n",
       "            <th>tableName</th>\n",
       "            <th>isTemporary</th>\n",
       "        </tr>\n",
       "    </thead>\n",
       "    <tbody>\n",
       "        <tr>\n",
       "            <td>hospital_medallion</td>\n",
       "            <td>dictionary_bronze</td>\n",
       "            <td>False</td>\n",
       "        </tr>\n",
       "        <tr>\n",
       "            <td>hospital_medallion</td>\n",
       "            <td>encounters_bronze</td>\n",
       "            <td>False</td>\n",
       "        </tr>\n",
       "        <tr>\n",
       "            <td>hospital_medallion</td>\n",
       "            <td>organizations_bronze</td>\n",
       "            <td>False</td>\n",
       "        </tr>\n",
       "        <tr>\n",
       "            <td>hospital_medallion</td>\n",
       "            <td>patients_bronze</td>\n",
       "            <td>False</td>\n",
       "        </tr>\n",
       "        <tr>\n",
       "            <td>hospital_medallion</td>\n",
       "            <td>payers_bronze</td>\n",
       "            <td>False</td>\n",
       "        </tr>\n",
       "        <tr>\n",
       "            <td>hospital_medallion</td>\n",
       "            <td>procedures_bronze</td>\n",
       "            <td>False</td>\n",
       "        </tr>\n",
       "    </tbody>\n",
       "</table>"
      ],
      "text/plain": [
       "+--------------------+----------------------+-------------+\n",
       "|          namespace |            tableName | isTemporary |\n",
       "+--------------------+----------------------+-------------+\n",
       "| hospital_medallion |    dictionary_bronze |       False |\n",
       "| hospital_medallion |    encounters_bronze |       False |\n",
       "| hospital_medallion | organizations_bronze |       False |\n",
       "| hospital_medallion |      patients_bronze |       False |\n",
       "| hospital_medallion |        payers_bronze |       False |\n",
       "| hospital_medallion |    procedures_bronze |       False |\n",
       "+--------------------+----------------------+-------------+"
      ]
     },
     "execution_count": 69,
     "metadata": {},
     "output_type": "execute_result"
    }
   ],
   "source": [
    "%%sql\n",
    "\n",
    "show tables in hospital_medallion"
   ]
  },
  {
   "cell_type": "markdown",
   "id": "6f6cd419-293d-4860-9391-bd2918c3da37",
   "metadata": {},
   "source": [
    "# Medallion (Silver)"
   ]
  },
  {
   "cell_type": "markdown",
   "id": "e9ede551-6174-4557-bf41-19997c7eb5ef",
   "metadata": {
    "jp-MarkdownHeadingCollapsed": true
   },
   "source": [
    "# mengecheck data null"
   ]
  },
  {
   "cell_type": "code",
   "execution_count": 11,
   "id": "ad56fba7-6fb8-499e-a135-fc2b4e08b465",
   "metadata": {},
   "outputs": [],
   "source": [
    "from pyspark.sql import functions as F"
   ]
  },
  {
   "cell_type": "code",
   "execution_count": 15,
   "id": "8c1cfc83-45dc-467d-9819-75df5ab74ac3",
   "metadata": {},
   "outputs": [
    {
     "name": "stdout",
     "output_type": "stream",
     "text": [
      "+---+---------+---------+------+-----+----+------+------+-------+----+---------+------+----------+-------+----+-----+------+---+---+---+\n",
      "| Id|BIRTHDATE|DEATHDATE|PREFIX|FIRST|LAST|SUFFIX|MAIDEN|MARITAL|RACE|ETHNICITY|GENDER|BIRTHPLACE|ADDRESS|CITY|STATE|COUNTY|ZIP|LAT|LON|\n",
      "+---+---------+---------+------+-----+----+------+------+-------+----+---------+------+----------+-------+----+-----+------+---+---+---+\n",
      "|  0|        0|      820|     0|    0|   0|   953|   588|      1|   0|        0|     0|         0|      0|   0|    0|     0|142|  0|  0|\n",
      "+---+---------+---------+------+-----+----+------+------+-------+----+---------+------+----------+-------+----+-----+------+---+---+---+\n",
      "\n"
     ]
    }
   ],
   "source": [
    "jumlah_null = brz_patients.select(\n",
    "    [F.sum(F.when(F.col(c).isNull(), 1).otherwise(0)).alias(c) for c in brz_patients.columns]\n",
    ")\n",
    "\n",
    "jumlah_null.show()"
   ]
  },
  {
   "cell_type": "code",
   "execution_count": 16,
   "id": "412e0ba4-632f-4ab6-bd8f-00cefdf48aff",
   "metadata": {},
   "outputs": [
    {
     "name": "stdout",
     "output_type": "stream",
     "text": [
      "+---+----+-------+----+-------------------+---+-----+\n",
      "| Id|NAME|ADDRESS|CITY|STATE_HEADQUARTERED|ZIP|PHONE|\n",
      "+---+----+-------+----+-------------------+---+-----+\n",
      "|  0|   0|      1|   1|                  1|  1|    1|\n",
      "+---+----+-------+----+-------------------+---+-----+\n",
      "\n"
     ]
    }
   ],
   "source": [
    "jumlah_null = brz_payers.select(\n",
    "    [F.sum(F.when(F.col(c).isNull(), 1).otherwise(0)).alias(c) for c in brz_payers.columns]\n",
    ")\n",
    "\n",
    "jumlah_null.show()"
   ]
  },
  {
   "cell_type": "code",
   "execution_count": 17,
   "id": "b58c398d-9cb3-481b-b24d-270ba52cd474",
   "metadata": {},
   "outputs": [
    {
     "name": "stdout",
     "output_type": "stream",
     "text": [
      "+-----+----+-------+---------+----+-----------+---------+----------+-----------------+\n",
      "|START|STOP|PATIENT|ENCOUNTER|CODE|DESCRIPTION|BASE_COST|REASONCODE|REASONDESCRIPTION|\n",
      "+-----+----+-------+---------+----+-----------+---------+----------+-----------------+\n",
      "|    0|   0|      0|        0|   0|          0|        0|     36945|            36945|\n",
      "+-----+----+-------+---------+----+-----------+---------+----------+-----------------+\n",
      "\n"
     ]
    }
   ],
   "source": [
    "jumlah_null = brz_procedures.select(\n",
    "    [F.sum(F.when(F.col(c).isNull(), 1).otherwise(0)).alias(c) for c in brz_procedures.columns]\n",
    ")\n",
    "\n",
    "jumlah_null.show()"
   ]
  },
  {
   "cell_type": "code",
   "execution_count": 20,
   "id": "a69d1e37-ad77-4aa7-83cb-81ea3caadc01",
   "metadata": {},
   "outputs": [
    {
     "name": "stdout",
     "output_type": "stream",
     "text": [
      "+---+----+-------+----+-----+---+---+---+\n",
      "| Id|NAME|ADDRESS|CITY|STATE|ZIP|LAT|LON|\n",
      "+---+----+-------+----+-----+---+---+---+\n",
      "|  0|   0|      0|   0|    0|  0|  0|  0|\n",
      "+---+----+-------+----+-----+---+---+---+\n",
      "\n"
     ]
    }
   ],
   "source": [
    "jumlah_null = brz_organizations.select(\n",
    "    [F.sum(F.when(F.col(c).isNull(), 1).otherwise(0)).alias(c) for c in brz_organizations.columns]\n",
    ")\n",
    "\n",
    "jumlah_null.show()"
   ]
  },
  {
   "cell_type": "code",
   "execution_count": 21,
   "id": "d9effb02-081f-4a3a-bca2-22e3a90a0386",
   "metadata": {},
   "outputs": [
    {
     "name": "stdout",
     "output_type": "stream",
     "text": [
      "+---+-----+----+-------+------------+-----+--------------+----+-----------+-------------------+----------------+--------------+----------+-----------------+\n",
      "| Id|START|STOP|PATIENT|ORGANIZATION|PAYER|ENCOUNTERCLASS|CODE|DESCRIPTION|BASE_ENCOUNTER_COST|TOTAL_CLAIM_COST|PAYER_COVERAGE|REASONCODE|REASONDESCRIPTION|\n",
      "+---+-----+----+-------+------------+-----+--------------+----+-----------+-------------------+----------------+--------------+----------+-----------------+\n",
      "|  0|    0|   0|      0|           0|    0|             0|   0|          0|                  0|               0|             0|     19541|            19541|\n",
      "+---+-----+----+-------+------------+-----+--------------+----+-----------+-------------------+----------------+--------------+----------+-----------------+\n",
      "\n"
     ]
    }
   ],
   "source": [
    "jumlah_null = brz_encounters.select(\n",
    "    [F.sum(F.when(F.col(c).isNull(), 1).otherwise(0)).alias(c) for c in brz_encounters.columns]\n",
    ")\n",
    "\n",
    "jumlah_null.show()"
   ]
  },
  {
   "cell_type": "code",
   "execution_count": 22,
   "id": "e317fe04-6509-44d1-a982-f021708081be",
   "metadata": {},
   "outputs": [
    {
     "name": "stdout",
     "output_type": "stream",
     "text": [
      "+-----+-----+-----------+\n",
      "|Table|Field|Description|\n",
      "+-----+-----+-----------+\n",
      "|    0|    5|          0|\n",
      "+-----+-----+-----------+\n",
      "\n"
     ]
    }
   ],
   "source": [
    "jumlah_null = brz_dictonary.select(\n",
    "    [F.sum(F.when(F.col(c).isNull(), 1).otherwise(0)).alias(c) for c in brz_dictonary.columns]\n",
    ")\n",
    "\n",
    "jumlah_null.show()"
   ]
  },
  {
   "cell_type": "markdown",
   "id": "32016b24-2dca-4a86-a61b-fc1d602e33e7",
   "metadata": {
    "jp-MarkdownHeadingCollapsed": true
   },
   "source": [
    "# membersihkan data"
   ]
  },
  {
   "cell_type": "code",
   "execution_count": 12,
   "id": "ff781af4-dcf9-4039-9e06-b49f8efb2f57",
   "metadata": {},
   "outputs": [],
   "source": [
    "#Patient\n",
    "slv_patients = brz_patients.withColumn(\n",
    "    \"is_deceased\",\n",
    "    F.when(F.col(\"DEATHDATE\").isNotNull(), True).otherwise(False)\n",
    ")\n",
    "slv_patients = slv_patients.fillna({\n",
    "    'ZIP': 'UNKNOWN',\n",
    "    'MARITAL': 'U' # 'U' singkatan dari 'Unknown'\n",
    "})"
   ]
  },
  {
   "cell_type": "code",
   "execution_count": 13,
   "id": "7af41209-7904-4bd8-9ac6-4c6a31bfe58e",
   "metadata": {},
   "outputs": [
    {
     "name": "stdout",
     "output_type": "stream",
     "text": [
      "+--------------------+----------+----------+------+---------+-------------+------+---------+-------+-----+-----------+------+--------------------+--------------------+------+-------------+--------------+----+------------------+------------+-----------+\n",
      "|                  Id| BIRTHDATE| DEATHDATE|PREFIX|    FIRST|         LAST|SUFFIX|   MAIDEN|MARITAL| RACE|  ETHNICITY|GENDER|          BIRTHPLACE|             ADDRESS|  CITY|        STATE|        COUNTY| ZIP|               LAT|         LON|is_deceased|\n",
      "+--------------------+----------+----------+------+---------+-------------+------+---------+-------+-----+-----------+------+--------------------+--------------------+------+-------------+--------------+----+------------------+------------+-----------+\n",
      "|5605b66b-e92d-c16...|1977-03-19|      NULL|  Mrs.|Nikita578|    Erdman779|  NULL|Leannon79|      M|white|nonhispanic|     F|Wakefield  Massac...|510 Little Statio...|Quincy|Massachusetts|Norfolk County|2186|42.290937381211286|-70.97550306|      false|\n",
      "|6e5ae27c-8038-798...|1940-02-19|      NULL|   Mr.|  Zane918|Hodkiewicz467|  NULL|     NULL|      M|white|nonhispanic|     M|Brookline  Massac...| 747 Conn Throughway|Boston|Massachusetts|Suffolk County|2135|42.308831197562505| -71.0631616|      false|\n",
      "|8123d076-0886-900...|1958-06-04|      NULL|   Mr.| Quinn173| Marquardt819|  NULL|     NULL|      M|white|nonhispanic|     M|Gardner  Massachu...|816 Okuneva Exten...|Quincy|Massachusetts|Norfolk County|2170| 42.26517684888508|-70.96708508|      false|\n",
      "|770518e4-6133-648...|1928-12-25|2017-09-29|   Mr.|  Abel832|   Smitham825|  NULL|     NULL|      M|white|   hispanic|     M|Randolph  Massach...|127 Cole Way Unit 95|Boston|Massachusetts|Suffolk County|2118|42.334303740740594| -71.0668012|       true|\n",
      "|f96addf5-81b9-0aa...|1928-12-25|2014-02-23|   Mr.| Edwin773|   Labadie908|  NULL|     NULL|      M|white|   hispanic|     M|Stow  Massachuset...| 976 Ziemann Gateway|Boston|Massachusetts|Suffolk County|2125|42.346771403899275|-71.05881297|       true|\n",
      "+--------------------+----------+----------+------+---------+-------------+------+---------+-------+-----+-----------+------+--------------------+--------------------+------+-------------+--------------+----+------------------+------------+-----------+\n",
      "only showing top 5 rows\n",
      "\n"
     ]
    }
   ],
   "source": [
    "slv_patients.show(5)"
   ]
  },
  {
   "cell_type": "code",
   "execution_count": 14,
   "id": "5327db49-b9b1-4231-ac24-cb9913be2032",
   "metadata": {},
   "outputs": [],
   "source": [
    "# Payers\n",
    "slv_payers = brz_payers.withColumn(\n",
    "    \"ADDRESS\",\n",
    "    F.when(\n",
    "        F.col(\"NAME\") == \"NO_INSURANCE\", \"N/A\" # 'N/A' = Not Applicable\n",
    "    ).otherwise(F.col(\"ADDRESS\"))\n",
    ").withColumn(\n",
    "    \"CITY\",\n",
    "    F.when(F.col(\"NAME\") == \"NO_INSURANCE\", \"N/A\").otherwise(F.col(\"CITY\"))\n",
    ").withColumn(\n",
    "    \"STATE_HEADQUARTERED\",\n",
    "    F.when(F.col(\"NAME\") == \"NO_INSURANCE\", \"N/A\").otherwise(F.col(\"STATE_HEADQUARTERED\"))\n",
    ").withColumn(\n",
    "    \"ZIP\",\n",
    "    F.when(F.col(\"NAME\") == \"NO_INSURANCE\", \"00000\").otherwise(F.col(\"ZIP\"))\n",
    ").withColumn(\n",
    "    \"PHONE\",\n",
    "    F.when(F.col(\"NAME\") == \"NO_INSURANCE\", \"N/A\").otherwise(F.col(\"PHONE\"))\n",
    ")"
   ]
  },
  {
   "cell_type": "code",
   "execution_count": 15,
   "id": "84aed03d-96e2-4c49-ba48-f41c1b60cfdc",
   "metadata": {},
   "outputs": [
    {
     "name": "stdout",
     "output_type": "stream",
     "text": [
      "+--------------------+--------------------+--------------------+------------+-------------------+-----+--------------+\n",
      "|                  Id|                NAME|             ADDRESS|        CITY|STATE_HEADQUARTERED|  ZIP|         PHONE|\n",
      "+--------------------+--------------------+--------------------+------------+-------------------+-----+--------------+\n",
      "|b3221cfc-24fb-339...|       Dual Eligible|  7500 Security Blvd|   Baltimore|                 MD|21244|1-877-267-2323|\n",
      "|7caa7254-5050-3b5...|            Medicare|  7500 Security Blvd|   Baltimore|                 MD|21244|1-800-633-4227|\n",
      "|7c4411ce-02f1-39b...|            Medicaid|  7500 Security Blvd|   Baltimore|                 MD|21244|1-877-267-2323|\n",
      "|d47b3510-2895-3b7...|              Humana|    500 West Main St|  Louisville|                 KY|40018|1-844-330-7799|\n",
      "|6e2f1a2d-27bd-370...|Blue Cross Blue S...|      Michigan Plaza|     Chicago|                 IL|60007|1-800-262-2583|\n",
      "|5059a55e-5d6e-34d...|    UnitedHealthcare|9800 Healthcare Lane|  Minnetonka|                 MN|55436|1-888-545-5205|\n",
      "|4d71f845-a6a9-3c3...|               Aetna|  151 Farmington Ave|    Hartford|                 CT| 6156|1-800-872-3862|\n",
      "|047f6ec3-6215-35e...|        Cigna Health|900 Cottage Grove Rd|  Bloomfield|                 CT| 6002|1-800-997-1654|\n",
      "|42c4fca7-f8a9-3cd...|              Anthem|    220 Virginia Ave|Indianapolis|                 IN|46204|1-800-331-1476|\n",
      "|b1c428d6-4f07-31e...|        NO_INSURANCE|                 N/A|         N/A|                N/A|00000|           N/A|\n",
      "+--------------------+--------------------+--------------------+------------+-------------------+-----+--------------+\n",
      "\n"
     ]
    }
   ],
   "source": [
    "slv_payers.show()"
   ]
  },
  {
   "cell_type": "code",
   "execution_count": 16,
   "id": "153c3919-aaae-4814-ba21-9faefcfaf4fd",
   "metadata": {},
   "outputs": [],
   "source": [
    "# procedures\n",
    "\n",
    "slv_procedures = brz_procedures"
   ]
  },
  {
   "cell_type": "code",
   "execution_count": 17,
   "id": "e5c81708-bd57-4d91-8007-0b6de701d004",
   "metadata": {},
   "outputs": [],
   "source": [
    "# encounter\n",
    "\n",
    "slv_encounters = brz_encounters.fillna({\n",
    "    'REASONCODE': 'NONE',\n",
    "    'REASONDESCRIPTION': 'No Description Provided'\n",
    "})\n",
    "\n",
    "slv_encounters = slv_encounters.withColumn(\n",
    "    \"duration_seconds\",\n",
    "    F.col(\"STOP\").cast(\"long\") - F.col(\"START\").cast(\"long\")\n",
    ").withColumn(\n",
    "    \"duration_minutes\",\n",
    "    (F.round(F.col(\"duration_seconds\") / 60, 2)).cast(\"double\")\n",
    ")"
   ]
  },
  {
   "cell_type": "code",
   "execution_count": 18,
   "id": "87f2d901-eafc-4175-ba1a-f4f1999265e5",
   "metadata": {},
   "outputs": [
    {
     "name": "stdout",
     "output_type": "stream",
     "text": [
      "root\n",
      " |-- Id: string (nullable = true)\n",
      " |-- START: timestamp (nullable = true)\n",
      " |-- STOP: timestamp (nullable = true)\n",
      " |-- PATIENT: string (nullable = true)\n",
      " |-- ORGANIZATION: string (nullable = true)\n",
      " |-- PAYER: string (nullable = true)\n",
      " |-- ENCOUNTERCLASS: string (nullable = true)\n",
      " |-- CODE: integer (nullable = true)\n",
      " |-- DESCRIPTION: string (nullable = true)\n",
      " |-- BASE_ENCOUNTER_COST: double (nullable = true)\n",
      " |-- TOTAL_CLAIM_COST: double (nullable = true)\n",
      " |-- PAYER_COVERAGE: double (nullable = true)\n",
      " |-- REASONCODE: long (nullable = true)\n",
      " |-- REASONDESCRIPTION: string (nullable = false)\n",
      " |-- duration_seconds: long (nullable = true)\n",
      " |-- duration_minutes: double (nullable = true)\n",
      "\n",
      "+--------------------+-------------------+-------------------+--------------------+--------------------+--------------------+--------------+---------+--------------------+-------------------+----------------+--------------+----------+--------------------+----------------+----------------+\n",
      "|                  Id|              START|               STOP|             PATIENT|        ORGANIZATION|               PAYER|ENCOUNTERCLASS|     CODE|         DESCRIPTION|BASE_ENCOUNTER_COST|TOTAL_CLAIM_COST|PAYER_COVERAGE|REASONCODE|   REASONDESCRIPTION|duration_seconds|duration_minutes|\n",
      "+--------------------+-------------------+-------------------+--------------------+--------------------+--------------------+--------------+---------+--------------------+-------------------+----------------+--------------+----------+--------------------+----------------+----------------+\n",
      "|32c84703-2481-49c...|2011-01-02 09:26:36|2011-01-02 12:58:36|3de74169-7f67-930...|d78e84ec-30aa-3bb...|b1c428d6-4f07-31e...|    ambulatory|185347001|Encounter for pro...|              85.55|         1018.02|           0.0|      NULL|No Description Pr...|           12720|           212.0|\n",
      "|c98059da-320a-c0a...|2011-01-03 05:44:39|2011-01-03 06:01:42|d9ec2e44-32e9-914...|d78e84ec-30aa-3bb...|b1c428d6-4f07-31e...|    outpatient|308335008|Patient encounter...|             142.58|         2619.36|           0.0|      NULL|No Description Pr...|            1023|           17.05|\n",
      "|4ad28a3a-2479-782...|2011-01-03 14:32:11|2011-01-03 14:47:11|73babadf-5b2b-fee...|d78e84ec-30aa-3bb...|7caa7254-5050-3b5...|    outpatient|185349003|Encounter for che...|              85.55|          461.59|        305.27|      NULL|No Description Pr...|             900|            15.0|\n",
      "|c3f4da61-e4b4-21d...|2011-01-03 16:24:45|2011-01-03 16:39:45|3b46a0b7-0f34-9b9...|d78e84ec-30aa-3bb...|b1c428d6-4f07-31e...|      wellness|162673000|General examinati...|              136.8|         1784.24|           0.0|      NULL|No Description Pr...|             900|            15.0|\n",
      "|a9183b4f-2572-72e...|2011-01-03 17:36:53|2011-01-03 17:51:53|fa006887-d93c-d30...|d78e84ec-30aa-3bb...|42c4fca7-f8a9-3cd...|    ambulatory|390906007| Follow-up encounter|              85.55|          234.72|           0.0|  55822004|      Hyperlipidemia|             900|            15.0|\n",
      "+--------------------+-------------------+-------------------+--------------------+--------------------+--------------------+--------------+---------+--------------------+-------------------+----------------+--------------+----------+--------------------+----------------+----------------+\n",
      "only showing top 5 rows\n",
      "\n"
     ]
    }
   ],
   "source": [
    "slv_encounters.printSchema()\n",
    "slv_encounters.show(5)"
   ]
  },
  {
   "cell_type": "code",
   "execution_count": 19,
   "id": "67fd2c98-fa88-45a9-a599-e70bc8da9aaf",
   "metadata": {},
   "outputs": [],
   "source": [
    "# Organization\n",
    "\n",
    "slv_organizations = brz_organizations"
   ]
  },
  {
   "cell_type": "code",
   "execution_count": 20,
   "id": "e1362710-0bc2-47ac-b9e0-b1f5d630bf19",
   "metadata": {},
   "outputs": [],
   "source": [
    "# Dictionary\n",
    "\n",
    "slv_dictionary = brz_dictonary"
   ]
  },
  {
   "cell_type": "markdown",
   "id": "ff00e24f-33ff-4bfd-8f19-12e0b47a88ce",
   "metadata": {},
   "source": [
    "# Silver Table"
   ]
  },
  {
   "cell_type": "code",
   "execution_count": 37,
   "id": "bfa96254-db98-494c-be1e-1cf830b07616",
   "metadata": {},
   "outputs": [
    {
     "data": {
      "text/html": [
       "<table>\n",
       "    <thead>\n",
       "        <tr>\n",
       "        </tr>\n",
       "    </thead>\n",
       "    <tbody>\n",
       "    </tbody>\n",
       "</table>"
      ],
      "text/plain": [
       "++\n",
       "||\n",
       "++\n",
       "++"
      ]
     },
     "execution_count": 37,
     "metadata": {},
     "output_type": "execute_result"
    }
   ],
   "source": [
    "%%sql\n",
    "CREATE TABLE\n",
    "  if NOT EXISTS hospital_medallion.patients_silver (\n",
    "        Id string,\n",
    "        BIRTHDATE date,\n",
    "        DEATHDATE date,\n",
    "        PREFIX string,\n",
    "        FIRST string,\n",
    "        LAST string,\n",
    "        SUFFIX string,\n",
    "        MAIDEN string,\n",
    "        MARITAL string,\n",
    "        RACE string,\n",
    "        ETHNICITY string,\n",
    "        GENDER string,\n",
    "        BIRTHPLACE string,\n",
    "        ADDRESS string,\n",
    "        CITY string,\n",
    "        STATE string,\n",
    "        COUNTY string,\n",
    "        ZIP integer,\n",
    "        LAT double,\n",
    "        LON double,\n",
    "        is_deceased boolean\n",
    "  )"
   ]
  },
  {
   "cell_type": "code",
   "execution_count": 38,
   "id": "e0b7123c-f338-4cae-a3e9-a3ffcaaef7fa",
   "metadata": {},
   "outputs": [
    {
     "name": "stdout",
     "output_type": "stream",
     "text": [
      "root\n",
      " |-- Id: string (nullable = true)\n",
      " |-- BIRTHDATE: date (nullable = true)\n",
      " |-- DEATHDATE: date (nullable = true)\n",
      " |-- PREFIX: string (nullable = true)\n",
      " |-- FIRST: string (nullable = true)\n",
      " |-- LAST: string (nullable = true)\n",
      " |-- SUFFIX: string (nullable = true)\n",
      " |-- MAIDEN: string (nullable = true)\n",
      " |-- MARITAL: string (nullable = false)\n",
      " |-- RACE: string (nullable = true)\n",
      " |-- ETHNICITY: string (nullable = true)\n",
      " |-- GENDER: string (nullable = true)\n",
      " |-- BIRTHPLACE: string (nullable = true)\n",
      " |-- ADDRESS: string (nullable = true)\n",
      " |-- CITY: string (nullable = true)\n",
      " |-- STATE: string (nullable = true)\n",
      " |-- COUNTY: string (nullable = true)\n",
      " |-- ZIP: integer (nullable = true)\n",
      " |-- LAT: double (nullable = true)\n",
      " |-- LON: double (nullable = true)\n",
      " |-- is_deceased: boolean (nullable = false)\n",
      "\n"
     ]
    }
   ],
   "source": [
    "slv_patients.printSchema()"
   ]
  },
  {
   "cell_type": "code",
   "execution_count": 39,
   "id": "306bab97-e5f4-435f-bca3-2700495921ab",
   "metadata": {},
   "outputs": [
    {
     "data": {
      "text/html": [
       "<table>\n",
       "    <thead>\n",
       "        <tr>\n",
       "        </tr>\n",
       "    </thead>\n",
       "    <tbody>\n",
       "    </tbody>\n",
       "</table>"
      ],
      "text/plain": [
       "++\n",
       "||\n",
       "++\n",
       "++"
      ]
     },
     "execution_count": 39,
     "metadata": {},
     "output_type": "execute_result"
    }
   ],
   "source": [
    "%%sql\n",
    "CREATE TABLE\n",
    "  if NOT EXISTS hospital_medallion.payers_silver (\n",
    "        Id string,\n",
    "        NAME string,\n",
    "        ADDRESS string,\n",
    "        CITY string,\n",
    "        STATE_HEADQUARTERED string,\n",
    "        ZIP string,\n",
    "        PHONE string\n",
    ")"
   ]
  },
  {
   "cell_type": "code",
   "execution_count": 40,
   "id": "bcb4acb4-1295-4b14-b566-e45d0e50020b",
   "metadata": {},
   "outputs": [
    {
     "name": "stdout",
     "output_type": "stream",
     "text": [
      "root\n",
      " |-- Id: string (nullable = true)\n",
      " |-- NAME: string (nullable = true)\n",
      " |-- ADDRESS: string (nullable = true)\n",
      " |-- CITY: string (nullable = true)\n",
      " |-- STATE_HEADQUARTERED: string (nullable = true)\n",
      " |-- ZIP: string (nullable = true)\n",
      " |-- PHONE: string (nullable = true)\n",
      "\n"
     ]
    }
   ],
   "source": [
    "slv_payers.printSchema()"
   ]
  },
  {
   "cell_type": "code",
   "execution_count": 41,
   "id": "8f332d97-26f8-4157-a56f-4dc7f73ac40f",
   "metadata": {},
   "outputs": [
    {
     "data": {
      "text/html": [
       "<table>\n",
       "    <thead>\n",
       "        <tr>\n",
       "        </tr>\n",
       "    </thead>\n",
       "    <tbody>\n",
       "    </tbody>\n",
       "</table>"
      ],
      "text/plain": [
       "++\n",
       "||\n",
       "++\n",
       "++"
      ]
     },
     "execution_count": 41,
     "metadata": {},
     "output_type": "execute_result"
    }
   ],
   "source": [
    "%%sql\n",
    "CREATE TABLE\n",
    "  if NOT EXISTS hospital_medallion.encounters_silver (\n",
    "        Id string,\n",
    "        START timestamp,\n",
    "        STOP timestamp,\n",
    "        PATIENT string,\n",
    "        ORGANIZATION string,\n",
    "        PAYER string,\n",
    "        ENCOUNTERCLASS string,\n",
    "        CODE integer,\n",
    "        DESCRIPTION string,\n",
    "        BASE_ENCOUNTER_COST double,\n",
    "        TOTAL_CLAIM_COST double,\n",
    "        PAYER_COVERAGE double,\n",
    "        REASONCODE long,\n",
    "        REASONDESCRIPTION string,\n",
    "        duration_seconds long,\n",
    "        duration_minutes double\n",
    ")"
   ]
  },
  {
   "cell_type": "code",
   "execution_count": 42,
   "id": "c4d4ba33-0a14-46e7-aca8-0c2f2d9b1eb2",
   "metadata": {},
   "outputs": [
    {
     "name": "stdout",
     "output_type": "stream",
     "text": [
      "root\n",
      " |-- Id: string (nullable = true)\n",
      " |-- START: timestamp (nullable = true)\n",
      " |-- STOP: timestamp (nullable = true)\n",
      " |-- PATIENT: string (nullable = true)\n",
      " |-- ORGANIZATION: string (nullable = true)\n",
      " |-- PAYER: string (nullable = true)\n",
      " |-- ENCOUNTERCLASS: string (nullable = true)\n",
      " |-- CODE: integer (nullable = true)\n",
      " |-- DESCRIPTION: string (nullable = true)\n",
      " |-- BASE_ENCOUNTER_COST: double (nullable = true)\n",
      " |-- TOTAL_CLAIM_COST: double (nullable = true)\n",
      " |-- PAYER_COVERAGE: double (nullable = true)\n",
      " |-- REASONCODE: long (nullable = true)\n",
      " |-- REASONDESCRIPTION: string (nullable = false)\n",
      " |-- duration_seconds: long (nullable = true)\n",
      " |-- duration_minutes: double (nullable = true)\n",
      "\n"
     ]
    }
   ],
   "source": [
    "slv_encounters.printSchema()"
   ]
  },
  {
   "cell_type": "code",
   "execution_count": 43,
   "id": "264ed92f-27a2-4d39-ba18-99d943985896",
   "metadata": {},
   "outputs": [
    {
     "data": {
      "text/html": [
       "<table>\n",
       "    <thead>\n",
       "        <tr>\n",
       "        </tr>\n",
       "    </thead>\n",
       "    <tbody>\n",
       "    </tbody>\n",
       "</table>"
      ],
      "text/plain": [
       "++\n",
       "||\n",
       "++\n",
       "++"
      ]
     },
     "execution_count": 43,
     "metadata": {},
     "output_type": "execute_result"
    }
   ],
   "source": [
    "%%sql\n",
    "CREATE TABLE\n",
    "  if NOT EXISTS hospital_medallion.organizations_silver (\n",
    "        Id string,\n",
    "        NAME string,\n",
    "        ADDRESS string,\n",
    "        CITY string,\n",
    "        STATE string,\n",
    "        ZIP integer,\n",
    "        LAT double,\n",
    "        LON double\n",
    ")"
   ]
  },
  {
   "cell_type": "code",
   "execution_count": 44,
   "id": "3b0c5c50-4a5f-4395-8baa-b7cbdc6fcea6",
   "metadata": {},
   "outputs": [
    {
     "data": {
      "text/html": [
       "<table>\n",
       "    <thead>\n",
       "        <tr>\n",
       "        </tr>\n",
       "    </thead>\n",
       "    <tbody>\n",
       "    </tbody>\n",
       "</table>"
      ],
      "text/plain": [
       "++\n",
       "||\n",
       "++\n",
       "++"
      ]
     },
     "execution_count": 44,
     "metadata": {},
     "output_type": "execute_result"
    }
   ],
   "source": [
    "%%sql\n",
    "CREATE TABLE\n",
    "  if NOT EXISTS hospital_medallion.procedures_silver (\n",
    "        START timestamp,\n",
    "        STOP timestamp,\n",
    "        PATIENT string,\n",
    "        ENCOUNTER string,\n",
    "        CODE long,\n",
    "        DESCRIPTION string,\n",
    "        BASE_COST integer,\n",
    "        REASONCODE long,\n",
    "        REASONDESCRIPTION string\n",
    ")"
   ]
  },
  {
   "cell_type": "code",
   "execution_count": 45,
   "id": "6a820ffb-3c50-48a4-b032-cfe5cf6d5cda",
   "metadata": {},
   "outputs": [
    {
     "name": "stdout",
     "output_type": "stream",
     "text": [
      "root\n",
      " |-- START: timestamp (nullable = true)\n",
      " |-- STOP: timestamp (nullable = true)\n",
      " |-- PATIENT: string (nullable = true)\n",
      " |-- ENCOUNTER: string (nullable = true)\n",
      " |-- CODE: long (nullable = true)\n",
      " |-- DESCRIPTION: string (nullable = true)\n",
      " |-- BASE_COST: integer (nullable = true)\n",
      " |-- REASONCODE: long (nullable = true)\n",
      " |-- REASONDESCRIPTION: string (nullable = true)\n",
      "\n"
     ]
    }
   ],
   "source": [
    "slv_procedures.printSchema()"
   ]
  },
  {
   "cell_type": "code",
   "execution_count": 46,
   "id": "2dca8338-fd51-4a8b-baa6-4749c41b63da",
   "metadata": {},
   "outputs": [
    {
     "data": {
      "text/html": [
       "<table>\n",
       "    <thead>\n",
       "        <tr>\n",
       "        </tr>\n",
       "    </thead>\n",
       "    <tbody>\n",
       "    </tbody>\n",
       "</table>"
      ],
      "text/plain": [
       "++\n",
       "||\n",
       "++\n",
       "++"
      ]
     },
     "execution_count": 46,
     "metadata": {},
     "output_type": "execute_result"
    }
   ],
   "source": [
    "%%sql\n",
    "CREATE TABLE\n",
    "  if NOT EXISTS hospital_medallion.dictionary_silver (\n",
    "        Table string,\n",
    "        Field string,\n",
    "        Description string\n",
    ")"
   ]
  },
  {
   "cell_type": "code",
   "execution_count": 47,
   "id": "3b1cfed7-109b-4bfe-b87d-062d14c59e19",
   "metadata": {},
   "outputs": [
    {
     "data": {
      "text/html": [
       "<table>\n",
       "    <thead>\n",
       "        <tr>\n",
       "            <th>namespace</th>\n",
       "            <th>tableName</th>\n",
       "            <th>isTemporary</th>\n",
       "        </tr>\n",
       "    </thead>\n",
       "    <tbody>\n",
       "        <tr>\n",
       "            <td>hospital_medallion</td>\n",
       "            <td>dictionary_bronze</td>\n",
       "            <td>False</td>\n",
       "        </tr>\n",
       "        <tr>\n",
       "            <td>hospital_medallion</td>\n",
       "            <td>dictionary_silver</td>\n",
       "            <td>False</td>\n",
       "        </tr>\n",
       "        <tr>\n",
       "            <td>hospital_medallion</td>\n",
       "            <td>encounters_bronze</td>\n",
       "            <td>False</td>\n",
       "        </tr>\n",
       "        <tr>\n",
       "            <td>hospital_medallion</td>\n",
       "            <td>encounters_silver</td>\n",
       "            <td>False</td>\n",
       "        </tr>\n",
       "        <tr>\n",
       "            <td>hospital_medallion</td>\n",
       "            <td>organizations_bronze</td>\n",
       "            <td>False</td>\n",
       "        </tr>\n",
       "        <tr>\n",
       "            <td>hospital_medallion</td>\n",
       "            <td>organizations_silver</td>\n",
       "            <td>False</td>\n",
       "        </tr>\n",
       "        <tr>\n",
       "            <td>hospital_medallion</td>\n",
       "            <td>patients_bronze</td>\n",
       "            <td>False</td>\n",
       "        </tr>\n",
       "        <tr>\n",
       "            <td>hospital_medallion</td>\n",
       "            <td>patients_silver</td>\n",
       "            <td>False</td>\n",
       "        </tr>\n",
       "        <tr>\n",
       "            <td>hospital_medallion</td>\n",
       "            <td>payers_bronze</td>\n",
       "            <td>False</td>\n",
       "        </tr>\n",
       "        <tr>\n",
       "            <td>hospital_medallion</td>\n",
       "            <td>payers_silver</td>\n",
       "            <td>False</td>\n",
       "        </tr>\n",
       "        <tr>\n",
       "            <td>hospital_medallion</td>\n",
       "            <td>procedures_bronze</td>\n",
       "            <td>False</td>\n",
       "        </tr>\n",
       "        <tr>\n",
       "            <td>hospital_medallion</td>\n",
       "            <td>procedures_silver</td>\n",
       "            <td>False</td>\n",
       "        </tr>\n",
       "    </tbody>\n",
       "</table>"
      ],
      "text/plain": [
       "+--------------------+----------------------+-------------+\n",
       "|          namespace |            tableName | isTemporary |\n",
       "+--------------------+----------------------+-------------+\n",
       "| hospital_medallion |    dictionary_bronze |       False |\n",
       "| hospital_medallion |    dictionary_silver |       False |\n",
       "| hospital_medallion |    encounters_bronze |       False |\n",
       "| hospital_medallion |    encounters_silver |       False |\n",
       "| hospital_medallion | organizations_bronze |       False |\n",
       "| hospital_medallion | organizations_silver |       False |\n",
       "| hospital_medallion |      patients_bronze |       False |\n",
       "| hospital_medallion |      patients_silver |       False |\n",
       "| hospital_medallion |        payers_bronze |       False |\n",
       "| hospital_medallion |        payers_silver |       False |\n",
       "| hospital_medallion |    procedures_bronze |       False |\n",
       "| hospital_medallion |    procedures_silver |       False |\n",
       "+--------------------+----------------------+-------------+"
      ]
     },
     "execution_count": 47,
     "metadata": {},
     "output_type": "execute_result"
    }
   ],
   "source": [
    "%%sql\n",
    "\n",
    "show tables in hospital_medallion"
   ]
  },
  {
   "cell_type": "code",
   "execution_count": 48,
   "id": "e632aeb8-8c3c-44f7-9e34-bec63c24e673",
   "metadata": {},
   "outputs": [],
   "source": [
    "slv_patients.write.insertInto(\"hospital_medallion.patients_silver\")\n",
    "slv_payers.write.insertInto(\"hospital_medallion.payers_silver\")\n",
    "slv_procedures.write.insertInto(\"hospital_medallion.procedures_silver\")\n",
    "slv_encounters.write.insertInto(\"hospital_medallion.encounters_silver\")\n",
    "slv_organizations.write.insertInto(\"hospital_medallion.organizations_silver\")\n",
    "slv_dictionary.write.insertInto(\"hospital_medallion.dictionary_silver\")"
   ]
  },
  {
   "cell_type": "markdown",
   "id": "43e23f7a-cdee-4981-b074-41e117f7a0cb",
   "metadata": {},
   "source": [
    "# medallion (Gold)"
   ]
  },
  {
   "cell_type": "code",
   "execution_count": 51,
   "id": "1f31c44c-0f16-4cca-967c-04c6df9b9f26",
   "metadata": {},
   "outputs": [
    {
     "name": "stdout",
     "output_type": "stream",
     "text": [
      "+-----------------+-------------+\n",
      "|    status_pasien|jumlah_pasien|\n",
      "+-----------------+-------------+\n",
      "|Total Keseluruhan|          974|\n",
      "|            Hidup|          820|\n",
      "|  Meninggal Dunia|          154|\n",
      "+-----------------+-------------+\n",
      "\n"
     ]
    }
   ],
   "source": [
    "gld_patient_status_summary = (\n",
    "    slv_patients\n",
    "    .rollup(\"is_deceased\").agg(F.count(\"Id\").alias(\"jumlah_pasien\"))\n",
    "    .withColumn(\"status_pasien\", F.when(F.col(\"is_deceased\") == True, \"Meninggal Dunia\")\n",
    "         .when(F.col(\"is_deceased\") == False, \"Hidup\")\n",
    "         .otherwise(\"Total Keseluruhan\"))\n",
    "    .select(\"status_pasien\", \"jumlah_pasien\")\n",
    "    .orderBy(F.col(\"jumlah_pasien\").desc())\n",
    ")\n",
    "\n",
    "# Tampilkan hasilnya\n",
    "gld_patient_status_summary.show()\n"
   ]
  },
  {
   "cell_type": "code",
   "execution_count": 52,
   "id": "0dd65d97-efa3-464f-9693-4f9b977c36e8",
   "metadata": {},
   "outputs": [
    {
     "name": "stdout",
     "output_type": "stream",
     "text": [
      "+--------------------+-----------------+\n",
      "|       nama_asuransi|jumlah_penggunaan|\n",
      "+--------------------+-----------------+\n",
      "|            Medicare|            11371|\n",
      "|        NO_INSURANCE|             8807|\n",
      "|            Medicaid|             1443|\n",
      "|              Humana|             1084|\n",
      "|               Aetna|              936|\n",
      "|Blue Cross Blue S...|              925|\n",
      "|       Dual Eligible|              912|\n",
      "|    UnitedHealthcare|              900|\n",
      "|        Cigna Health|              809|\n",
      "|              Anthem|              704|\n",
      "+--------------------+-----------------+\n",
      "\n"
     ]
    }
   ],
   "source": [
    "gld_payer_usage_summary = (\n",
    "    slv_encounters\n",
    "    .join(\n",
    "        slv_payers,\n",
    "        slv_encounters.PAYER == slv_payers.Id,\n",
    "        \"inner\"\n",
    "    )\n",
    "    .groupBy(\n",
    "        slv_payers.NAME\n",
    "    )\n",
    "    .agg(\n",
    "        F.count(slv_encounters.Id).alias(\"jumlah_penggunaan\")\n",
    "    )\n",
    "    .select(\n",
    "        F.col(\"NAME\").alias(\"nama_asuransi\"),\n",
    "        F.col(\"jumlah_penggunaan\")\n",
    "    )\n",
    "    .orderBy(\n",
    "        F.col(\"jumlah_penggunaan\").desc()\n",
    "    )\n",
    ")\n",
    "\n",
    "# Tampilkan hasilnya\n",
    "gld_payer_usage_summary.show()"
   ]
  },
  {
   "cell_type": "code",
   "execution_count": 53,
   "id": "945ed02a-5ce8-408c-96e9-a781badb7220",
   "metadata": {},
   "outputs": [],
   "source": [
    "from pyspark.sql.functions import to_date, col, countDistinct\n",
    "\n",
    "gld_daily_patient_count = (\n",
    "    slv_encounters\n",
    "    .groupBy(\n",
    "        to_date(col(\"START\")).alias(\"tanggal_kunjungan\")\n",
    "    )\n",
    "    .agg(\n",
    "        countDistinct(\"PATIENT\").alias(\"jumlah_pasien_unik\")\n",
    "    )\n",
    "    .orderBy(\n",
    "        col(\"tanggal_kunjungan\")\n",
    "    )\n",
    ")\n",
    "\n",
    "# Tampilkan hasilnya"
   ]
  },
  {
   "cell_type": "code",
   "execution_count": 54,
   "id": "322794bc-1f60-4afd-abaf-0111cf458b0b",
   "metadata": {},
   "outputs": [
    {
     "name": "stdout",
     "output_type": "stream",
     "text": [
      "+-----------------+------------------+\n",
      "|tanggal_kunjungan|jumlah_pasien_unik|\n",
      "+-----------------+------------------+\n",
      "|       2011-01-02|                 1|\n",
      "|       2011-01-03|                 6|\n",
      "|       2011-01-04|                 2|\n",
      "|       2011-01-05|                 3|\n",
      "|       2011-01-07|                 3|\n",
      "|       2011-01-08|                 2|\n",
      "|       2011-01-09|                 3|\n",
      "|       2011-01-10|                 1|\n",
      "|       2011-01-11|                 3|\n",
      "|       2011-01-12|                 4|\n",
      "|       2011-01-13|                 3|\n",
      "|       2011-01-14|                 3|\n",
      "|       2011-01-15|                 2|\n",
      "|       2011-01-16|                 4|\n",
      "|       2011-01-17|                 3|\n",
      "|       2011-01-18|                 3|\n",
      "|       2011-01-19|                 4|\n",
      "|       2011-01-20|                 2|\n",
      "|       2011-01-21|                 5|\n",
      "|       2011-01-22|                 3|\n",
      "+-----------------+------------------+\n",
      "only showing top 20 rows\n",
      "\n"
     ]
    }
   ],
   "source": [
    "gld_daily_patient_count.show()"
   ]
  },
  {
   "cell_type": "code",
   "execution_count": 55,
   "id": "30b68d6c-c8e1-4050-b736-bdb5043fe2d6",
   "metadata": {},
   "outputs": [
    {
     "name": "stdout",
     "output_type": "stream",
     "text": [
      "+--------------+----------------+\n",
      "|ENCOUNTERCLASS|jumlah_kunjungan|\n",
      "+--------------+----------------+\n",
      "|    ambulatory|           12537|\n",
      "|    outpatient|            6300|\n",
      "|    urgentcare|            3666|\n",
      "|     emergency|            2322|\n",
      "|      wellness|            1931|\n",
      "|     inpatient|            1135|\n",
      "+--------------+----------------+\n",
      "\n"
     ]
    }
   ],
   "source": [
    "gld_encounterclass_summary = (\n",
    "    slv_encounters\n",
    "    .groupBy(\"ENCOUNTERCLASS\")\n",
    "    .agg(\n",
    "        F.count(\"Id\").alias(\"jumlah_kunjungan\")\n",
    "    )\n",
    "    .orderBy(\n",
    "        F.col(\"jumlah_kunjungan\").desc()\n",
    "    )\n",
    ")\n",
    "\n",
    "# Tampilkan hasilnya\n",
    "gld_encounterclass_summary.show()\n"
   ]
  },
  {
   "cell_type": "code",
   "execution_count": 56,
   "id": "20277045-a8cd-4073-a0a8-eebf162b2b80",
   "metadata": {},
   "outputs": [
    {
     "data": {
      "text/html": [
       "<table>\n",
       "    <thead>\n",
       "        <tr>\n",
       "        </tr>\n",
       "    </thead>\n",
       "    <tbody>\n",
       "    </tbody>\n",
       "</table>"
      ],
      "text/plain": [
       "++\n",
       "||\n",
       "++\n",
       "++"
      ]
     },
     "execution_count": 56,
     "metadata": {},
     "output_type": "execute_result"
    }
   ],
   "source": [
    "%%sql\n",
    "\n",
    "create schema if not exists hospital_gold"
   ]
  },
  {
   "cell_type": "code",
   "execution_count": 60,
   "id": "2562a9c3-6537-47d3-a9cf-5aaafeb17ca7",
   "metadata": {},
   "outputs": [
    {
     "data": {
      "text/html": [
       "<table>\n",
       "    <thead>\n",
       "        <tr>\n",
       "        </tr>\n",
       "    </thead>\n",
       "    <tbody>\n",
       "    </tbody>\n",
       "</table>"
      ],
      "text/plain": [
       "++\n",
       "||\n",
       "++\n",
       "++"
      ]
     },
     "execution_count": 60,
     "metadata": {},
     "output_type": "execute_result"
    }
   ],
   "source": [
    "%%sql\n",
    "CREATE TABLE\n",
    "  if NOT EXISTS hospital_gold.gld_total_deceased (\n",
    "        status_pasien string,\n",
    "        jumlah_pasien int\n",
    ")"
   ]
  },
  {
   "cell_type": "code",
   "execution_count": 69,
   "id": "8cf5c497-ebdb-42fe-a0eb-ef346dd81570",
   "metadata": {},
   "outputs": [
    {
     "data": {
      "text/html": [
       "<table>\n",
       "    <thead>\n",
       "        <tr>\n",
       "        </tr>\n",
       "    </thead>\n",
       "    <tbody>\n",
       "    </tbody>\n",
       "</table>"
      ],
      "text/plain": [
       "++\n",
       "||\n",
       "++\n",
       "++"
      ]
     },
     "execution_count": 69,
     "metadata": {},
     "output_type": "execute_result"
    }
   ],
   "source": [
    "%%sql\n",
    "CREATE TABLE\n",
    "  if NOT EXISTS hospital_gold.gld_penggunaan_asuransi (\n",
    "        nama_asuransi string,\n",
    "        jumlah_penggunaan long\n",
    ")"
   ]
  },
  {
   "cell_type": "code",
   "execution_count": 64,
   "id": "52995df3-cd68-48a0-8d28-f1edface7e10",
   "metadata": {},
   "outputs": [
    {
     "data": {
      "text/html": [
       "<table>\n",
       "    <thead>\n",
       "        <tr>\n",
       "        </tr>\n",
       "    </thead>\n",
       "    <tbody>\n",
       "    </tbody>\n",
       "</table>"
      ],
      "text/plain": [
       "++\n",
       "||\n",
       "++\n",
       "++"
      ]
     },
     "execution_count": 64,
     "metadata": {},
     "output_type": "execute_result"
    }
   ],
   "source": [
    "%%sql\n",
    "CREATE TABLE\n",
    "  if NOT EXISTS hospital_gold.gld_jumlah_kunjungan_perHari (\n",
    "        tanggal_kunjungan date,\n",
    "        jumlah_pasien_unik long\n",
    ")"
   ]
  },
  {
   "cell_type": "code",
   "execution_count": 72,
   "id": "99996fa8-be19-47ef-b82c-11ddd0ada04c",
   "metadata": {},
   "outputs": [
    {
     "data": {
      "text/html": [
       "<table>\n",
       "    <thead>\n",
       "        <tr>\n",
       "        </tr>\n",
       "    </thead>\n",
       "    <tbody>\n",
       "    </tbody>\n",
       "</table>"
      ],
      "text/plain": [
       "++\n",
       "||\n",
       "++\n",
       "++"
      ]
     },
     "execution_count": 72,
     "metadata": {},
     "output_type": "execute_result"
    }
   ],
   "source": [
    "%%sql\n",
    "CREATE TABLE\n",
    "  if NOT EXISTS hospital_gold.gld_encounterclass_total (\n",
    "        ENCOUNTERCLASS string,\n",
    "        jumlah_kunjungan long\n",
    ")"
   ]
  },
  {
   "cell_type": "code",
   "execution_count": 71,
   "id": "1930ec7e-7b0c-48e4-b7b1-2e99993fe152",
   "metadata": {},
   "outputs": [
    {
     "name": "stdout",
     "output_type": "stream",
     "text": [
      "root\n",
      " |-- ENCOUNTERCLASS: string (nullable = true)\n",
      " |-- jumlah_kunjungan: long (nullable = false)\n",
      "\n"
     ]
    }
   ],
   "source": [
    "gld_encounterclass_summary.printSchema()"
   ]
  },
  {
   "cell_type": "code",
   "execution_count": 73,
   "id": "5daa9fb0-6984-447f-822a-02a4e14d1426",
   "metadata": {},
   "outputs": [
    {
     "data": {
      "text/html": [
       "<table>\n",
       "    <thead>\n",
       "        <tr>\n",
       "            <th>namespace</th>\n",
       "            <th>tableName</th>\n",
       "            <th>isTemporary</th>\n",
       "        </tr>\n",
       "    </thead>\n",
       "    <tbody>\n",
       "        <tr>\n",
       "            <td>hospital_gold</td>\n",
       "            <td>gld_encounterclass_total</td>\n",
       "            <td>False</td>\n",
       "        </tr>\n",
       "        <tr>\n",
       "            <td>hospital_gold</td>\n",
       "            <td>gld_jumlah_kunjungan_perHari</td>\n",
       "            <td>False</td>\n",
       "        </tr>\n",
       "        <tr>\n",
       "            <td>hospital_gold</td>\n",
       "            <td>gld_penggunaan_asuransi</td>\n",
       "            <td>False</td>\n",
       "        </tr>\n",
       "        <tr>\n",
       "            <td>hospital_gold</td>\n",
       "            <td>gld_total_deceased</td>\n",
       "            <td>False</td>\n",
       "        </tr>\n",
       "    </tbody>\n",
       "</table>"
      ],
      "text/plain": [
       "+---------------+------------------------------+-------------+\n",
       "|     namespace |                    tableName | isTemporary |\n",
       "+---------------+------------------------------+-------------+\n",
       "| hospital_gold |     gld_encounterclass_total |       False |\n",
       "| hospital_gold | gld_jumlah_kunjungan_perHari |       False |\n",
       "| hospital_gold |      gld_penggunaan_asuransi |       False |\n",
       "| hospital_gold |           gld_total_deceased |       False |\n",
       "+---------------+------------------------------+-------------+"
      ]
     },
     "execution_count": 73,
     "metadata": {},
     "output_type": "execute_result"
    }
   ],
   "source": [
    "%%sql\n",
    "\n",
    "show tables in hospital_gold"
   ]
  },
  {
   "cell_type": "code",
   "execution_count": 74,
   "id": "57255956-7805-439f-b000-d81ddad4db2e",
   "metadata": {},
   "outputs": [],
   "source": [
    "gld_daily_patient_count.write.insertInto(\"hospital_gold.gld_jumlah_kunjungan_perHari\")\n",
    "gld_encounterclass_summary.write.insertInto(\"hospital_gold.gld_encounterclass_total\")\n",
    "gld_patient_status_summary.write.insertInto(\"hospital_gold.gld_total_deceased\")\n",
    "gld_payer_usage_summary.write.insertInto(\"hospital_gold.gld_penggunaan_asuransi\")"
   ]
  },
  {
   "cell_type": "code",
   "execution_count": 76,
   "id": "d77ddc95-a862-4dea-877b-49ce5aaf6d80",
   "metadata": {},
   "outputs": [
    {
     "data": {
      "text/html": [
       "<table>\n",
       "    <thead>\n",
       "        <tr>\n",
       "            <th>tanggal_kunjungan</th>\n",
       "            <th>jumlah_pasien_unik</th>\n",
       "        </tr>\n",
       "    </thead>\n",
       "    <tbody>\n",
       "        <tr>\n",
       "            <td>2011-01-02</td>\n",
       "            <td>1</td>\n",
       "        </tr>\n",
       "        <tr>\n",
       "            <td>2011-01-03</td>\n",
       "            <td>6</td>\n",
       "        </tr>\n",
       "        <tr>\n",
       "            <td>2011-01-04</td>\n",
       "            <td>2</td>\n",
       "        </tr>\n",
       "        <tr>\n",
       "            <td>2011-01-05</td>\n",
       "            <td>3</td>\n",
       "        </tr>\n",
       "        <tr>\n",
       "            <td>2011-01-07</td>\n",
       "            <td>3</td>\n",
       "        </tr>\n",
       "        <tr>\n",
       "            <td>2011-01-08</td>\n",
       "            <td>2</td>\n",
       "        </tr>\n",
       "        <tr>\n",
       "            <td>2011-01-09</td>\n",
       "            <td>3</td>\n",
       "        </tr>\n",
       "        <tr>\n",
       "            <td>2011-01-10</td>\n",
       "            <td>1</td>\n",
       "        </tr>\n",
       "        <tr>\n",
       "            <td>2011-01-11</td>\n",
       "            <td>3</td>\n",
       "        </tr>\n",
       "        <tr>\n",
       "            <td>2011-01-12</td>\n",
       "            <td>4</td>\n",
       "        </tr>\n",
       "        <tr>\n",
       "            <td>2011-01-13</td>\n",
       "            <td>3</td>\n",
       "        </tr>\n",
       "        <tr>\n",
       "            <td>2011-01-14</td>\n",
       "            <td>3</td>\n",
       "        </tr>\n",
       "        <tr>\n",
       "            <td>2011-01-15</td>\n",
       "            <td>2</td>\n",
       "        </tr>\n",
       "        <tr>\n",
       "            <td>2011-01-16</td>\n",
       "            <td>4</td>\n",
       "        </tr>\n",
       "        <tr>\n",
       "            <td>2011-01-17</td>\n",
       "            <td>3</td>\n",
       "        </tr>\n",
       "        <tr>\n",
       "            <td>2011-01-18</td>\n",
       "            <td>3</td>\n",
       "        </tr>\n",
       "        <tr>\n",
       "            <td>2011-01-19</td>\n",
       "            <td>4</td>\n",
       "        </tr>\n",
       "        <tr>\n",
       "            <td>2011-01-20</td>\n",
       "            <td>2</td>\n",
       "        </tr>\n",
       "        <tr>\n",
       "            <td>2011-01-21</td>\n",
       "            <td>5</td>\n",
       "        </tr>\n",
       "        <tr>\n",
       "            <td>2011-01-22</td>\n",
       "            <td>3</td>\n",
       "        </tr>\n",
       "        <tr>\n",
       "            <td>2011-01-23</td>\n",
       "            <td>3</td>\n",
       "        </tr>\n",
       "        <tr>\n",
       "            <td>2011-01-24</td>\n",
       "            <td>4</td>\n",
       "        </tr>\n",
       "        <tr>\n",
       "            <td>2011-01-25</td>\n",
       "            <td>4</td>\n",
       "        </tr>\n",
       "        <tr>\n",
       "            <td>2011-01-26</td>\n",
       "            <td>3</td>\n",
       "        </tr>\n",
       "        <tr>\n",
       "            <td>2011-01-27</td>\n",
       "            <td>2</td>\n",
       "        </tr>\n",
       "        <tr>\n",
       "            <td>2011-01-28</td>\n",
       "            <td>3</td>\n",
       "        </tr>\n",
       "        <tr>\n",
       "            <td>2011-01-29</td>\n",
       "            <td>1</td>\n",
       "        </tr>\n",
       "        <tr>\n",
       "            <td>2011-01-30</td>\n",
       "            <td>3</td>\n",
       "        </tr>\n",
       "        <tr>\n",
       "            <td>2011-01-31</td>\n",
       "            <td>1</td>\n",
       "        </tr>\n",
       "        <tr>\n",
       "            <td>2011-02-01</td>\n",
       "            <td>1</td>\n",
       "        </tr>\n",
       "        <tr>\n",
       "            <td>2011-02-02</td>\n",
       "            <td>2</td>\n",
       "        </tr>\n",
       "        <tr>\n",
       "            <td>2011-02-03</td>\n",
       "            <td>3</td>\n",
       "        </tr>\n",
       "        <tr>\n",
       "            <td>2011-02-04</td>\n",
       "            <td>4</td>\n",
       "        </tr>\n",
       "        <tr>\n",
       "            <td>2011-02-05</td>\n",
       "            <td>1</td>\n",
       "        </tr>\n",
       "        <tr>\n",
       "            <td>2011-02-06</td>\n",
       "            <td>5</td>\n",
       "        </tr>\n",
       "        <tr>\n",
       "            <td>2011-02-07</td>\n",
       "            <td>4</td>\n",
       "        </tr>\n",
       "        <tr>\n",
       "            <td>2011-02-08</td>\n",
       "            <td>3</td>\n",
       "        </tr>\n",
       "        <tr>\n",
       "            <td>2011-02-09</td>\n",
       "            <td>2</td>\n",
       "        </tr>\n",
       "        <tr>\n",
       "            <td>2011-02-10</td>\n",
       "            <td>2</td>\n",
       "        </tr>\n",
       "        <tr>\n",
       "            <td>2011-02-11</td>\n",
       "            <td>2</td>\n",
       "        </tr>\n",
       "        <tr>\n",
       "            <td>2011-02-12</td>\n",
       "            <td>2</td>\n",
       "        </tr>\n",
       "        <tr>\n",
       "            <td>2011-02-13</td>\n",
       "            <td>3</td>\n",
       "        </tr>\n",
       "        <tr>\n",
       "            <td>2011-02-14</td>\n",
       "            <td>2</td>\n",
       "        </tr>\n",
       "        <tr>\n",
       "            <td>2011-02-15</td>\n",
       "            <td>2</td>\n",
       "        </tr>\n",
       "        <tr>\n",
       "            <td>2011-02-16</td>\n",
       "            <td>2</td>\n",
       "        </tr>\n",
       "        <tr>\n",
       "            <td>2011-02-17</td>\n",
       "            <td>2</td>\n",
       "        </tr>\n",
       "        <tr>\n",
       "            <td>2011-02-18</td>\n",
       "            <td>3</td>\n",
       "        </tr>\n",
       "        <tr>\n",
       "            <td>2011-02-19</td>\n",
       "            <td>1</td>\n",
       "        </tr>\n",
       "        <tr>\n",
       "            <td>2011-02-20</td>\n",
       "            <td>4</td>\n",
       "        </tr>\n",
       "        <tr>\n",
       "            <td>2011-02-21</td>\n",
       "            <td>3</td>\n",
       "        </tr>\n",
       "        <tr>\n",
       "            <td>2011-02-22</td>\n",
       "            <td>3</td>\n",
       "        </tr>\n",
       "        <tr>\n",
       "            <td>2011-02-23</td>\n",
       "            <td>5</td>\n",
       "        </tr>\n",
       "        <tr>\n",
       "            <td>2011-02-24</td>\n",
       "            <td>3</td>\n",
       "        </tr>\n",
       "        <tr>\n",
       "            <td>2011-02-25</td>\n",
       "            <td>3</td>\n",
       "        </tr>\n",
       "        <tr>\n",
       "            <td>2011-02-26</td>\n",
       "            <td>1</td>\n",
       "        </tr>\n",
       "        <tr>\n",
       "            <td>2011-02-27</td>\n",
       "            <td>5</td>\n",
       "        </tr>\n",
       "        <tr>\n",
       "            <td>2011-02-28</td>\n",
       "            <td>8</td>\n",
       "        </tr>\n",
       "        <tr>\n",
       "            <td>2011-03-01</td>\n",
       "            <td>2</td>\n",
       "        </tr>\n",
       "        <tr>\n",
       "            <td>2011-03-02</td>\n",
       "            <td>5</td>\n",
       "        </tr>\n",
       "        <tr>\n",
       "            <td>2011-03-03</td>\n",
       "            <td>3</td>\n",
       "        </tr>\n",
       "        <tr>\n",
       "            <td>2011-03-04</td>\n",
       "            <td>4</td>\n",
       "        </tr>\n",
       "        <tr>\n",
       "            <td>2011-03-05</td>\n",
       "            <td>5</td>\n",
       "        </tr>\n",
       "        <tr>\n",
       "            <td>2011-03-06</td>\n",
       "            <td>2</td>\n",
       "        </tr>\n",
       "        <tr>\n",
       "            <td>2011-03-07</td>\n",
       "            <td>5</td>\n",
       "        </tr>\n",
       "        <tr>\n",
       "            <td>2011-03-08</td>\n",
       "            <td>4</td>\n",
       "        </tr>\n",
       "        <tr>\n",
       "            <td>2011-03-09</td>\n",
       "            <td>5</td>\n",
       "        </tr>\n",
       "        <tr>\n",
       "            <td>2011-03-10</td>\n",
       "            <td>4</td>\n",
       "        </tr>\n",
       "        <tr>\n",
       "            <td>2011-03-11</td>\n",
       "            <td>6</td>\n",
       "        </tr>\n",
       "        <tr>\n",
       "            <td>2011-03-12</td>\n",
       "            <td>2</td>\n",
       "        </tr>\n",
       "        <tr>\n",
       "            <td>2011-03-13</td>\n",
       "            <td>4</td>\n",
       "        </tr>\n",
       "        <tr>\n",
       "            <td>2011-03-14</td>\n",
       "            <td>4</td>\n",
       "        </tr>\n",
       "        <tr>\n",
       "            <td>2011-03-15</td>\n",
       "            <td>5</td>\n",
       "        </tr>\n",
       "        <tr>\n",
       "            <td>2011-03-16</td>\n",
       "            <td>4</td>\n",
       "        </tr>\n",
       "        <tr>\n",
       "            <td>2011-03-17</td>\n",
       "            <td>2</td>\n",
       "        </tr>\n",
       "        <tr>\n",
       "            <td>2011-03-18</td>\n",
       "            <td>5</td>\n",
       "        </tr>\n",
       "        <tr>\n",
       "            <td>2011-03-19</td>\n",
       "            <td>4</td>\n",
       "        </tr>\n",
       "        <tr>\n",
       "            <td>2011-03-20</td>\n",
       "            <td>3</td>\n",
       "        </tr>\n",
       "        <tr>\n",
       "            <td>2011-03-21</td>\n",
       "            <td>7</td>\n",
       "        </tr>\n",
       "        <tr>\n",
       "            <td>2011-03-22</td>\n",
       "            <td>4</td>\n",
       "        </tr>\n",
       "        <tr>\n",
       "            <td>2011-03-23</td>\n",
       "            <td>2</td>\n",
       "        </tr>\n",
       "        <tr>\n",
       "            <td>2011-03-24</td>\n",
       "            <td>7</td>\n",
       "        </tr>\n",
       "        <tr>\n",
       "            <td>2011-03-25</td>\n",
       "            <td>3</td>\n",
       "        </tr>\n",
       "        <tr>\n",
       "            <td>2011-03-26</td>\n",
       "            <td>4</td>\n",
       "        </tr>\n",
       "        <tr>\n",
       "            <td>2011-03-27</td>\n",
       "            <td>2</td>\n",
       "        </tr>\n",
       "        <tr>\n",
       "            <td>2011-03-28</td>\n",
       "            <td>4</td>\n",
       "        </tr>\n",
       "        <tr>\n",
       "            <td>2011-03-29</td>\n",
       "            <td>7</td>\n",
       "        </tr>\n",
       "        <tr>\n",
       "            <td>2011-03-30</td>\n",
       "            <td>4</td>\n",
       "        </tr>\n",
       "        <tr>\n",
       "            <td>2011-03-31</td>\n",
       "            <td>4</td>\n",
       "        </tr>\n",
       "        <tr>\n",
       "            <td>2011-04-01</td>\n",
       "            <td>4</td>\n",
       "        </tr>\n",
       "        <tr>\n",
       "            <td>2011-04-02</td>\n",
       "            <td>5</td>\n",
       "        </tr>\n",
       "        <tr>\n",
       "            <td>2011-04-03</td>\n",
       "            <td>3</td>\n",
       "        </tr>\n",
       "        <tr>\n",
       "            <td>2011-04-04</td>\n",
       "            <td>7</td>\n",
       "        </tr>\n",
       "        <tr>\n",
       "            <td>2011-04-05</td>\n",
       "            <td>3</td>\n",
       "        </tr>\n",
       "        <tr>\n",
       "            <td>2011-04-06</td>\n",
       "            <td>4</td>\n",
       "        </tr>\n",
       "        <tr>\n",
       "            <td>2011-04-07</td>\n",
       "            <td>3</td>\n",
       "        </tr>\n",
       "        <tr>\n",
       "            <td>2011-04-08</td>\n",
       "            <td>5</td>\n",
       "        </tr>\n",
       "        <tr>\n",
       "            <td>2011-04-09</td>\n",
       "            <td>4</td>\n",
       "        </tr>\n",
       "        <tr>\n",
       "            <td>2011-04-10</td>\n",
       "            <td>4</td>\n",
       "        </tr>\n",
       "        <tr>\n",
       "            <td>2011-04-11</td>\n",
       "            <td>2</td>\n",
       "        </tr>\n",
       "        <tr>\n",
       "            <td>2011-04-12</td>\n",
       "            <td>5</td>\n",
       "        </tr>\n",
       "    </tbody>\n",
       "</table>"
      ],
      "text/plain": [
       "+-------------------+--------------------+\n",
       "| tanggal_kunjungan | jumlah_pasien_unik |\n",
       "+-------------------+--------------------+\n",
       "|        2011-01-02 |                  1 |\n",
       "|        2011-01-03 |                  6 |\n",
       "|        2011-01-04 |                  2 |\n",
       "|        2011-01-05 |                  3 |\n",
       "|        2011-01-07 |                  3 |\n",
       "|        2011-01-08 |                  2 |\n",
       "|        2011-01-09 |                  3 |\n",
       "|        2011-01-10 |                  1 |\n",
       "|        2011-01-11 |                  3 |\n",
       "|        2011-01-12 |                  4 |\n",
       "|        2011-01-13 |                  3 |\n",
       "|        2011-01-14 |                  3 |\n",
       "|        2011-01-15 |                  2 |\n",
       "|        2011-01-16 |                  4 |\n",
       "|        2011-01-17 |                  3 |\n",
       "|        2011-01-18 |                  3 |\n",
       "|        2011-01-19 |                  4 |\n",
       "|        2011-01-20 |                  2 |\n",
       "|        2011-01-21 |                  5 |\n",
       "|        2011-01-22 |                  3 |\n",
       "|        2011-01-23 |                  3 |\n",
       "|        2011-01-24 |                  4 |\n",
       "|        2011-01-25 |                  4 |\n",
       "|        2011-01-26 |                  3 |\n",
       "|        2011-01-27 |                  2 |\n",
       "|        2011-01-28 |                  3 |\n",
       "|        2011-01-29 |                  1 |\n",
       "|        2011-01-30 |                  3 |\n",
       "|        2011-01-31 |                  1 |\n",
       "|        2011-02-01 |                  1 |\n",
       "|        2011-02-02 |                  2 |\n",
       "|        2011-02-03 |                  3 |\n",
       "|        2011-02-04 |                  4 |\n",
       "|        2011-02-05 |                  1 |\n",
       "|        2011-02-06 |                  5 |\n",
       "|        2011-02-07 |                  4 |\n",
       "|        2011-02-08 |                  3 |\n",
       "|        2011-02-09 |                  2 |\n",
       "|        2011-02-10 |                  2 |\n",
       "|        2011-02-11 |                  2 |\n",
       "|        2011-02-12 |                  2 |\n",
       "|        2011-02-13 |                  3 |\n",
       "|        2011-02-14 |                  2 |\n",
       "|        2011-02-15 |                  2 |\n",
       "|        2011-02-16 |                  2 |\n",
       "|        2011-02-17 |                  2 |\n",
       "|        2011-02-18 |                  3 |\n",
       "|        2011-02-19 |                  1 |\n",
       "|        2011-02-20 |                  4 |\n",
       "|        2011-02-21 |                  3 |\n",
       "|        2011-02-22 |                  3 |\n",
       "|        2011-02-23 |                  5 |\n",
       "|        2011-02-24 |                  3 |\n",
       "|        2011-02-25 |                  3 |\n",
       "|        2011-02-26 |                  1 |\n",
       "|        2011-02-27 |                  5 |\n",
       "|        2011-02-28 |                  8 |\n",
       "|        2011-03-01 |                  2 |\n",
       "|        2011-03-02 |                  5 |\n",
       "|        2011-03-03 |                  3 |\n",
       "|        2011-03-04 |                  4 |\n",
       "|        2011-03-05 |                  5 |\n",
       "|        2011-03-06 |                  2 |\n",
       "|        2011-03-07 |                  5 |\n",
       "|        2011-03-08 |                  4 |\n",
       "|        2011-03-09 |                  5 |\n",
       "|        2011-03-10 |                  4 |\n",
       "|        2011-03-11 |                  6 |\n",
       "|        2011-03-12 |                  2 |\n",
       "|        2011-03-13 |                  4 |\n",
       "|        2011-03-14 |                  4 |\n",
       "|        2011-03-15 |                  5 |\n",
       "|        2011-03-16 |                  4 |\n",
       "|        2011-03-17 |                  2 |\n",
       "|        2011-03-18 |                  5 |\n",
       "|        2011-03-19 |                  4 |\n",
       "|        2011-03-20 |                  3 |\n",
       "|        2011-03-21 |                  7 |\n",
       "|        2011-03-22 |                  4 |\n",
       "|        2011-03-23 |                  2 |\n",
       "|        2011-03-24 |                  7 |\n",
       "|        2011-03-25 |                  3 |\n",
       "|        2011-03-26 |                  4 |\n",
       "|        2011-03-27 |                  2 |\n",
       "|        2011-03-28 |                  4 |\n",
       "|        2011-03-29 |                  7 |\n",
       "|        2011-03-30 |                  4 |\n",
       "|        2011-03-31 |                  4 |\n",
       "|        2011-04-01 |                  4 |\n",
       "|        2011-04-02 |                  5 |\n",
       "|        2011-04-03 |                  3 |\n",
       "|        2011-04-04 |                  7 |\n",
       "|        2011-04-05 |                  3 |\n",
       "|        2011-04-06 |                  4 |\n",
       "|        2011-04-07 |                  3 |\n",
       "|        2011-04-08 |                  5 |\n",
       "|        2011-04-09 |                  4 |\n",
       "|        2011-04-10 |                  4 |\n",
       "|        2011-04-11 |                  2 |\n",
       "|        2011-04-12 |                  5 |\n",
       "+-------------------+--------------------+"
      ]
     },
     "execution_count": 76,
     "metadata": {},
     "output_type": "execute_result"
    }
   ],
   "source": [
    "%%sql\n",
    "\n",
    "select (*) from hospital_gold.gld_jumlah_kunjungan_perHari"
   ]
  },
  {
   "cell_type": "code",
   "execution_count": null,
   "id": "dcad6934-2b59-42bb-a5bb-a7bca5a19cfe",
   "metadata": {},
   "outputs": [],
   "source": []
  }
 ],
 "metadata": {
  "kernelspec": {
   "display_name": "Python 3 (ipykernel)",
   "language": "python",
   "name": "python3"
  },
  "language_info": {
   "codemirror_mode": {
    "name": "ipython",
    "version": 3
   },
   "file_extension": ".py",
   "mimetype": "text/x-python",
   "name": "python",
   "nbconvert_exporter": "python",
   "pygments_lexer": "ipython3",
   "version": "3.11.13"
  }
 },
 "nbformat": 4,
 "nbformat_minor": 5
}
