{
 "cells": [
  {
   "cell_type": "code",
   "execution_count": 1,
   "id": "d1f42955-024f-4f47-a429-343c2df96b3d",
   "metadata": {},
   "outputs": [],
   "source": [
    "from pyspark.sql import SparkSession"
   ]
  },
  {
   "cell_type": "code",
   "execution_count": 2,
   "id": "3adae3be-ec96-4496-bc8a-25c5f8392066",
   "metadata": {},
   "outputs": [
    {
     "name": "stderr",
     "output_type": "stream",
     "text": [
      "25/07/31 17:43:12 WARN SparkSession: Using an existing Spark session; only runtime SQL configurations will take effect.\n"
     ]
    }
   ],
   "source": [
    "\n",
    "spark = SparkSession.builder \\\n",
    "    .appName(\"S3A Test\") \\\n",
    "    .config(\"spark.jars.packages\", \"org.apache.hadoop:hadoop-aws:3.3.4,com.amazonaws:aws-java-sdk-bundle:1.12.262\") \\\n",
    "    .getOrCreate()"
   ]
  },
  {
   "cell_type": "code",
   "execution_count": 3,
   "id": "798d2298-ca58-4d29-83db-97124c6b2d3b",
   "metadata": {},
   "outputs": [
    {
     "data": {
      "text/plain": [
       "'org.apache.hadoop.fs.s3a.S3AFileSystem'"
      ]
     },
     "execution_count": 3,
     "metadata": {},
     "output_type": "execute_result"
    }
   ],
   "source": [
    "spark._jsc.hadoopConfiguration().get(\"fs.s3a.impl\")"
   ]
  },
  {
   "cell_type": "code",
   "execution_count": 4,
   "id": "96bf88fc-9202-4ee1-813e-af94c78e55bd",
   "metadata": {},
   "outputs": [],
   "source": [
    "hadoop_conf = spark._jsc.hadoopConfiguration()\n",
    "hadoop_conf.set(\"fs.s3a.impl\", \"org.apache.hadoop.fs.s3a.S3AFileSystem\")\n",
    "hadoop_conf.set(\"fs.s3a.endpoint\", \"http://localhost:9001\")  # ganti sesuai alamat MinIO Anda\n",
    "hadoop_conf.set(\"fs.s3a.access.key\", \"AKUN_ACCESS_KEY\")\n",
    "hadoop_conf.set(\"fs.s3a.secret.key\", \"RAHASIA_ACCESS_KEY\")\n",
    "hadoop_conf.set(\"fs.s3a.path.style.access\", \"true\")\n",
    "hadoop_conf.set(\"fs.s3a.connection.ssl.enabled\", \"false\")"
   ]
  },
  {
   "cell_type": "code",
   "execution_count": null,
   "id": "96e1128d-6a0a-485c-a9e9-48c8de93b8da",
   "metadata": {},
   "outputs": [],
   "source": []
  }
 ],
 "metadata": {
  "kernelspec": {
   "display_name": "Python 3 (ipykernel)",
   "language": "python",
   "name": "python3"
  },
  "language_info": {
   "codemirror_mode": {
    "name": "ipython",
    "version": 3
   },
   "file_extension": ".py",
   "mimetype": "text/x-python",
   "name": "python",
   "nbconvert_exporter": "python",
   "pygments_lexer": "ipython3",
   "version": "3.11.13"
  }
 },
 "nbformat": 4,
 "nbformat_minor": 5
}
