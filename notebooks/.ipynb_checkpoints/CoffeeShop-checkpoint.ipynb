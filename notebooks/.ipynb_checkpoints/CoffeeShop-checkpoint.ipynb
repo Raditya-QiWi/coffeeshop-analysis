{
 "cells": [
  {
   "cell_type": "code",
   "execution_count": 2,
   "id": "82878381-7a99-40bd-ba76-b8bf7f25e98e",
   "metadata": {},
   "outputs": [
    {
     "name": "stdout",
     "output_type": "stream",
     "text": [
      "Collecting faker\n",
      "  Downloading faker-37.5.3-py3-none-any.whl.metadata (15 kB)\n",
      "Requirement already satisfied: tzdata in /usr/local/lib/python3.11/site-packages (from faker) (2025.2)\n",
      "Downloading faker-37.5.3-py3-none-any.whl (1.9 MB)\n",
      "\u001b[2K   \u001b[90m━━━━━━━━━━━━━━━━━━━━━━━━━━━━━━━━━━━━━━━━\u001b[0m \u001b[32m1.9/1.9 MB\u001b[0m \u001b[31m6.1 MB/s\u001b[0m eta \u001b[36m0:00:00\u001b[0ma \u001b[36m0:00:01\u001b[0m\n",
      "\u001b[?25hInstalling collected packages: faker\n",
      "Successfully installed faker-37.5.3\n",
      "\u001b[33mWARNING: Running pip as the 'root' user can result in broken permissions and conflicting behaviour with the system package manager, possibly rendering your system unusable. It is recommended to use a virtual environment instead: https://pip.pypa.io/warnings/venv. Use the --root-user-action option if you know what you are doing and want to suppress this warning.\u001b[0m\u001b[33m\n",
      "\u001b[0m\n",
      "\u001b[1m[\u001b[0m\u001b[34;49mnotice\u001b[0m\u001b[1;39;49m]\u001b[0m\u001b[39;49m A new release of pip is available: \u001b[0m\u001b[31;49m25.1.1\u001b[0m\u001b[39;49m -> \u001b[0m\u001b[32;49m25.2\u001b[0m\n",
      "\u001b[1m[\u001b[0m\u001b[34;49mnotice\u001b[0m\u001b[1;39;49m]\u001b[0m\u001b[39;49m To update, run: \u001b[0m\u001b[32;49mpip install --upgrade pip\u001b[0m\n",
      "Note: you may need to restart the kernel to use updated packages.\n"
     ]
    }
   ],
   "source": [
    "pip install faker"
   ]
  },
  {
   "cell_type": "code",
   "execution_count": 1,
   "id": "1a326991-25c9-4631-9ca9-f6a5b2d96dfc",
   "metadata": {},
   "outputs": [],
   "source": [
    "import csv\n",
    "import pandas as pd\n",
    "from datetime import datetime"
   ]
  },
  {
   "cell_type": "code",
   "execution_count": 4,
   "id": "9ccacf99-5877-434b-a6a3-3b047e613923",
   "metadata": {},
   "outputs": [
    {
     "name": "stdout",
     "output_type": "stream",
     "text": [
      "Memulai generate data transaksi...\n",
      "Transaksi ke-50000/1000000 selesai diproses...\n",
      "Transaksi ke-100000/1000000 selesai diproses...\n",
      "Transaksi ke-150000/1000000 selesai diproses...\n",
      "Transaksi ke-200000/1000000 selesai diproses...\n",
      "Transaksi ke-250000/1000000 selesai diproses...\n",
      "Transaksi ke-300000/1000000 selesai diproses...\n",
      "Transaksi ke-350000/1000000 selesai diproses...\n",
      "Transaksi ke-400000/1000000 selesai diproses...\n",
      "Transaksi ke-450000/1000000 selesai diproses...\n",
      "Transaksi ke-500000/1000000 selesai diproses...\n",
      "Transaksi ke-550000/1000000 selesai diproses...\n",
      "Transaksi ke-600000/1000000 selesai diproses...\n",
      "Transaksi ke-650000/1000000 selesai diproses...\n",
      "Transaksi ke-700000/1000000 selesai diproses...\n",
      "Transaksi ke-750000/1000000 selesai diproses...\n",
      "Transaksi ke-800000/1000000 selesai diproses...\n",
      "Transaksi ke-850000/1000000 selesai diproses...\n",
      "Transaksi ke-900000/1000000 selesai diproses...\n",
      "Transaksi ke-950000/1000000 selesai diproses...\n",
      "Transaksi ke-1000000/1000000 selesai diproses...\n",
      "Menyimpan data ke file CSV...\n",
      "✅ File 'Transaksi.csv' dengan 2500861 baris berhasil dibuat.\n"
     ]
    }
   ],
   "source": [
    "import pandas as pd\n",
    "from faker import Faker\n",
    "from faker.providers import BaseProvider\n",
    "from datetime import datetime\n",
    "import datetime as dt \n",
    "\n",
    "# Inisialisasi Faker untuk lokal Indonesia\n",
    "f = Faker([\"id_ID\"])\n",
    "\n",
    "# --- Provider seperti struktur awal Anda ---\n",
    "class NeuralProvider(BaseProvider):\n",
    "    def branch(self):\n",
    "        list_cabang_berbobot = [1, 1, 2, 3, 4, 4, 4, 5, 6, 7, 8, 9, 9, 10]\n",
    "        return f.random_element(list_cabang_berbobot)\n",
    "    def jenis_transaksi(self):\n",
    "        return f.random_element([\"QRis\", \"QRis\", \"Cash\", \"Gopay\", \"OVO\"])\n",
    "\n",
    "    def nomor_hp_indonesia(self):\n",
    "        list_prefix = ['0812', '0813', '0857', '0878', '0896', '0821', '0852', '0858']\n",
    "        prefix = f.random_element(list_prefix)\n",
    "        sisa_nomor = f.numerify('########')\n",
    "        return f\"{prefix}{sisa_nomor}\"\n",
    "\n",
    "# --- Provider Coffee Shop dengan ID Product (Integer) ---\n",
    "class CoffeeShopProvider(BaseProvider):\n",
    "    # 1. Kamus Harga (Kunci Unik)\n",
    "    #    Struktur ini HANYA untuk mencari harga berdasarkan ID. Tidak ada duplikasi.\n",
    "    __menu_minuman = {\n",
    "        101: 32500, 102: 39000, 103: 26000,  # Kopi Susu\n",
    "        201: 17500, 202: 23000, 203: 40250,  # Teh\n",
    "        301: 37500, 302: 31250, 303: 31250,  # Frappe\n",
    "        401: 36000, 402: 42000, 403: 30000,  # Manual Brew\n",
    "        501: 20250, 502: 33750, 503: 47250,  # Non-kopi\n",
    "        601: 42000, 602: 63000, 603: 49000,  # Signature\n",
    "    }\n",
    "\n",
    "    # 2. Daftar Berbobot (Boleh Duplikat)\n",
    "    #    Struktur ini untuk proses pemilihan acak. Ulangi ID produk sesuai bobot.\n",
    "    #    Contoh: Kopi Susu (101, 102, 103) dibuat 3x lebih sering muncul.\n",
    "    #            Teh (201, 202) dibuat 2x lebih sering muncul.\n",
    "    __weighted_product_list = (\n",
    "        # Kopi Susu (bobot 3x)\n",
    "        [101, 102, 103] * 3 +\n",
    "        # Teh (bobot 2x)\n",
    "        [201, 202, 203, 301, 302, 303,] * 2 +\n",
    "        # Produk lainnya (bobot 1x)\n",
    "        [ 401, 402, 403, 501, 502, 503, 601, 602, 603]\n",
    "    )\n",
    "\n",
    "    # 3. Metode BARU untuk mengambil ID produk secara acak (berbobot)\n",
    "# Tidak perlu 'import random' lagi\n",
    "    def get_random_product_id(self):\n",
    "        \"\"\"Mengembalikan satu ID produk acak dari daftar berbobot.\"\"\"\n",
    "        # Gunakan generator dari Faker untuk konsistensi\n",
    "        return self.generator.random_element(self.__weighted_product_list)\n",
    "\n",
    "    # Metode ini tetap benar, digunakan untuk mengambil harga\n",
    "    def get_harga(self, product_id):\n",
    "        \"\"\"Mengembalikan harga berdasarkan ID produk.\"\"\"\n",
    "        return self.__menu_minuman.get(product_id)\n",
    "\n",
    "    # Metode ini sekarang mengembalikan daftar ID produk yang UNIK\n",
    "    def get_all_product_ids(self):\n",
    "        \"\"\"Mengembalikan semua ID produk unik.\"\"\"\n",
    "        return list(self.__menu_minuman.keys())\n",
    "# Menambahkan provider ke instance Faker\n",
    "f.add_provider(NeuralProvider)\n",
    "f.add_provider(CoffeeShopProvider)\n",
    "\n",
    "# --- Logika Utama Generate Data ---\n",
    "\n",
    "JUMLAH_TRANSAKSI = 1000000\n",
    "headers = ['ID_Transaksi', 'No_Telephone', 'Customer_ID', 'Waktu_Transaksi',\n",
    "           'ID_Cabang', 'ID_Product', 'Harga', 'Quantity', 'Total_Harga', 'Jenis_Transaksi']\n",
    "\n",
    "data_list = []\n",
    "\n",
    "# =============================================================================\n",
    "# >>>>>>>> BAGIAN BARU: PERSIAPAN TANGGAL <<<<<<<<\n",
    "# =============================================================================\n",
    "# Daftar tanggal libur dan akhir pekan di Januari 2025\n",
    "list_hari_libur = [1, 4, 5, 11, 12, 18, 19, 25, 26, 29] \n",
    "# Daftar tanggal hari kerja (semua tanggal 1-31 selain hari libur)\n",
    "list_hari_kerja = [d for d in range(1, 32) if d not in list_hari_libur]\n",
    "# =============================================================================\n",
    "\n",
    "print(\"Memulai generate data transaksi...\")\n",
    "# Loop utama berdasarkan jumlah transaksi\n",
    "for i in range(JUMLAH_TRANSAKSI):\n",
    "    id_transaksi_unik = f.uuid4()\n",
    "    id_cabang = f.branch()\n",
    "    metode_pembayaran = f.jenis_transaksi()\n",
    "    no_telp_pelanggan = f.nomor_hp_indonesia()\n",
    "    customer_id_unik = f.uuid4() \n",
    "\n",
    "    # =============================================================================\n",
    "    # >>>>>>>> LOGIKA WAKTU TRANSAKSI YANG BARU <<<<<<<<\n",
    "    # =============================================================================\n",
    "    # 1. Tentukan probabilitas hari: 2 dari 3 kemungkinan adalah hari libur.\n",
    "    # Anda bisa atur rasionya, misal ['libur', 'libur', 'libur', 'kerja'] untuk 75%\n",
    "    jenis_hari = f.random_element(['libur', 'libur', 'libur', 'kerja', 'kerja'])\n",
    "\n",
    "    # 2. Pilih tanggal dari list yang sesuai\n",
    "    if jenis_hari == 'libur':\n",
    "        tanggal = f.random_element(list_hari_libur)\n",
    "    else: # jika 'kerja'\n",
    "        tanggal = f.random_element(list_hari_kerja)\n",
    "\n",
    "    # 3. Generate waktu (jam, menit, detik) secara acak\n",
    "    waktu_acak = f.time_object()\n",
    "\n",
    "    # 4. Gabungkan tanggal dan waktu menjadi satu timestamp utuh\n",
    "    waktu_transaksi = dt.datetime.combine(dt.date(2025, 1, tanggal), waktu_acak)\n",
    "    # =============================================================================\n",
    "\n",
    "    jumlah_item = f.random_int(1, 4)\n",
    "    produk_terpilih = []\n",
    "    # Loop sampai jumlah item yang unik terpenuhi\n",
    "    while len(produk_terpilih) < jumlah_item:\n",
    "        # Panggil metode yang sudah berbobot\n",
    "        id_produk_acak = f.get_random_product_id()\n",
    "        # Pastikan produk belum ada di daftar untuk transaksi ini\n",
    "        if id_produk_acak not in produk_terpilih:\n",
    "            produk_terpilih.append(id_produk_acak)\n",
    "\n",
    "    for id_produk in produk_terpilih:\n",
    "        harga = f.get_harga(id_produk)\n",
    "        kuantitas = f.random_int(1, 3)\n",
    "        total_harga = harga * kuantitas\n",
    "\n",
    "        data_list.append({\n",
    "            'ID_Transaksi': id_transaksi_unik,\n",
    "            'No_Telephone': no_telp_pelanggan,\n",
    "            'Customer_ID': customer_id_unik,\n",
    "            'Waktu_Transaksi': waktu_transaksi, # Menggunakan waktu yang baru\n",
    "            'ID_Cabang': id_cabang,\n",
    "            \"ID_Product\": id_produk,\n",
    "            \"Harga\": harga,\n",
    "            \"Quantity\": kuantitas,\n",
    "            \"Total_Harga\": total_harga,\n",
    "            'Jenis_Transaksi': metode_pembayaran\n",
    "        })\n",
    "    \n",
    "    # Progress bar sederhana\n",
    "    if (i + 1) % 50000 == 0:\n",
    "        print(f\"Transaksi ke-{i+1}/{JUMLAH_TRANSAKSI} selesai diproses...\")\n",
    "\n",
    "# --- Menyimpan ke CSV ---\n",
    "print(\"Menyimpan data ke file CSV...\")\n",
    "df = pd.DataFrame(data_list)\n",
    "nama_file = 'Transaksi.csv'\n",
    "df.to_csv(nama_file, index=False, encoding='utf-8')\n",
    "print(f\"✅ File '{nama_file}' dengan {len(df)} baris berhasil dibuat.\")"
   ]
  },
  {
   "cell_type": "code",
   "execution_count": 39,
   "id": "2597ab07-a23e-47b0-9d81-4c024e7d3d26",
   "metadata": {},
   "outputs": [
    {
     "name": "stdout",
     "output_type": "stream",
     "text": [
      "   ID_Cabang     Cabang\n",
      "0          1    Jakarta\n",
      "1          2    Bandung\n",
      "2          3      Depok\n",
      "3          4    Cirebon\n",
      "4          5   Sumedang\n",
      "5          6     Ciamis\n",
      "6          7  Tangerang\n",
      "7          8      Bogor\n",
      "8          9     Bekasi\n",
      "9         10   Karawang\n"
     ]
    }
   ],
   "source": [
    "cabang = {\n",
    "    'ID_Cabang': [1, 2, 3, 4, 5, 6, 7, 8, 9, 10],\n",
    "    'Cabang': ['Bandung', 'Cirebon', 'Depok', 'Jakarta', 'Sumedang', 'Ciamis', 'Tangerang', 'Bogor', 'Bekasi', 'Karawang'],\n",
    "}\n",
    "df_cabang = pd.DataFrame(cabang)\n",
    "\n",
    "print(df_cabang)\n",
    "\n",
    "nama_file = 'Cabang.csv'\n",
    "\n",
    "df_cabang.to_csv(nama_file, index=False)"
   ]
  },
  {
   "cell_type": "code",
   "execution_count": 4,
   "id": "1d34821a-a3d9-4a4d-8156-3362fd96d251",
   "metadata": {},
   "outputs": [
    {
     "name": "stdout",
     "output_type": "stream",
     "text": [
      "   ID_Kategori Kategori\n",
      "0            1   Coffee\n",
      "1            2      Tea\n",
      "2            3     Milk\n",
      "3            4    Other\n",
      "4            5    Snack\n",
      "5            6     Food\n"
     ]
    }
   ],
   "source": [
    "kategori = {\n",
    "    'ID_Kategori': [1, 2, 3, 4, 5, 6],\n",
    "    'Kategori': ['Coffee', 'Tea', 'Milk', 'Other', 'Snack', 'Food'],\n",
    "}\n",
    "df_kategori = pd.DataFrame(kategori)\n",
    "\n",
    "print(df_kategori)\n",
    "\n",
    "nama_file = 'Kategori.csv'\n",
    "\n",
    "df_kategori.to_csv(nama_file, index=False)"
   ]
  },
  {
   "cell_type": "code",
   "execution_count": 2,
   "id": "13bcfd86-ff53-423d-8eb0-d07c34625ec0",
   "metadata": {
    "scrolled": true
   },
   "outputs": [
    {
     "name": "stdout",
     "output_type": "stream",
     "text": [
      "    ID_Produk  ID_Kategori        Produk  Base_Price Increased_By  \\\n",
      "0         101            1     Americano       25000          30%   \n",
      "1         102            1    Cappuccino       30000          30%   \n",
      "2         103            1      Espresso       20000          30%   \n",
      "3         201            2     Black_Tea       15000          15%   \n",
      "4         202            2      Ocha_Tea       20000          15%   \n",
      "5         203            2  Matcha_Latte       35000          15%   \n",
      "6         301            3      Milk_Tea       30000          25%   \n",
      "7         302            3       OatMilk       25000          25%   \n",
      "8         303            3      Soy_Milk       25000          25%   \n",
      "9         401            4  Lemon_Squash       30000          20%   \n",
      "10        402            4      Mocktail       35000          20%   \n",
      "11        403            4         Juice       25000          20%   \n",
      "12        501            5       Cookies       15000          35%   \n",
      "13        502            5     Croissant       25000          35%   \n",
      "14        503            5      Sandwich       35000          35%   \n",
      "15        601            6    Fried_Rice       30000          40%   \n",
      "16        602            6         Pasta       45000          40%   \n",
      "17        603            6       Noodles       35000          40%   \n",
      "\n",
      "    Selling_Price  \n",
      "0           32500  \n",
      "1           39000  \n",
      "2           26000  \n",
      "3           17500  \n",
      "4           23000  \n",
      "5           40250  \n",
      "6           37500  \n",
      "7           31250  \n",
      "8           31250  \n",
      "9           36000  \n",
      "10          42000  \n",
      "11          30000  \n",
      "12          20250  \n",
      "13          33750  \n",
      "14          47250  \n",
      "15          42000  \n",
      "16          63000  \n",
      "17          49000  \n"
     ]
    }
   ],
   "source": [
    "product = {\n",
    "    'ID_Produk': [101, 102, 103,\n",
    "                  201, 202, 203,\n",
    "                  301, 302, 303,\n",
    "                  401, 402, 403,\n",
    "                  501, 502, 503,\n",
    "                  601, 602, 603],\n",
    "    'ID_Kategori': [1, 1, 1,\n",
    "                    2, 2, 2,\n",
    "                    3, 3, 3,\n",
    "                    4, 4, 4,\n",
    "                    5, 5, 5,\n",
    "                    6, 6, 6],\n",
    "    'Produk': ['Americano', 'Cappuccino', 'Espresso',\n",
    "               'Black_Tea', 'Ocha_Tea', 'Matcha_Latte',\n",
    "               'Milk_Tea', 'OatMilk', 'Soy_Milk',\n",
    "               'Lemon_Squash', 'Mocktail', 'Juice',\n",
    "               'Cookies', 'Croissant', 'Sandwich',\n",
    "               'Fried_Rice', 'Pasta', 'Noodles'],\n",
    "    'Base_Price': [25000, 30000, 20000,\n",
    "                   15000, 20000, 35000,\n",
    "                   30000, 25000, 25000,\n",
    "                   30000, 35000, 25000,\n",
    "                   15000, 25000, 35000,\n",
    "                   30000, 45000, 35000],\n",
    "    'Increased_By': ['30%', '30%', '30%',\n",
    "                     '15%', '15%', '15%',\n",
    "                     '25%', '25%', '25%',\n",
    "                     '20%', '20%', '20%',\n",
    "                     '35%', '35%', '35%',\n",
    "                     '40%', '40%', '40%'],\n",
    "    'Selling_Price': [32500, 39000, 26000,\n",
    "                      17500, 23000, 40250,\n",
    "                      37500, 31250, 31250,\n",
    "                      36000, 42000, 30000,\n",
    "                      20250, 33750, 47250,\n",
    "                      42000, 63000, 49000],\n",
    "}\n",
    "df_product = pd.DataFrame(product)\n",
    "\n",
    "print(df_product)\n",
    "\n",
    "nama_file = 'Produk.csv'\n",
    "\n",
    "df_product.to_csv(nama_file, index=False)"
   ]
  },
  {
   "cell_type": "code",
   "execution_count": 1,
   "id": "e9c91c48-b1b5-409d-99a1-0c77f05a26ce",
   "metadata": {},
   "outputs": [
    {
     "name": "stderr",
     "output_type": "stream",
     "text": [
      "25/08/26 07:51:06 WARN SparkSession: Using an existing Spark session; only runtime SQL configurations will take effect.\n"
     ]
    },
    {
     "data": {
      "text/html": [
       "<table>\n",
       "    <thead>\n",
       "        <tr>\n",
       "            <th>namespace</th>\n",
       "        </tr>\n",
       "    </thead>\n",
       "    <tbody>\n",
       "        <tr>\n",
       "            <td>coffeeshop_medallion</td>\n",
       "        </tr>\n",
       "        <tr>\n",
       "            <td>coffeeshop_rev</td>\n",
       "        </tr>\n",
       "        <tr>\n",
       "            <td>coffeeshoprev_medallion</td>\n",
       "        </tr>\n",
       "        <tr>\n",
       "            <td>default</td>\n",
       "        </tr>\n",
       "        <tr>\n",
       "            <td>hospital_gold</td>\n",
       "        </tr>\n",
       "        <tr>\n",
       "            <td>hospital_medallion</td>\n",
       "        </tr>\n",
       "        <tr>\n",
       "            <td>sample</td>\n",
       "        </tr>\n",
       "        <tr>\n",
       "            <td>Hospital</td>\n",
       "        </tr>\n",
       "        <tr>\n",
       "            <td>coffeeshop</td>\n",
       "        </tr>\n",
       "        <tr>\n",
       "            <td>test</td>\n",
       "        </tr>\n",
       "    </tbody>\n",
       "</table>"
      ],
      "text/plain": [
       "+-------------------------+\n",
       "|               namespace |\n",
       "+-------------------------+\n",
       "|    coffeeshop_medallion |\n",
       "|          coffeeshop_rev |\n",
       "| coffeeshoprev_medallion |\n",
       "|                 default |\n",
       "|           hospital_gold |\n",
       "|      hospital_medallion |\n",
       "|                  sample |\n",
       "|                Hospital |\n",
       "|              coffeeshop |\n",
       "|                    test |\n",
       "+-------------------------+"
      ]
     },
     "execution_count": 1,
     "metadata": {},
     "output_type": "execute_result"
    }
   ],
   "source": [
    "%%sql\n",
    "SHOW DATABASES"
   ]
  },
  {
   "cell_type": "code",
   "execution_count": 2,
   "id": "02064577-d840-416e-96ab-38fd22536e51",
   "metadata": {},
   "outputs": [
    {
     "data": {
      "text/html": [
       "<table>\n",
       "    <thead>\n",
       "        <tr>\n",
       "        </tr>\n",
       "    </thead>\n",
       "    <tbody>\n",
       "    </tbody>\n",
       "</table>"
      ],
      "text/plain": [
       "++\n",
       "||\n",
       "++\n",
       "++"
      ]
     },
     "execution_count": 2,
     "metadata": {},
     "output_type": "execute_result"
    }
   ],
   "source": [
    "%%sql\n",
    "use coffeeshop_rev"
   ]
  },
  {
   "cell_type": "code",
   "execution_count": 6,
   "id": "c34afa49-a82a-4b4a-abe4-6344662657b0",
   "metadata": {},
   "outputs": [
    {
     "data": {
      "text/html": [
       "<table>\n",
       "    <thead>\n",
       "        <tr>\n",
       "        </tr>\n",
       "    </thead>\n",
       "    <tbody>\n",
       "    </tbody>\n",
       "</table>"
      ],
      "text/plain": [
       "++\n",
       "||\n",
       "++\n",
       "++"
      ]
     },
     "execution_count": 6,
     "metadata": {},
     "output_type": "execute_result"
    }
   ],
   "source": [
    "%%sql\n",
    "create database if not exists coffeeshop_rev"
   ]
  },
  {
   "cell_type": "code",
   "execution_count": 6,
   "id": "d8ecbb54-820c-4d1f-baa2-8a087c2fa6f2",
   "metadata": {},
   "outputs": [
    {
     "data": {
      "text/html": [
       "<table>\n",
       "    <thead>\n",
       "        <tr>\n",
       "        </tr>\n",
       "    </thead>\n",
       "    <tbody>\n",
       "    </tbody>\n",
       "</table>"
      ],
      "text/plain": [
       "++\n",
       "||\n",
       "++\n",
       "++"
      ]
     },
     "execution_count": 6,
     "metadata": {},
     "output_type": "execute_result"
    }
   ],
   "source": [
    "%%sql\n",
    "refresh databases"
   ]
  },
  {
   "cell_type": "code",
   "execution_count": 3,
   "id": "951b4137-1fc9-418a-95e2-0188873b2e22",
   "metadata": {},
   "outputs": [
    {
     "name": "stderr",
     "output_type": "stream",
     "text": [
      "                                                                                "
     ]
    },
    {
     "name": "stdout",
     "output_type": "stream",
     "text": [
      "Skema DataFrame:\n",
      "root\n",
      " |-- ID_Transaksi: string (nullable = true)\n",
      " |-- No_Telephone: long (nullable = true)\n",
      " |-- Customer_ID: string (nullable = true)\n",
      " |-- Waktu_Transaksi: timestamp (nullable = true)\n",
      " |-- ID_Cabang: integer (nullable = true)\n",
      " |-- ID_Product: integer (nullable = true)\n",
      " |-- Harga: integer (nullable = true)\n",
      " |-- Quantity: integer (nullable = true)\n",
      " |-- Total_Harga: integer (nullable = true)\n",
      " |-- Jenis_Transaksi: string (nullable = true)\n",
      "\n",
      "\n",
      "Contoh Data:\n",
      "+--------------------+------------+--------------------+--------------------+---------+----------+-----+--------+-----------+---------------+\n",
      "|        ID_Transaksi|No_Telephone|         Customer_ID|     Waktu_Transaksi|ID_Cabang|ID_Product|Harga|Quantity|Total_Harga|Jenis_Transaksi|\n",
      "+--------------------+------------+--------------------+--------------------+---------+----------+-----+--------+-----------+---------------+\n",
      "|d4988638-3449-42b...| 85733677526|d5bd2bf1-0611-421...|2025-01-02 16:03:...|        5|       203|40250|       1|      40250|           QRis|\n",
      "|d4988638-3449-42b...| 85733677526|d5bd2bf1-0611-421...|2025-01-02 16:03:...|        5|       603|49000|       3|     147000|           QRis|\n",
      "|2c2ddc21-a957-425...| 85234785534|ad9af801-c7f9-4be...|2025-01-28 13:03:...|        9|       302|31250|       1|      31250|           Cash|\n",
      "|2c2ddc21-a957-425...| 85234785534|ad9af801-c7f9-4be...|2025-01-28 13:03:...|        9|       303|31250|       3|      93750|           Cash|\n",
      "|2c2ddc21-a957-425...| 85234785534|ad9af801-c7f9-4be...|2025-01-28 13:03:...|        9|       401|36000|       1|      36000|           Cash|\n",
      "+--------------------+------------+--------------------+--------------------+---------+----------+-----+--------+-----------+---------------+\n",
      "only showing top 5 rows\n",
      "\n"
     ]
    }
   ],
   "source": [
    "# Tentukan path ke file CSV Anda\n",
    "path_csv = 'Transaksi.csv'\n",
    "\n",
    "# Baca file CSV ke dalam Spark DataFrame\n",
    "# Spark akan secara otomatis mendeteksi header dan skema data\n",
    "df_transaksi = spark.read.csv(path_csv, header=True, inferSchema=True)\n",
    "\n",
    "# (Opsional) Tampilkan skema dan beberapa baris data untuk memastikan berhasil\n",
    "print(\"Skema DataFrame:\")\n",
    "df_transaksi.printSchema()\n",
    "\n",
    "print(\"\\nContoh Data:\")\n",
    "df_transaksi.show(5)"
   ]
  },
  {
   "cell_type": "code",
   "execution_count": 4,
   "id": "8881f953-059f-4e11-8122-ded7c934a605",
   "metadata": {
    "scrolled": true
   },
   "outputs": [
    {
     "name": "stdout",
     "output_type": "stream",
     "text": [
      "Skema DataFrame:\n",
      "root\n",
      " |-- ID_Produk: integer (nullable = true)\n",
      " |-- ID_Kategori: integer (nullable = true)\n",
      " |-- Produk: string (nullable = true)\n",
      " |-- Base_Price: integer (nullable = true)\n",
      " |-- Increased_By: string (nullable = true)\n",
      " |-- Selling_Price: integer (nullable = true)\n",
      "\n",
      "\n",
      "Contoh Data:\n",
      "+---------+-----------+----------+----------+------------+-------------+\n",
      "|ID_Produk|ID_Kategori|    Produk|Base_Price|Increased_By|Selling_Price|\n",
      "+---------+-----------+----------+----------+------------+-------------+\n",
      "|      101|          1| Americano|     25000|         30%|        32500|\n",
      "|      102|          1|Cappuccino|     30000|         30%|        39000|\n",
      "|      103|          1|  Espresso|     20000|         30%|        26000|\n",
      "|      201|          2| Black_Tea|     15000|         15%|        17500|\n",
      "|      202|          2|  Ocha_Tea|     20000|         15%|        23000|\n",
      "+---------+-----------+----------+----------+------------+-------------+\n",
      "only showing top 5 rows\n",
      "\n"
     ]
    }
   ],
   "source": [
    "# Tentukan path ke file CSV Anda\n",
    "path_csv = 'Produk.csv'\n",
    "\n",
    "# Baca file CSV ke dalam Spark DataFrame\n",
    "# Spark akan secara otomatis mendeteksi header dan skema data\n",
    "df_product = spark.read.csv(path_csv, header=True, inferSchema=True)\n",
    "\n",
    "# (Opsional) Tampilkan skema dan beberapa baris data untuk memastikan berhasil\n",
    "print(\"Skema DataFrame:\")\n",
    "df_product.printSchema()\n",
    "\n",
    "print(\"\\nContoh Data:\")\n",
    "df_product.show(5)"
   ]
  },
  {
   "cell_type": "code",
   "execution_count": 5,
   "id": "653eb456-cca1-44f1-9b95-be8c8ce2affd",
   "metadata": {},
   "outputs": [
    {
     "name": "stdout",
     "output_type": "stream",
     "text": [
      "Skema DataFrame:\n",
      "root\n",
      " |-- ID_Kategori: integer (nullable = true)\n",
      " |-- Kategori: string (nullable = true)\n",
      "\n",
      "\n",
      "Contoh Data:\n",
      "+-----------+--------+\n",
      "|ID_Kategori|Kategori|\n",
      "+-----------+--------+\n",
      "|          1|  Coffee|\n",
      "|          2|     Tea|\n",
      "|          3|    Milk|\n",
      "|          4|   Other|\n",
      "|          5|   Snack|\n",
      "+-----------+--------+\n",
      "only showing top 5 rows\n",
      "\n"
     ]
    }
   ],
   "source": [
    "# Baca file CSV ke dalam Spark DataFrame\n",
    "# Spark akan secara otomatis mendeteksi header dan skema data\n",
    "df_kategori = spark.read.csv('Kategori.csv', header=True, inferSchema=True)\n",
    "\n",
    "# (Opsional) Tampilkan skema dan beberapa baris data untuk memastikan berhasil\n",
    "print(\"Skema DataFrame:\")\n",
    "df_kategori.printSchema()\n",
    "\n",
    "print(\"\\nContoh Data:\")\n",
    "df_kategori.show(5)\n",
    "\n",
    "df_kategori.createOrReplaceTempView(\"Kategori\")"
   ]
  },
  {
   "cell_type": "code",
   "execution_count": 6,
   "id": "4bbb2f21-751d-4f4f-9a68-d2332b3ec1d4",
   "metadata": {},
   "outputs": [
    {
     "name": "stdout",
     "output_type": "stream",
     "text": [
      "Skema DataFrame:\n",
      "root\n",
      " |-- ID_Cabang: integer (nullable = true)\n",
      " |-- Cabang: string (nullable = true)\n",
      "\n",
      "\n",
      "Contoh Data:\n",
      "+---------+--------+\n",
      "|ID_Cabang|  Cabang|\n",
      "+---------+--------+\n",
      "|        1| Bandung|\n",
      "|        2| Cirebon|\n",
      "|        3|   Depok|\n",
      "|        4| Jakarta|\n",
      "|        5|Sumedang|\n",
      "+---------+--------+\n",
      "only showing top 5 rows\n",
      "\n"
     ]
    }
   ],
   "source": [
    "# Baca file CSV ke dalam Spark DataFrame\n",
    "# Spark akan secara otomatis mendeteksi header dan skema data\n",
    "df_cabang = spark.read.csv('Cabang.csv', header=True, inferSchema=True)\n",
    "\n",
    "# (Opsional) Tampilkan skema dan beberapa baris data untuk memastikan berhasil\n",
    "print(\"Skema DataFrame:\")\n",
    "df_cabang.printSchema()\n",
    "\n",
    "print(\"\\nContoh Data:\")\n",
    "df_cabang.show(5)\n",
    "\n",
    "df_cabang.createOrReplaceTempView(\"Cabang\")"
   ]
  },
  {
   "cell_type": "code",
   "execution_count": 7,
   "id": "3c06498a-0fe1-4bf4-af42-9f3c11f23ce9",
   "metadata": {},
   "outputs": [],
   "source": [
    "df_transaksi.createOrReplaceTempView(\"Transaksi\")"
   ]
  },
  {
   "cell_type": "code",
   "execution_count": 8,
   "id": "3fdad0c2-285c-4289-a9a3-93ceda501508",
   "metadata": {},
   "outputs": [],
   "source": [
    "df_product.createOrReplaceTempView(\"Produk\")\n",
    "df_kategori.createOrReplaceTempView(\"Kategori\")\n",
    "df_cabang.createOrReplaceTempView(\"Cabang\")"
   ]
  },
  {
   "cell_type": "code",
   "execution_count": 71,
   "id": "21733831-d62e-4d46-a9b3-feeb21117bff",
   "metadata": {},
   "outputs": [
    {
     "data": {
      "text/html": [
       "<table>\n",
       "    <thead>\n",
       "        <tr>\n",
       "            <th>namespace</th>\n",
       "            <th>tableName</th>\n",
       "            <th>isTemporary</th>\n",
       "        </tr>\n",
       "    </thead>\n",
       "    <tbody>\n",
       "        <tr>\n",
       "            <td>coffeeshop_rev</td>\n",
       "            <td>Cabang</td>\n",
       "            <td>False</td>\n",
       "        </tr>\n",
       "        <tr>\n",
       "            <td>coffeeshop_rev</td>\n",
       "            <td>Kategori</td>\n",
       "            <td>False</td>\n",
       "        </tr>\n",
       "        <tr>\n",
       "            <td>coffeeshop_rev</td>\n",
       "            <td>Produk</td>\n",
       "            <td>False</td>\n",
       "        </tr>\n",
       "        <tr>\n",
       "            <td>coffeeshop_rev</td>\n",
       "            <td>Transaksi</td>\n",
       "            <td>False</td>\n",
       "        </tr>\n",
       "    </tbody>\n",
       "</table>"
      ],
      "text/plain": [
       "+----------------+-----------+-------------+\n",
       "|      namespace | tableName | isTemporary |\n",
       "+----------------+-----------+-------------+\n",
       "| coffeeshop_rev |    Cabang |       False |\n",
       "| coffeeshop_rev |  Kategori |       False |\n",
       "| coffeeshop_rev |    Produk |       False |\n",
       "| coffeeshop_rev | Transaksi |       False |\n",
       "+----------------+-----------+-------------+"
      ]
     },
     "execution_count": 71,
     "metadata": {},
     "output_type": "execute_result"
    }
   ],
   "source": [
    "%%sql\n",
    "show tables;"
   ]
  },
  {
   "cell_type": "code",
   "execution_count": 11,
   "id": "7bbda735-9a5c-429f-b7a1-f342510fb203",
   "metadata": {},
   "outputs": [
    {
     "data": {
      "text/html": [
       "<table>\n",
       "    <thead>\n",
       "        <tr>\n",
       "        </tr>\n",
       "    </thead>\n",
       "    <tbody>\n",
       "    </tbody>\n",
       "</table>"
      ],
      "text/plain": [
       "++\n",
       "||\n",
       "++\n",
       "++"
      ]
     },
     "execution_count": 11,
     "metadata": {},
     "output_type": "execute_result"
    }
   ],
   "source": [
    "%%sql\n",
    "CREATE TABLE\n",
    "  if NOT EXISTS Transaksi (\n",
    "        ID_Transaksi string,\n",
    "        No_Telephone string,\n",
    "        Customer_ID string,\n",
    "        Waktu_Transaksi timestamp,\n",
    "        ID_Cabang integer,\n",
    "        ID_Product integer,\n",
    "        Harga integer,\n",
    "        Quantity integer,\n",
    "        Total_Harga double,\n",
    "        Jenis_Transaksi string\n",
    ")"
   ]
  },
  {
   "cell_type": "code",
   "execution_count": 18,
   "id": "e7f991ac-1f38-41aa-b4c3-83b8d296b157",
   "metadata": {},
   "outputs": [
    {
     "data": {
      "text/html": [
       "<table>\n",
       "    <thead>\n",
       "        <tr>\n",
       "        </tr>\n",
       "    </thead>\n",
       "    <tbody>\n",
       "    </tbody>\n",
       "</table>"
      ],
      "text/plain": [
       "++\n",
       "||\n",
       "++\n",
       "++"
      ]
     },
     "execution_count": 18,
     "metadata": {},
     "output_type": "execute_result"
    }
   ],
   "source": [
    "%%sql\n",
    "CREATE TABLE\n",
    "  if NOT EXISTS Produk (\n",
    "        ID_Produk integer ,\n",
    "        ID_Kategori integer ,\n",
    "        Produk string,\n",
    "        Base_Price integer ,\n",
    "        Increased_By string,\n",
    "        Selling_Price integer\n",
    ")"
   ]
  },
  {
   "cell_type": "code",
   "execution_count": 24,
   "id": "0820e088-d6e7-48c9-8dc7-4aee964460a5",
   "metadata": {},
   "outputs": [
    {
     "data": {
      "text/html": [
       "<table>\n",
       "    <thead>\n",
       "        <tr>\n",
       "        </tr>\n",
       "    </thead>\n",
       "    <tbody>\n",
       "    </tbody>\n",
       "</table>"
      ],
      "text/plain": [
       "++\n",
       "||\n",
       "++\n",
       "++"
      ]
     },
     "execution_count": 24,
     "metadata": {},
     "output_type": "execute_result"
    }
   ],
   "source": [
    "%%sql\n",
    "CREATE TABLE\n",
    "  if NOT EXISTS Kategori (\n",
    "        ID_Kategori integer ,\n",
    "        Kategori string\n",
    ")"
   ]
  },
  {
   "cell_type": "code",
   "execution_count": 25,
   "id": "7cfa9ccd-080f-4ddd-b26f-122d0f980218",
   "metadata": {},
   "outputs": [
    {
     "data": {
      "text/html": [
       "<table>\n",
       "    <thead>\n",
       "        <tr>\n",
       "        </tr>\n",
       "    </thead>\n",
       "    <tbody>\n",
       "    </tbody>\n",
       "</table>"
      ],
      "text/plain": [
       "++\n",
       "||\n",
       "++\n",
       "++"
      ]
     },
     "execution_count": 25,
     "metadata": {},
     "output_type": "execute_result"
    }
   ],
   "source": [
    "%%sql\n",
    "CREATE TABLE\n",
    "  if NOT EXISTS Cabang (\n",
    "        ID_Cabang integer ,\n",
    "        Cabang string\n",
    ")"
   ]
  },
  {
   "cell_type": "code",
   "execution_count": 29,
   "id": "406460be-b21f-4f91-8f07-1f0d99644c5a",
   "metadata": {},
   "outputs": [
    {
     "data": {
      "text/html": [
       "<table>\n",
       "    <thead>\n",
       "        <tr>\n",
       "            <th>namespace</th>\n",
       "            <th>tableName</th>\n",
       "            <th>isTemporary</th>\n",
       "        </tr>\n",
       "    </thead>\n",
       "    <tbody>\n",
       "        <tr>\n",
       "            <td>coffeeshop_rev</td>\n",
       "            <td>Cabang</td>\n",
       "            <td>False</td>\n",
       "        </tr>\n",
       "        <tr>\n",
       "            <td>coffeeshop_rev</td>\n",
       "            <td>Kategori</td>\n",
       "            <td>False</td>\n",
       "        </tr>\n",
       "        <tr>\n",
       "            <td>coffeeshop_rev</td>\n",
       "            <td>Produk</td>\n",
       "            <td>False</td>\n",
       "        </tr>\n",
       "        <tr>\n",
       "            <td>coffeeshop_rev</td>\n",
       "            <td>Transaksi</td>\n",
       "            <td>False</td>\n",
       "        </tr>\n",
       "    </tbody>\n",
       "</table>"
      ],
      "text/plain": [
       "+----------------+-----------+-------------+\n",
       "|      namespace | tableName | isTemporary |\n",
       "+----------------+-----------+-------------+\n",
       "| coffeeshop_rev |    Cabang |       False |\n",
       "| coffeeshop_rev |  Kategori |       False |\n",
       "| coffeeshop_rev |    Produk |       False |\n",
       "| coffeeshop_rev | Transaksi |       False |\n",
       "+----------------+-----------+-------------+"
      ]
     },
     "execution_count": 29,
     "metadata": {},
     "output_type": "execute_result"
    }
   ],
   "source": [
    "%%sql\n",
    "show tables;"
   ]
  },
  {
   "cell_type": "markdown",
   "id": "1d3105e7-7602-4392-8b8f-2f0a7dfb73f4",
   "metadata": {},
   "source": [
    "# Medallion architecture (Bronze)"
   ]
  },
  {
   "cell_type": "code",
   "execution_count": 9,
   "id": "c746540f-9e8a-4a76-8ad2-b78e88ccea9e",
   "metadata": {},
   "outputs": [],
   "source": [
    "import pyspark\n",
    "from pyspark.sql import functions as F"
   ]
  },
  {
   "cell_type": "code",
   "execution_count": 10,
   "id": "c7e1aead-299c-4288-af3b-85b7683e9cde",
   "metadata": {},
   "outputs": [],
   "source": [
    "df_transaksi = spark.table(\"Transaksi\")"
   ]
  },
  {
   "cell_type": "code",
   "execution_count": 11,
   "id": "f60ad28c-baa3-4363-8a25-3ac4619d56dd",
   "metadata": {},
   "outputs": [],
   "source": [
    "df_product = spark.table(\"Produk\")"
   ]
  },
  {
   "cell_type": "code",
   "execution_count": 12,
   "id": "a570b899-9060-4222-ab5e-48bb0e0187f4",
   "metadata": {},
   "outputs": [],
   "source": [
    "df_kategori = spark.table(\"Kategori\")"
   ]
  },
  {
   "cell_type": "code",
   "execution_count": 13,
   "id": "276d7aa0-751d-4d34-8fee-f2a7d8aa876b",
   "metadata": {},
   "outputs": [],
   "source": [
    "df_cabang = spark.table(\"Cabang\")"
   ]
  },
  {
   "cell_type": "code",
   "execution_count": 15,
   "id": "ecbee757-92ef-4c18-8f2a-820e4e98a171",
   "metadata": {},
   "outputs": [
    {
     "name": "stdout",
     "output_type": "stream",
     "text": [
      "+--------------------+------------+--------------------+--------------------+---------+----------+-----+--------+-----------+---------------+\n",
      "|        ID_Transaksi|No_Telephone|         Customer_ID|     Waktu_Transaksi|ID_Cabang|ID_Product|Harga|Quantity|Total_Harga|Jenis_Transaksi|\n",
      "+--------------------+------------+--------------------+--------------------+---------+----------+-----+--------+-----------+---------------+\n",
      "|d4988638-3449-42b...| 85733677526|d5bd2bf1-0611-421...|2025-01-02 16:03:...|        5|       203|40250|       1|      40250|           QRis|\n",
      "|d4988638-3449-42b...| 85733677526|d5bd2bf1-0611-421...|2025-01-02 16:03:...|        5|       603|49000|       3|     147000|           QRis|\n",
      "|2c2ddc21-a957-425...| 85234785534|ad9af801-c7f9-4be...|2025-01-28 13:03:...|        9|       302|31250|       1|      31250|           Cash|\n",
      "|2c2ddc21-a957-425...| 85234785534|ad9af801-c7f9-4be...|2025-01-28 13:03:...|        9|       303|31250|       3|      93750|           Cash|\n",
      "|2c2ddc21-a957-425...| 85234785534|ad9af801-c7f9-4be...|2025-01-28 13:03:...|        9|       401|36000|       1|      36000|           Cash|\n",
      "+--------------------+------------+--------------------+--------------------+---------+----------+-----+--------+-----------+---------------+\n",
      "only showing top 5 rows\n",
      "\n"
     ]
    }
   ],
   "source": [
    "df_transaksi.show(5)"
   ]
  },
  {
   "cell_type": "code",
   "execution_count": 21,
   "id": "e7e7567d-93ab-42e9-b6ce-0a303936885b",
   "metadata": {},
   "outputs": [
    {
     "data": {
      "text/html": [
       "<table>\n",
       "    <thead>\n",
       "        <tr>\n",
       "        </tr>\n",
       "    </thead>\n",
       "    <tbody>\n",
       "    </tbody>\n",
       "</table>"
      ],
      "text/plain": [
       "++\n",
       "||\n",
       "++\n",
       "++"
      ]
     },
     "execution_count": 21,
     "metadata": {},
     "output_type": "execute_result"
    }
   ],
   "source": [
    "%%sql\n",
    "CREATE TABLE\n",
    "  if NOT EXISTS coffeeshoprev_medallion.transaksi_bronze (\n",
    "    ID_Transaksi string,\n",
    "    No_Telephone string,\n",
    "    Customer_ID string,\n",
    "    Waktu_Transaksi TIMESTAMP,\n",
    "    ID_Cabang INTEGER,\n",
    "    ID_Product INTEGER,\n",
    "    Harga INTEGER,\n",
    "    Quantity INTEGER,\n",
    "    Total_Harga INTEGER,\n",
    "    Jenis_Transaksi string\n",
    "  )"
   ]
  },
  {
   "cell_type": "code",
   "execution_count": 52,
   "id": "6a41a70f-2b1f-476c-8197-cb5345240bd1",
   "metadata": {},
   "outputs": [
    {
     "data": {
      "text/html": [
       "<table>\n",
       "    <thead>\n",
       "        <tr>\n",
       "        </tr>\n",
       "    </thead>\n",
       "    <tbody>\n",
       "    </tbody>\n",
       "</table>"
      ],
      "text/plain": [
       "++\n",
       "||\n",
       "++\n",
       "++"
      ]
     },
     "execution_count": 52,
     "metadata": {},
     "output_type": "execute_result"
    }
   ],
   "source": [
    "%%sql\n",
    "CREATE TABLE\n",
    "  if NOT EXISTS coffeeshoprev_medallion.produk_bronze (\n",
    "        ID_Produk integer ,\n",
    "        ID_Kategori integer ,\n",
    "        Produk string,\n",
    "        Base_Price integer ,\n",
    "        Increased_By string,\n",
    "        Selling_Price integer\n",
    ")"
   ]
  },
  {
   "cell_type": "code",
   "execution_count": 53,
   "id": "29e00956-7de8-462c-a02e-9f19f0ac1ba2",
   "metadata": {},
   "outputs": [
    {
     "data": {
      "text/html": [
       "<table>\n",
       "    <thead>\n",
       "        <tr>\n",
       "        </tr>\n",
       "    </thead>\n",
       "    <tbody>\n",
       "    </tbody>\n",
       "</table>"
      ],
      "text/plain": [
       "++\n",
       "||\n",
       "++\n",
       "++"
      ]
     },
     "execution_count": 53,
     "metadata": {},
     "output_type": "execute_result"
    }
   ],
   "source": [
    "%%sql\n",
    "CREATE TABLE\n",
    "  if NOT EXISTS coffeeshoprev_medallion.kategori_bronze (\n",
    "        ID_Kategori integer ,\n",
    "        Kategori string\n",
    ")"
   ]
  },
  {
   "cell_type": "code",
   "execution_count": 15,
   "id": "126c5384-d83e-4bdb-b904-0f14f686accb",
   "metadata": {},
   "outputs": [
    {
     "data": {
      "text/html": [
       "<table>\n",
       "    <thead>\n",
       "        <tr>\n",
       "        </tr>\n",
       "    </thead>\n",
       "    <tbody>\n",
       "    </tbody>\n",
       "</table>"
      ],
      "text/plain": [
       "++\n",
       "||\n",
       "++\n",
       "++"
      ]
     },
     "execution_count": 15,
     "metadata": {},
     "output_type": "execute_result"
    }
   ],
   "source": [
    "%%sql\n",
    "CREATE TABLE\n",
    "  if NOT EXISTS coffeeshoprev_medallion.cabang_bronze (\n",
    "        ID_Cabang integer ,\n",
    "        Cabang string\n",
    ")"
   ]
  },
  {
   "cell_type": "code",
   "execution_count": 16,
   "id": "628e1bc2-efe8-4227-b08f-c56d10487405",
   "metadata": {},
   "outputs": [],
   "source": [
    "brz_transaksi = df_transaksi"
   ]
  },
  {
   "cell_type": "code",
   "execution_count": 17,
   "id": "4d72153b-217e-43a3-9490-535b36d890dc",
   "metadata": {},
   "outputs": [],
   "source": [
    "brz_produk = df_product\n",
    "brz_kategori = df_kategori\n",
    "brz_cabang = df_cabang"
   ]
  },
  {
   "cell_type": "code",
   "execution_count": 24,
   "id": "f2ca02a4-85c6-4daf-a470-3f4e75ab558c",
   "metadata": {},
   "outputs": [
    {
     "name": "stderr",
     "output_type": "stream",
     "text": [
      "                                                                                "
     ]
    }
   ],
   "source": [
    "brz_transaksi.write.insertInto(\"coffeeshoprev_medallion.transaksi_bronze\")"
   ]
  },
  {
   "cell_type": "code",
   "execution_count": 18,
   "id": "5b460565-25c3-4a30-b6db-b62d28e170af",
   "metadata": {},
   "outputs": [
    {
     "name": "stderr",
     "output_type": "stream",
     "text": [
      "                                                                                "
     ]
    }
   ],
   "source": [
    "brz_cabang.write.insertInto(\"coffeeshoprev_medallion.cabang_bronze\")"
   ]
  },
  {
   "cell_type": "code",
   "execution_count": 20,
   "id": "83d0906c-4a54-4260-b95a-8c9dcb74644e",
   "metadata": {},
   "outputs": [],
   "source": [
    "brz_produk.write.insertInto(\"coffeeshoprev_medallion.produk_bronze\")\n",
    "brz_kategori.write.insertInto(\"coffeeshoprev_medallion.kategori_bronze\")\n"
   ]
  },
  {
   "cell_type": "code",
   "execution_count": 25,
   "id": "268b5ac3-a5bb-4d5d-939f-a6012bcd35e5",
   "metadata": {},
   "outputs": [
    {
     "name": "stderr",
     "output_type": "stream",
     "text": [
      "                                                                                "
     ]
    },
    {
     "data": {
      "text/html": [
       "<table>\n",
       "    <thead>\n",
       "        <tr>\n",
       "            <th>ID_Transaksi</th>\n",
       "            <th>No_Telephone</th>\n",
       "            <th>Customer_ID</th>\n",
       "            <th>Waktu_Transaksi</th>\n",
       "            <th>ID_Cabang</th>\n",
       "            <th>ID_Product</th>\n",
       "            <th>Harga</th>\n",
       "            <th>Quantity</th>\n",
       "            <th>Total_Harga</th>\n",
       "            <th>Jenis_Transaksi</th>\n",
       "        </tr>\n",
       "    </thead>\n",
       "    <tbody>\n",
       "        <tr>\n",
       "            <td>d4988638-3449-42be-8cae-f2adccc37954</td>\n",
       "            <td>85733677526</td>\n",
       "            <td>d5bd2bf1-0611-4211-8124-e767501b2293</td>\n",
       "            <td>2025-01-02 16:03:31.078623</td>\n",
       "            <td>5</td>\n",
       "            <td>203</td>\n",
       "            <td>40250</td>\n",
       "            <td>1</td>\n",
       "            <td>40250</td>\n",
       "            <td>QRis</td>\n",
       "        </tr>\n",
       "        <tr>\n",
       "            <td>d4988638-3449-42be-8cae-f2adccc37954</td>\n",
       "            <td>85733677526</td>\n",
       "            <td>d5bd2bf1-0611-4211-8124-e767501b2293</td>\n",
       "            <td>2025-01-02 16:03:31.078623</td>\n",
       "            <td>5</td>\n",
       "            <td>603</td>\n",
       "            <td>49000</td>\n",
       "            <td>3</td>\n",
       "            <td>147000</td>\n",
       "            <td>QRis</td>\n",
       "        </tr>\n",
       "        <tr>\n",
       "            <td>2c2ddc21-a957-4255-97b7-0955a3f80885</td>\n",
       "            <td>85234785534</td>\n",
       "            <td>ad9af801-c7f9-4bea-b640-01e9c5badac7</td>\n",
       "            <td>2025-01-28 13:03:13.529545</td>\n",
       "            <td>9</td>\n",
       "            <td>302</td>\n",
       "            <td>31250</td>\n",
       "            <td>1</td>\n",
       "            <td>31250</td>\n",
       "            <td>Cash</td>\n",
       "        </tr>\n",
       "        <tr>\n",
       "            <td>2c2ddc21-a957-4255-97b7-0955a3f80885</td>\n",
       "            <td>85234785534</td>\n",
       "            <td>ad9af801-c7f9-4bea-b640-01e9c5badac7</td>\n",
       "            <td>2025-01-28 13:03:13.529545</td>\n",
       "            <td>9</td>\n",
       "            <td>303</td>\n",
       "            <td>31250</td>\n",
       "            <td>3</td>\n",
       "            <td>93750</td>\n",
       "            <td>Cash</td>\n",
       "        </tr>\n",
       "        <tr>\n",
       "            <td>2c2ddc21-a957-4255-97b7-0955a3f80885</td>\n",
       "            <td>85234785534</td>\n",
       "            <td>ad9af801-c7f9-4bea-b640-01e9c5badac7</td>\n",
       "            <td>2025-01-28 13:03:13.529545</td>\n",
       "            <td>9</td>\n",
       "            <td>401</td>\n",
       "            <td>36000</td>\n",
       "            <td>1</td>\n",
       "            <td>36000</td>\n",
       "            <td>Cash</td>\n",
       "        </tr>\n",
       "        <tr>\n",
       "            <td>2c2ddc21-a957-4255-97b7-0955a3f80885</td>\n",
       "            <td>85234785534</td>\n",
       "            <td>ad9af801-c7f9-4bea-b640-01e9c5badac7</td>\n",
       "            <td>2025-01-28 13:03:13.529545</td>\n",
       "            <td>9</td>\n",
       "            <td>101</td>\n",
       "            <td>32500</td>\n",
       "            <td>3</td>\n",
       "            <td>97500</td>\n",
       "            <td>Cash</td>\n",
       "        </tr>\n",
       "        <tr>\n",
       "            <td>904df7f9-0c6a-4da6-91b9-2e85af6f4405</td>\n",
       "            <td>85743085420</td>\n",
       "            <td>93f62f8c-3b3c-460c-8546-cdae67f8850b</td>\n",
       "            <td>2025-01-12 20:52:14.671158</td>\n",
       "            <td>1</td>\n",
       "            <td>302</td>\n",
       "            <td>31250</td>\n",
       "            <td>1</td>\n",
       "            <td>31250</td>\n",
       "            <td>QRis</td>\n",
       "        </tr>\n",
       "        <tr>\n",
       "            <td>904df7f9-0c6a-4da6-91b9-2e85af6f4405</td>\n",
       "            <td>85743085420</td>\n",
       "            <td>93f62f8c-3b3c-460c-8546-cdae67f8850b</td>\n",
       "            <td>2025-01-12 20:52:14.671158</td>\n",
       "            <td>1</td>\n",
       "            <td>301</td>\n",
       "            <td>37500</td>\n",
       "            <td>2</td>\n",
       "            <td>75000</td>\n",
       "            <td>QRis</td>\n",
       "        </tr>\n",
       "        <tr>\n",
       "            <td>315e3f4d-5d73-4d0e-81c0-bec41dbe5c89</td>\n",
       "            <td>87840037806</td>\n",
       "            <td>1fdaa29b-48cc-4770-8cba-3d902c0fc353</td>\n",
       "            <td>2025-01-16 13:52:32.167531</td>\n",
       "            <td>8</td>\n",
       "            <td>103</td>\n",
       "            <td>26000</td>\n",
       "            <td>1</td>\n",
       "            <td>26000</td>\n",
       "            <td>QRis</td>\n",
       "        </tr>\n",
       "        <tr>\n",
       "            <td>315e3f4d-5d73-4d0e-81c0-bec41dbe5c89</td>\n",
       "            <td>87840037806</td>\n",
       "            <td>1fdaa29b-48cc-4770-8cba-3d902c0fc353</td>\n",
       "            <td>2025-01-16 13:52:32.167531</td>\n",
       "            <td>8</td>\n",
       "            <td>101</td>\n",
       "            <td>32500</td>\n",
       "            <td>3</td>\n",
       "            <td>97500</td>\n",
       "            <td>QRis</td>\n",
       "        </tr>\n",
       "    </tbody>\n",
       "</table>"
      ],
      "text/plain": [
       "+--------------------------------------+--------------+--------------------------------------+----------------------------+-----------+------------+-------+----------+-------------+-----------------+\n",
       "|                         ID_Transaksi | No_Telephone |                          Customer_ID |            Waktu_Transaksi | ID_Cabang | ID_Product | Harga | Quantity | Total_Harga | Jenis_Transaksi |\n",
       "+--------------------------------------+--------------+--------------------------------------+----------------------------+-----------+------------+-------+----------+-------------+-----------------+\n",
       "| d4988638-3449-42be-8cae-f2adccc37954 |  85733677526 | d5bd2bf1-0611-4211-8124-e767501b2293 | 2025-01-02 16:03:31.078623 |         5 |        203 | 40250 |        1 |       40250 |            QRis |\n",
       "| d4988638-3449-42be-8cae-f2adccc37954 |  85733677526 | d5bd2bf1-0611-4211-8124-e767501b2293 | 2025-01-02 16:03:31.078623 |         5 |        603 | 49000 |        3 |      147000 |            QRis |\n",
       "| 2c2ddc21-a957-4255-97b7-0955a3f80885 |  85234785534 | ad9af801-c7f9-4bea-b640-01e9c5badac7 | 2025-01-28 13:03:13.529545 |         9 |        302 | 31250 |        1 |       31250 |            Cash |\n",
       "| 2c2ddc21-a957-4255-97b7-0955a3f80885 |  85234785534 | ad9af801-c7f9-4bea-b640-01e9c5badac7 | 2025-01-28 13:03:13.529545 |         9 |        303 | 31250 |        3 |       93750 |            Cash |\n",
       "| 2c2ddc21-a957-4255-97b7-0955a3f80885 |  85234785534 | ad9af801-c7f9-4bea-b640-01e9c5badac7 | 2025-01-28 13:03:13.529545 |         9 |        401 | 36000 |        1 |       36000 |            Cash |\n",
       "| 2c2ddc21-a957-4255-97b7-0955a3f80885 |  85234785534 | ad9af801-c7f9-4bea-b640-01e9c5badac7 | 2025-01-28 13:03:13.529545 |         9 |        101 | 32500 |        3 |       97500 |            Cash |\n",
       "| 904df7f9-0c6a-4da6-91b9-2e85af6f4405 |  85743085420 | 93f62f8c-3b3c-460c-8546-cdae67f8850b | 2025-01-12 20:52:14.671158 |         1 |        302 | 31250 |        1 |       31250 |            QRis |\n",
       "| 904df7f9-0c6a-4da6-91b9-2e85af6f4405 |  85743085420 | 93f62f8c-3b3c-460c-8546-cdae67f8850b | 2025-01-12 20:52:14.671158 |         1 |        301 | 37500 |        2 |       75000 |            QRis |\n",
       "| 315e3f4d-5d73-4d0e-81c0-bec41dbe5c89 |  87840037806 | 1fdaa29b-48cc-4770-8cba-3d902c0fc353 | 2025-01-16 13:52:32.167531 |         8 |        103 | 26000 |        1 |       26000 |            QRis |\n",
       "| 315e3f4d-5d73-4d0e-81c0-bec41dbe5c89 |  87840037806 | 1fdaa29b-48cc-4770-8cba-3d902c0fc353 | 2025-01-16 13:52:32.167531 |         8 |        101 | 32500 |        3 |       97500 |            QRis |\n",
       "+--------------------------------------+--------------+--------------------------------------+----------------------------+-----------+------------+-------+----------+-------------+-----------------+"
      ]
     },
     "execution_count": 25,
     "metadata": {},
     "output_type": "execute_result"
    }
   ],
   "source": [
    "%%sql\n",
    "\n",
    "select * from coffeeshoprev_medallion.transaksi_bronze limit 10"
   ]
  },
  {
   "cell_type": "markdown",
   "id": "f1f8a208-8553-4702-9654-683db707d0ed",
   "metadata": {},
   "source": [
    "# Medallion architecture (Silver)"
   ]
  },
  {
   "cell_type": "code",
   "execution_count": 26,
   "id": "5ccb3080-0c1c-425d-84dc-a3db6061727b",
   "metadata": {},
   "outputs": [
    {
     "data": {
      "text/html": [
       "<table>\n",
       "    <thead>\n",
       "        <tr>\n",
       "        </tr>\n",
       "    </thead>\n",
       "    <tbody>\n",
       "    </tbody>\n",
       "</table>"
      ],
      "text/plain": [
       "++\n",
       "||\n",
       "++\n",
       "++"
      ]
     },
     "execution_count": 26,
     "metadata": {},
     "output_type": "execute_result"
    }
   ],
   "source": [
    "%%sql\n",
    "CREATE TABLE\n",
    "  if NOT EXISTS coffeeshoprev_medallion.transaksi_silver (\n",
    "    ID_Transaksi string,\n",
    "    No_Telephone string,\n",
    "    Customer_ID string,\n",
    "    Waktu_Transaksi TIMESTAMP,\n",
    "    ID_Cabang INTEGER,\n",
    "    ID_Product INTEGER,\n",
    "    Harga INTEGER,\n",
    "    Quantity INTEGER,\n",
    "    Total_Harga INTEGER,\n",
    "    Jenis_Transaksi string\n",
    "  )"
   ]
  },
  {
   "cell_type": "code",
   "execution_count": 67,
   "id": "06ad3442-0574-4996-b538-73af5c178781",
   "metadata": {},
   "outputs": [
    {
     "data": {
      "text/html": [
       "<table>\n",
       "    <thead>\n",
       "        <tr>\n",
       "        </tr>\n",
       "    </thead>\n",
       "    <tbody>\n",
       "    </tbody>\n",
       "</table>"
      ],
      "text/plain": [
       "++\n",
       "||\n",
       "++\n",
       "++"
      ]
     },
     "execution_count": 67,
     "metadata": {},
     "output_type": "execute_result"
    }
   ],
   "source": [
    "%%sql\n",
    "CREATE TABLE\n",
    "  if NOT EXISTS coffeeshoprev_medallion.produk_silver (\n",
    "        ID_Produk integer ,\n",
    "        ID_Kategori integer ,\n",
    "        Produk string,\n",
    "        Base_Price integer ,\n",
    "        Increased_By string,\n",
    "        Selling_Price integer\n",
    ")"
   ]
  },
  {
   "cell_type": "code",
   "execution_count": 68,
   "id": "78e6fa3f-1224-45ea-9053-57e68e07d941",
   "metadata": {},
   "outputs": [
    {
     "data": {
      "text/html": [
       "<table>\n",
       "    <thead>\n",
       "        <tr>\n",
       "        </tr>\n",
       "    </thead>\n",
       "    <tbody>\n",
       "    </tbody>\n",
       "</table>"
      ],
      "text/plain": [
       "++\n",
       "||\n",
       "++\n",
       "++"
      ]
     },
     "execution_count": 68,
     "metadata": {},
     "output_type": "execute_result"
    }
   ],
   "source": [
    "%%sql\n",
    "CREATE TABLE\n",
    "  if NOT EXISTS coffeeshoprev_medallion.kategori_silver (\n",
    "        ID_Kategori integer ,\n",
    "        Kategori string\n",
    ")"
   ]
  },
  {
   "cell_type": "code",
   "execution_count": 20,
   "id": "1ab6e8c3-fea2-46d5-8aac-1ee6e4e8e8b4",
   "metadata": {},
   "outputs": [
    {
     "data": {
      "text/html": [
       "<table>\n",
       "    <thead>\n",
       "        <tr>\n",
       "        </tr>\n",
       "    </thead>\n",
       "    <tbody>\n",
       "    </tbody>\n",
       "</table>"
      ],
      "text/plain": [
       "++\n",
       "||\n",
       "++\n",
       "++"
      ]
     },
     "execution_count": 20,
     "metadata": {},
     "output_type": "execute_result"
    }
   ],
   "source": [
    "%%sql\n",
    "CREATE TABLE\n",
    "  if NOT EXISTS coffeeshoprev_medallion.cabang_silver (\n",
    "        ID_Cabang integer ,\n",
    "        Cabang string\n",
    ")"
   ]
  },
  {
   "cell_type": "code",
   "execution_count": 19,
   "id": "540e002e-d7e6-4140-ac68-df7ff5f5360e",
   "metadata": {},
   "outputs": [
    {
     "data": {
      "text/html": [
       "<table>\n",
       "    <thead>\n",
       "        <tr>\n",
       "        </tr>\n",
       "    </thead>\n",
       "    <tbody>\n",
       "    </tbody>\n",
       "</table>"
      ],
      "text/plain": [
       "++\n",
       "||\n",
       "++\n",
       "++"
      ]
     },
     "execution_count": 19,
     "metadata": {},
     "output_type": "execute_result"
    }
   ],
   "source": [
    "%%sql\n",
    "\n",
    "drop table coffeeshoprev_medallion.cabang_silver"
   ]
  },
  {
   "cell_type": "code",
   "execution_count": 21,
   "id": "2f6d093f-b4b7-4f82-b23d-761437554af1",
   "metadata": {},
   "outputs": [],
   "source": [
    "slv_transaksi = brz_transaksi\n",
    "slv_produk = brz_produk\n",
    "slv_cabang = brz_cabang\n",
    "slv_kategori = brz_kategori"
   ]
  },
  {
   "cell_type": "code",
   "execution_count": 29,
   "id": "bce415ee-9096-4668-b7b2-4a4abe223a93",
   "metadata": {},
   "outputs": [
    {
     "name": "stderr",
     "output_type": "stream",
     "text": [
      "                                                                                "
     ]
    }
   ],
   "source": [
    "slv_transaksi.write.insertInto(\"coffeeshoprev_medallion.transaksi_silver\")"
   ]
  },
  {
   "cell_type": "code",
   "execution_count": 23,
   "id": "0b65f5e3-7991-4f68-98ee-cbb9266de0dd",
   "metadata": {},
   "outputs": [],
   "source": [
    "slv_cabang.write.insertInto(\"coffeeshoprev_medallion.cabang_silver\")"
   ]
  },
  {
   "cell_type": "code",
   "execution_count": 75,
   "id": "eb0769b1-a151-425c-a3e5-c7a390b9a09b",
   "metadata": {},
   "outputs": [
    {
     "name": "stderr",
     "output_type": "stream",
     "text": [
      "                                                                                "
     ]
    }
   ],
   "source": [
    "slv_produk.write.insertInto(\"coffeeshoprev_medallion.produk_silver\")\n",
    "\n",
    "slv_kategori.write.insertInto(\"coffeeshoprev_medallion.kategori_silver\")"
   ]
  },
  {
   "cell_type": "code",
   "execution_count": 30,
   "id": "ff1f9b27-8338-4af3-9d12-93eaf95aa4ee",
   "metadata": {},
   "outputs": [
    {
     "data": {
      "text/html": [
       "<table>\n",
       "    <thead>\n",
       "        <tr>\n",
       "            <th>ID_Transaksi</th>\n",
       "            <th>No_Telephone</th>\n",
       "            <th>Customer_ID</th>\n",
       "            <th>Waktu_Transaksi</th>\n",
       "            <th>ID_Cabang</th>\n",
       "            <th>ID_Product</th>\n",
       "            <th>Harga</th>\n",
       "            <th>Quantity</th>\n",
       "            <th>Total_Harga</th>\n",
       "            <th>Jenis_Transaksi</th>\n",
       "        </tr>\n",
       "    </thead>\n",
       "    <tbody>\n",
       "        <tr>\n",
       "            <td>d4988638-3449-42be-8cae-f2adccc37954</td>\n",
       "            <td>85733677526</td>\n",
       "            <td>d5bd2bf1-0611-4211-8124-e767501b2293</td>\n",
       "            <td>2025-01-02 16:03:31.078623</td>\n",
       "            <td>5</td>\n",
       "            <td>203</td>\n",
       "            <td>40250</td>\n",
       "            <td>1</td>\n",
       "            <td>40250</td>\n",
       "            <td>QRis</td>\n",
       "        </tr>\n",
       "        <tr>\n",
       "            <td>d4988638-3449-42be-8cae-f2adccc37954</td>\n",
       "            <td>85733677526</td>\n",
       "            <td>d5bd2bf1-0611-4211-8124-e767501b2293</td>\n",
       "            <td>2025-01-02 16:03:31.078623</td>\n",
       "            <td>5</td>\n",
       "            <td>603</td>\n",
       "            <td>49000</td>\n",
       "            <td>3</td>\n",
       "            <td>147000</td>\n",
       "            <td>QRis</td>\n",
       "        </tr>\n",
       "        <tr>\n",
       "            <td>2c2ddc21-a957-4255-97b7-0955a3f80885</td>\n",
       "            <td>85234785534</td>\n",
       "            <td>ad9af801-c7f9-4bea-b640-01e9c5badac7</td>\n",
       "            <td>2025-01-28 13:03:13.529545</td>\n",
       "            <td>9</td>\n",
       "            <td>302</td>\n",
       "            <td>31250</td>\n",
       "            <td>1</td>\n",
       "            <td>31250</td>\n",
       "            <td>Cash</td>\n",
       "        </tr>\n",
       "        <tr>\n",
       "            <td>2c2ddc21-a957-4255-97b7-0955a3f80885</td>\n",
       "            <td>85234785534</td>\n",
       "            <td>ad9af801-c7f9-4bea-b640-01e9c5badac7</td>\n",
       "            <td>2025-01-28 13:03:13.529545</td>\n",
       "            <td>9</td>\n",
       "            <td>303</td>\n",
       "            <td>31250</td>\n",
       "            <td>3</td>\n",
       "            <td>93750</td>\n",
       "            <td>Cash</td>\n",
       "        </tr>\n",
       "        <tr>\n",
       "            <td>2c2ddc21-a957-4255-97b7-0955a3f80885</td>\n",
       "            <td>85234785534</td>\n",
       "            <td>ad9af801-c7f9-4bea-b640-01e9c5badac7</td>\n",
       "            <td>2025-01-28 13:03:13.529545</td>\n",
       "            <td>9</td>\n",
       "            <td>401</td>\n",
       "            <td>36000</td>\n",
       "            <td>1</td>\n",
       "            <td>36000</td>\n",
       "            <td>Cash</td>\n",
       "        </tr>\n",
       "        <tr>\n",
       "            <td>2c2ddc21-a957-4255-97b7-0955a3f80885</td>\n",
       "            <td>85234785534</td>\n",
       "            <td>ad9af801-c7f9-4bea-b640-01e9c5badac7</td>\n",
       "            <td>2025-01-28 13:03:13.529545</td>\n",
       "            <td>9</td>\n",
       "            <td>101</td>\n",
       "            <td>32500</td>\n",
       "            <td>3</td>\n",
       "            <td>97500</td>\n",
       "            <td>Cash</td>\n",
       "        </tr>\n",
       "        <tr>\n",
       "            <td>904df7f9-0c6a-4da6-91b9-2e85af6f4405</td>\n",
       "            <td>85743085420</td>\n",
       "            <td>93f62f8c-3b3c-460c-8546-cdae67f8850b</td>\n",
       "            <td>2025-01-12 20:52:14.671158</td>\n",
       "            <td>1</td>\n",
       "            <td>302</td>\n",
       "            <td>31250</td>\n",
       "            <td>1</td>\n",
       "            <td>31250</td>\n",
       "            <td>QRis</td>\n",
       "        </tr>\n",
       "        <tr>\n",
       "            <td>904df7f9-0c6a-4da6-91b9-2e85af6f4405</td>\n",
       "            <td>85743085420</td>\n",
       "            <td>93f62f8c-3b3c-460c-8546-cdae67f8850b</td>\n",
       "            <td>2025-01-12 20:52:14.671158</td>\n",
       "            <td>1</td>\n",
       "            <td>301</td>\n",
       "            <td>37500</td>\n",
       "            <td>2</td>\n",
       "            <td>75000</td>\n",
       "            <td>QRis</td>\n",
       "        </tr>\n",
       "        <tr>\n",
       "            <td>315e3f4d-5d73-4d0e-81c0-bec41dbe5c89</td>\n",
       "            <td>87840037806</td>\n",
       "            <td>1fdaa29b-48cc-4770-8cba-3d902c0fc353</td>\n",
       "            <td>2025-01-16 13:52:32.167531</td>\n",
       "            <td>8</td>\n",
       "            <td>103</td>\n",
       "            <td>26000</td>\n",
       "            <td>1</td>\n",
       "            <td>26000</td>\n",
       "            <td>QRis</td>\n",
       "        </tr>\n",
       "        <tr>\n",
       "            <td>315e3f4d-5d73-4d0e-81c0-bec41dbe5c89</td>\n",
       "            <td>87840037806</td>\n",
       "            <td>1fdaa29b-48cc-4770-8cba-3d902c0fc353</td>\n",
       "            <td>2025-01-16 13:52:32.167531</td>\n",
       "            <td>8</td>\n",
       "            <td>101</td>\n",
       "            <td>32500</td>\n",
       "            <td>3</td>\n",
       "            <td>97500</td>\n",
       "            <td>QRis</td>\n",
       "        </tr>\n",
       "    </tbody>\n",
       "</table>"
      ],
      "text/plain": [
       "+--------------------------------------+--------------+--------------------------------------+----------------------------+-----------+------------+-------+----------+-------------+-----------------+\n",
       "|                         ID_Transaksi | No_Telephone |                          Customer_ID |            Waktu_Transaksi | ID_Cabang | ID_Product | Harga | Quantity | Total_Harga | Jenis_Transaksi |\n",
       "+--------------------------------------+--------------+--------------------------------------+----------------------------+-----------+------------+-------+----------+-------------+-----------------+\n",
       "| d4988638-3449-42be-8cae-f2adccc37954 |  85733677526 | d5bd2bf1-0611-4211-8124-e767501b2293 | 2025-01-02 16:03:31.078623 |         5 |        203 | 40250 |        1 |       40250 |            QRis |\n",
       "| d4988638-3449-42be-8cae-f2adccc37954 |  85733677526 | d5bd2bf1-0611-4211-8124-e767501b2293 | 2025-01-02 16:03:31.078623 |         5 |        603 | 49000 |        3 |      147000 |            QRis |\n",
       "| 2c2ddc21-a957-4255-97b7-0955a3f80885 |  85234785534 | ad9af801-c7f9-4bea-b640-01e9c5badac7 | 2025-01-28 13:03:13.529545 |         9 |        302 | 31250 |        1 |       31250 |            Cash |\n",
       "| 2c2ddc21-a957-4255-97b7-0955a3f80885 |  85234785534 | ad9af801-c7f9-4bea-b640-01e9c5badac7 | 2025-01-28 13:03:13.529545 |         9 |        303 | 31250 |        3 |       93750 |            Cash |\n",
       "| 2c2ddc21-a957-4255-97b7-0955a3f80885 |  85234785534 | ad9af801-c7f9-4bea-b640-01e9c5badac7 | 2025-01-28 13:03:13.529545 |         9 |        401 | 36000 |        1 |       36000 |            Cash |\n",
       "| 2c2ddc21-a957-4255-97b7-0955a3f80885 |  85234785534 | ad9af801-c7f9-4bea-b640-01e9c5badac7 | 2025-01-28 13:03:13.529545 |         9 |        101 | 32500 |        3 |       97500 |            Cash |\n",
       "| 904df7f9-0c6a-4da6-91b9-2e85af6f4405 |  85743085420 | 93f62f8c-3b3c-460c-8546-cdae67f8850b | 2025-01-12 20:52:14.671158 |         1 |        302 | 31250 |        1 |       31250 |            QRis |\n",
       "| 904df7f9-0c6a-4da6-91b9-2e85af6f4405 |  85743085420 | 93f62f8c-3b3c-460c-8546-cdae67f8850b | 2025-01-12 20:52:14.671158 |         1 |        301 | 37500 |        2 |       75000 |            QRis |\n",
       "| 315e3f4d-5d73-4d0e-81c0-bec41dbe5c89 |  87840037806 | 1fdaa29b-48cc-4770-8cba-3d902c0fc353 | 2025-01-16 13:52:32.167531 |         8 |        103 | 26000 |        1 |       26000 |            QRis |\n",
       "| 315e3f4d-5d73-4d0e-81c0-bec41dbe5c89 |  87840037806 | 1fdaa29b-48cc-4770-8cba-3d902c0fc353 | 2025-01-16 13:52:32.167531 |         8 |        101 | 32500 |        3 |       97500 |            QRis |\n",
       "+--------------------------------------+--------------+--------------------------------------+----------------------------+-----------+------------+-------+----------+-------------+-----------------+"
      ]
     },
     "execution_count": 30,
     "metadata": {},
     "output_type": "execute_result"
    }
   ],
   "source": [
    "%%sql\n",
    "\n",
    "select * from coffeeshoprev_medallion.transaksi_silver limit 10"
   ]
  },
  {
   "cell_type": "markdown",
   "id": "a9e0d35e-6592-4070-ae7b-83a92fd3895a",
   "metadata": {},
   "source": [
    "# Medallion architecture (Gold)"
   ]
  },
  {
   "cell_type": "code",
   "execution_count": 24,
   "id": "bc1986d5-83d7-4f84-b72b-6d77aece46dc",
   "metadata": {},
   "outputs": [
    {
     "name": "stdout",
     "output_type": "stream",
     "text": [
      "Contoh isi dim_kategori_gold:\n",
      "+-----------+--------+\n",
      "|ID_Kategori|Kategori|\n",
      "+-----------+--------+\n",
      "|          1|  Coffee|\n",
      "|          2|     Tea|\n",
      "|          3|    Milk|\n",
      "|          4|   Other|\n",
      "|          5|   Snack|\n",
      "+-----------+--------+\n",
      "only showing top 5 rows\n",
      "\n",
      "Contoh isi dim_cabang_gold:\n",
      "+---------+--------+\n",
      "|ID_Cabang|  Cabang|\n",
      "+---------+--------+\n",
      "|        1| Bandung|\n",
      "|        2| Cirebon|\n",
      "|        3|   Depok|\n",
      "|        4| Jakarta|\n",
      "|        5|Sumedang|\n",
      "+---------+--------+\n",
      "only showing top 5 rows\n",
      "\n"
     ]
    }
   ],
   "source": [
    "# Membuat DataFrame dim_kategori_gold\n",
    "dim_kategori_gold_df = df_kategori.select(\"ID_Kategori\", \"Kategori\")\n",
    "\n",
    "# Membuat DataFrame dim_cabang_gold\n",
    "dim_cabang_gold_df = df_cabang.select(\"ID_Cabang\", \"Cabang\")\n",
    "\n",
    "# Tampilkan contoh isinya\n",
    "print(\"Contoh isi dim_kategori_gold:\")\n",
    "dim_kategori_gold_df.show(5)\n",
    "\n",
    "print(\"Contoh isi dim_cabang_gold:\")\n",
    "dim_cabang_gold_df.show(5)"
   ]
  },
  {
   "cell_type": "code",
   "execution_count": 32,
   "id": "7375e202-bc98-4d02-913d-4546e260477f",
   "metadata": {},
   "outputs": [
    {
     "name": "stdout",
     "output_type": "stream",
     "text": [
      "Skema fakta_penjualan_agregat_harian_gold:\n",
      "root\n",
      " |-- Tanggal: date (nullable = true)\n",
      " |-- ID_Cabang: integer (nullable = true)\n",
      " |-- ID_Kategori: integer (nullable = true)\n",
      " |-- Jumlah_Transaksi_Akurat: long (nullable = true)\n",
      " |-- Jumlah_Barang_Terjual: long (nullable = true)\n",
      " |-- Total_Nilai_Penjualan: long (nullable = true)\n",
      " |-- Total_Keuntungan: long (nullable = true)\n",
      "\n",
      "\n",
      "Contoh isi fakta_penjualan_agregat_harian_gold:\n"
     ]
    },
    {
     "name": "stderr",
     "output_type": "stream",
     "text": [
      "[Stage 28:>                                                       (0 + 16) / 17]"
     ]
    },
    {
     "name": "stdout",
     "output_type": "stream",
     "text": [
      "+----------+---------+-----------+-----------------------+---------------------+---------------------+----------------+\n",
      "|   Tanggal|ID_Cabang|ID_Kategori|Jumlah_Transaksi_Akurat|Jumlah_Barang_Terjual|Total_Nilai_Penjualan|Total_Keuntungan|\n",
      "+----------+---------+-----------+-----------------------+---------------------+---------------------+----------------+\n",
      "|2025-01-01|        1|          6|                    239|                 4479|            230125000|        65750000|\n",
      "|2025-01-01|        1|          4|                    368|                 4299|            155550000|        25925000|\n",
      "|2025-01-01|        1|          5|                    308|                 4509|            150896250|        39121250|\n",
      "|2025-01-01|        1|          2|                   1689|                 8407|            226574500|        30149500|\n",
      "|2025-01-01|        1|          3|                   1060|                 8594|            286218750|        57243750|\n",
      "|2025-01-01|        1|          1|                   4872|                11987|            388817000|        89727000|\n",
      "|2025-01-01|        2|          4|                    179|                 2199|             78822000|        13137000|\n",
      "|2025-01-01|        2|          6|                    101|                 2186|            112378000|        32108000|\n",
      "|2025-01-01|        2|          2|                    846|                 4217|            112117500|        14942500|\n",
      "|2025-01-01|        2|          5|                    138|                 2318|             77935500|        20205500|\n",
      "|2025-01-01|        2|          1|                   2460|                 6196|            201519500|        46504500|\n",
      "|2025-01-01|        2|          3|                    528|                 4251|            141150000|        28230000|\n",
      "|2025-01-01|        3|          6|                    112|                 2278|            117509000|        33574000|\n",
      "|2025-01-01|        3|          4|                    201|                 2233|             80502000|        13417000|\n",
      "|2025-01-01|        3|          5|                    143|                 2256|             76072500|        19722500|\n",
      "|2025-01-01|        3|          1|                   2440|                 6242|            203398000|        46938000|\n",
      "|2025-01-01|        3|          2|                    886|                 4181|            111707750|        14882750|\n",
      "|2025-01-01|        3|          3|                    536|                 4412|            146781250|        29356250|\n",
      "|2025-01-01|        4|          2|                   2669|                13039|            352641750|        46931750|\n",
      "|2025-01-01|        4|          3|                   1497|                12924|            430612500|        86122500|\n",
      "+----------+---------+-----------+-----------------------+---------------------+---------------------+----------------+\n",
      "only showing top 20 rows\n",
      "\n"
     ]
    },
    {
     "name": "stderr",
     "output_type": "stream",
     "text": [
      "                                                                                "
     ]
    }
   ],
   "source": [
    "# Import library yang diperlukan\n",
    "from pyspark.sql import functions as F\n",
    "from pyspark.sql.window import Window\n",
    "\n",
    "# Diasumsikan df_transaksi dan df_product sudah ada\n",
    "# =============================================================================\n",
    "# BAGIAN 1: WINDOW FUNCTION (TIDAK BERUBAH)\n",
    "# =============================================================================\n",
    "\n",
    "# 1. Definisikan Window untuk menandai setiap transaksi unik\n",
    "window_spec = Window.partitionBy(\"t.ID_Transaksi\").orderBy(\"t.ID_Product\")\n",
    "\n",
    "# 2. Lakukan join dan tambahkan kolom 'penanda_transaksi'\n",
    "df_joined_with_marker = (\n",
    "    df_transaksi.alias(\"t\")\n",
    "    .join(\n",
    "        df_product.alias(\"p\"),\n",
    "        F.col(\"t.ID_Product\") == F.col(\"p.ID_Produk\"),\n",
    "        \"left\"\n",
    "    )\n",
    "    .withColumn(\"penanda_transaksi\", F.when(F.row_number().over(window_spec) == 1, 1).otherwise(0))\n",
    ")\n",
    "\n",
    "# =============================================================================\n",
    "# MODIFIKASI: DataFrame Fakta dengan Agregasi per TANGGAL (bukan Tahun, Bulan, Hari)\n",
    "# =============================================================================\n",
    "\n",
    "fakta_penjualan_agregat_harian_gold_df = (\n",
    "    df_joined_with_marker\n",
    "    \n",
    "    # >>>>>>>> PERUBAHAN 1: Buat satu kolom Tanggal dari Timestamp <<<<<<<<\n",
    "    # Menggunakan to_date untuk mengonversi timestamp menjadi date.\n",
    "    .withColumn(\"Tanggal\", F.to_date(F.col(\"t.Waktu_Transaksi\")))\n",
    "    .withColumn(\"Keuntungan\", F.col(\"t.Total_Harga\") - (F.col(\"p.Base_Price\") * F.col(\"t.Quantity\")))\n",
    "\n",
    "    # >>>>>>>> PERUBAHAN 2: Kelompokkan berdasarkan kolom 'Tanggal' <<<<<<<<\n",
    "    .groupBy(\n",
    "        \"Tanggal\",  # Menggantikan Tahun, Bulan, dan Hari\n",
    "        F.col(\"t.ID_Cabang\"),\n",
    "        F.col(\"p.ID_Kategori\")\n",
    "    )\n",
    "    # Logika agregasi tetap sama\n",
    "    .agg(\n",
    "        F.sum(\"penanda_transaksi\").alias(\"Jumlah_Transaksi_Akurat\"),\n",
    "        F.sum(\"t.Quantity\").alias(\"Jumlah_Barang_Terjual\"),\n",
    "        F.sum(\"t.Total_Harga\").alias(\"Total_Nilai_Penjualan\"),\n",
    "        F.sum(\"Keuntungan\").alias(\"Total_Keuntungan\")\n",
    "    )\n",
    "    # >>>>>>>> PERUBAHAN 3: Urutkan berdasarkan 'Tanggal' <<<<<<<<\n",
    "    .orderBy(\"Tanggal\", \"ID_Cabang\")\n",
    ")\n",
    "\n",
    "\n",
    "# Tampilkan skema dan contoh hasil DataFrame Fakta yang baru\n",
    "print(\"Skema fakta_penjualan_agregat_harian_gold:\")\n",
    "fakta_penjualan_agregat_harian_gold_df.printSchema()\n",
    "\n",
    "print(\"\\nContoh isi fakta_penjualan_agregat_harian_gold:\")\n",
    "fakta_penjualan_agregat_harian_gold_df.show()"
   ]
  },
  {
   "cell_type": "code",
   "execution_count": 33,
   "id": "ab8a5653-47ca-47fa-aac9-77f05e4158f5",
   "metadata": {},
   "outputs": [
    {
     "data": {
      "text/html": [
       "<table>\n",
       "    <thead>\n",
       "        <tr>\n",
       "        </tr>\n",
       "    </thead>\n",
       "    <tbody>\n",
       "    </tbody>\n",
       "</table>"
      ],
      "text/plain": [
       "++\n",
       "||\n",
       "++\n",
       "++"
      ]
     },
     "execution_count": 33,
     "metadata": {},
     "output_type": "execute_result"
    }
   ],
   "source": [
    "%%sql\n",
    "CREATE TABLE\n",
    "    IF NOT EXISTS coffeeshoprev_medallion.fakta_penjualan_agregat_harian_gold (\n",
    "      Tanggal DATE,\n",
    "      ID_Cabang INTEGER,\n",
    "      ID_Kategori INTEGER,\n",
    "      Jumlah_Transaksi BIGINT,\n",
    "      Jumlah_Barang_Terjual BIGINT,\n",
    "      Total_Nilai_Penjualan BIGINT,\n",
    "      Total_Keuntungan BIGINT\n",
    ");"
   ]
  },
  {
   "cell_type": "code",
   "execution_count": 38,
   "id": "dbddfe5f-be16-4765-a5ce-52c8a2e0b1a9",
   "metadata": {},
   "outputs": [
    {
     "data": {
      "text/html": [
       "<table>\n",
       "    <thead>\n",
       "        <tr>\n",
       "            <th>namespace</th>\n",
       "            <th>tableName</th>\n",
       "            <th>isTemporary</th>\n",
       "        </tr>\n",
       "    </thead>\n",
       "    <tbody>\n",
       "        <tr>\n",
       "            <td>coffeeshoprev_medallion</td>\n",
       "            <td>Komposisi_Penjualan_Gold</td>\n",
       "            <td>False</td>\n",
       "        </tr>\n",
       "        <tr>\n",
       "            <td>coffeeshoprev_medallion</td>\n",
       "            <td>cabang_bronze</td>\n",
       "            <td>False</td>\n",
       "        </tr>\n",
       "        <tr>\n",
       "            <td>coffeeshoprev_medallion</td>\n",
       "            <td>cabang_silver</td>\n",
       "            <td>False</td>\n",
       "        </tr>\n",
       "        <tr>\n",
       "            <td>coffeeshoprev_medallion</td>\n",
       "            <td>fakta_penjualan_agregat_harian_gold</td>\n",
       "            <td>False</td>\n",
       "        </tr>\n",
       "        <tr>\n",
       "            <td>coffeeshoprev_medallion</td>\n",
       "            <td>kategori_bronze</td>\n",
       "            <td>False</td>\n",
       "        </tr>\n",
       "        <tr>\n",
       "            <td>coffeeshoprev_medallion</td>\n",
       "            <td>kategori_silver</td>\n",
       "            <td>False</td>\n",
       "        </tr>\n",
       "        <tr>\n",
       "            <td>coffeeshoprev_medallion</td>\n",
       "            <td>produk_bronze</td>\n",
       "            <td>False</td>\n",
       "        </tr>\n",
       "        <tr>\n",
       "            <td>coffeeshoprev_medallion</td>\n",
       "            <td>produk_silver</td>\n",
       "            <td>False</td>\n",
       "        </tr>\n",
       "        <tr>\n",
       "            <td>coffeeshoprev_medallion</td>\n",
       "            <td>transaksi_bronze</td>\n",
       "            <td>False</td>\n",
       "        </tr>\n",
       "        <tr>\n",
       "            <td>coffeeshoprev_medallion</td>\n",
       "            <td>transaksi_silver</td>\n",
       "            <td>False</td>\n",
       "        </tr>\n",
       "    </tbody>\n",
       "</table>"
      ],
      "text/plain": [
       "+-------------------------+-------------------------------------+-------------+\n",
       "|               namespace |                           tableName | isTemporary |\n",
       "+-------------------------+-------------------------------------+-------------+\n",
       "| coffeeshoprev_medallion |            Komposisi_Penjualan_Gold |       False |\n",
       "| coffeeshoprev_medallion |                       cabang_bronze |       False |\n",
       "| coffeeshoprev_medallion |                       cabang_silver |       False |\n",
       "| coffeeshoprev_medallion | fakta_penjualan_agregat_harian_gold |       False |\n",
       "| coffeeshoprev_medallion |                     kategori_bronze |       False |\n",
       "| coffeeshoprev_medallion |                     kategori_silver |       False |\n",
       "| coffeeshoprev_medallion |                       produk_bronze |       False |\n",
       "| coffeeshoprev_medallion |                       produk_silver |       False |\n",
       "| coffeeshoprev_medallion |                    transaksi_bronze |       False |\n",
       "| coffeeshoprev_medallion |                    transaksi_silver |       False |\n",
       "+-------------------------+-------------------------------------+-------------+"
      ]
     },
     "execution_count": 38,
     "metadata": {},
     "output_type": "execute_result"
    }
   ],
   "source": [
    "%%sql\n",
    "\n",
    "show tables in coffeeshoprev_medallion"
   ]
  },
  {
   "cell_type": "code",
   "execution_count": 36,
   "id": "7d0fe944-7bac-4e05-a20c-77374cbd483f",
   "metadata": {},
   "outputs": [
    {
     "name": "stderr",
     "output_type": "stream",
     "text": [
      "                                                                                "
     ]
    }
   ],
   "source": [
    "fakta_penjualan_agregat_harian_gold_df.write.insertInto(\"coffeeshoprev_medallion.fakta_penjualan_agregat_harian_gold\")"
   ]
  },
  {
   "cell_type": "code",
   "execution_count": 34,
   "id": "cf4e994a-06e6-4bd7-b40d-0e2385a26f75",
   "metadata": {},
   "outputs": [
    {
     "name": "stdout",
     "output_type": "stream",
     "text": [
      "Ringkasan Total Keseluruhan:\n"
     ]
    },
    {
     "name": "stderr",
     "output_type": "stream",
     "text": [
      "[Stage 35:======>                                                 (2 + 15) / 17]"
     ]
    },
    {
     "name": "stdout",
     "output_type": "stream",
     "text": [
      "+---------------+--------------------+------------------------+-------------------+\n",
      "|total_transaksi|total_barang_terjual|total_nilai_penjualan_rp|total_keuntungan_rp|\n",
      "+---------------+--------------------+------------------------+-------------------+\n",
      "|        1000000|             5002081|            170071655000|        36363445000|\n",
      "+---------------+--------------------+------------------------+-------------------+\n",
      "\n"
     ]
    },
    {
     "name": "stderr",
     "output_type": "stream",
     "text": [
      "                                                                                "
     ]
    }
   ],
   "source": [
    "total_summary = (\n",
    "    fakta_penjualan_agregat_harian_gold_df.agg(\n",
    "        F.sum(\"Jumlah_Transaksi_Akurat\").alias(\"total_transaksi\"),\n",
    "        F.sum(\"Jumlah_Barang_Terjual\").alias(\"total_barang_terjual\"),\n",
    "        F.sum(\"Total_Nilai_Penjualan\").alias(\"total_nilai_penjualan_rp\"),\n",
    "        F.sum(\"Total_Keuntungan\").alias(\"total_keuntungan_rp\")\n",
    "    )\n",
    ")\n",
    "print(\"Ringkasan Total Keseluruhan:\")\n",
    "total_summary.show()"
   ]
  },
  {
   "cell_type": "code",
   "execution_count": 35,
   "id": "abde5443-2790-4a35-89cd-816005cfcbaa",
   "metadata": {},
   "outputs": [
    {
     "name": "stdout",
     "output_type": "stream",
     "text": [
      "Komposisi Penjualan per Kategori:\n"
     ]
    },
    {
     "name": "stderr",
     "output_type": "stream",
     "text": [
      "[Stage 45:===>                                                    (1 + 15) / 16]"
     ]
    },
    {
     "name": "stdout",
     "output_type": "stream",
     "text": [
      "+--------+---------------------+---------------+\n",
      "|Kategori|jumlah_produk_terjual|nilai_penjualan|\n",
      "+--------+---------------------+---------------+\n",
      "|  Coffee|              1438193|    46736813500|\n",
      "|    Milk|              1002100|    33401425000|\n",
      "|     Tea|               999202|    26899503750|\n",
      "|    Food|               520964|    26722626000|\n",
      "|   Other|               519977|    18709710000|\n",
      "|   Snack|               521645|    17601576750|\n",
      "+--------+---------------------+---------------+\n",
      "\n"
     ]
    },
    {
     "name": "stderr",
     "output_type": "stream",
     "text": [
      "                                                                                "
     ]
    }
   ],
   "source": [
    "komposisi_kategori = (\n",
    "    fakta_penjualan_agregat_harian_gold_df\n",
    "    .join(\n",
    "        dim_kategori_gold_df,\n",
    "        fakta_penjualan_agregat_harian_gold_df.ID_Kategori == dim_kategori_gold_df.ID_Kategori,\n",
    "        \"inner\"\n",
    "    )\n",
    "    .groupBy(\"Kategori\")\n",
    "    .agg(\n",
    "        F.sum(\"Jumlah_Barang_Terjual\").alias(\"jumlah_produk_terjual\"),\n",
    "        F.sum(\"Total_Nilai_Penjualan\").alias(\"nilai_penjualan\")\n",
    "    )\n",
    "    .orderBy(F.col(\"nilai_penjualan\").desc())\n",
    ")\n",
    "print(\"Komposisi Penjualan per Kategori:\")\n",
    "komposisi_kategori.show()"
   ]
  },
  {
   "cell_type": "code",
   "execution_count": 37,
   "id": "cd01869e-5663-4f98-8734-c998fa82fa74",
   "metadata": {},
   "outputs": [
    {
     "data": {
      "text/html": [
       "<table>\n",
       "    <thead>\n",
       "        <tr>\n",
       "        </tr>\n",
       "    </thead>\n",
       "    <tbody>\n",
       "    </tbody>\n",
       "</table>"
      ],
      "text/plain": [
       "++\n",
       "||\n",
       "++\n",
       "++"
      ]
     },
     "execution_count": 37,
     "metadata": {},
     "output_type": "execute_result"
    }
   ],
   "source": [
    "%%sql\n",
    "CREATE TABLE\n",
    "    IF NOT EXISTS coffeeshoprev_medallion.Komposisi_Penjualan_Gold (\n",
    "      Kategori string,\n",
    "      jumlah_produk_terjual BIGINT,\n",
    "      nilai_penjualan BIGINT\n",
    ");"
   ]
  },
  {
   "cell_type": "code",
   "execution_count": 38,
   "id": "ccd095cf-9b90-4a7f-8353-0e652fcc76cf",
   "metadata": {},
   "outputs": [
    {
     "name": "stderr",
     "output_type": "stream",
     "text": [
      "                                                                                "
     ]
    }
   ],
   "source": [
    "komposisi_kategori.write.insertInto(\"coffeeshoprev_medallion.Komposisi_Penjualan_Gold\")"
   ]
  },
  {
   "cell_type": "code",
   "execution_count": null,
   "id": "58b35c51-e53a-4156-8321-d3ef0e45afb2",
   "metadata": {},
   "outputs": [],
   "source": []
  }
 ],
 "metadata": {
  "kernelspec": {
   "display_name": "Python 3 (ipykernel)",
   "language": "python",
   "name": "python3"
  },
  "language_info": {
   "codemirror_mode": {
    "name": "ipython",
    "version": 3
   },
   "file_extension": ".py",
   "mimetype": "text/x-python",
   "name": "python",
   "nbconvert_exporter": "python",
   "pygments_lexer": "ipython3",
   "version": "3.11.13"
  }
 },
 "nbformat": 4,
 "nbformat_minor": 5
}
